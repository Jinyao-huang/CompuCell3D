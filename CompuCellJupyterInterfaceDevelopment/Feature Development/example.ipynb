{
 "cells": [
  {
   "cell_type": "markdown",
   "id": "3ed749b3",
   "metadata": {},
   "source": [
    "## Compucell3D Project Week 5 Progress Report\n",
    "\n",
    "### Goal:\n",
    "- Fix bugs in widget\n",
    "- Demo PottsCore and CellTypePlugin widgets with Sorting Demo (reference: Sorting Demo Notebook)\n",
    "    - Add ContactPlugin parameters to widget\n",
    "    - Add VolumePlugin widget\n",
    "    - Add Initializer widget\n",
    "\n",
    "### Progress:\n",
    "- Fixed reset bug in PottsCore widget\n",
    "- Fixed reset bug in CellTypePlugin widget\n",
    "- Bug in PluginWidget where cell types were not being updated correctly\n",
    "\n",
    "### Issues/Questions:\n",
    "- Visualization incompatible with widget"
   ]
  },
  {
   "cell_type": "code",
   "execution_count": 1,
   "id": "8c235c65",
   "metadata": {},
   "outputs": [
    {
     "data": {
      "text/html": [
       "\n",
       "    <style>\n",
       "    /* Round corners for all input boxes */\n",
       "    .widget-text input,\n",
       "    .widget-bounded-int-text input,\n",
       "    .widget-bounded-float-text input,\n",
       "    .widget-float-text input,\n",
       "    .widget-int-text input {\n",
       "        border-radius: 4px !important;\n",
       "    }\n",
       "\n",
       "    /* Round corners for dropdown/select inputs */\n",
       "    .widget-dropdown select,\n",
       "    .widget-select select {\n",
       "        border-radius: 4px !important;\n",
       "    }\n",
       "\n",
       "    /* Round corners for buttons */\n",
       "    .widget-button button,\n",
       "    .jupyter-button {\n",
       "        border-radius: 4px !important;\n",
       "    }\n",
       "\n",
       "    /* Spacing classes for layout containers */\n",
       "    .vbox-row-spacing {\n",
       "        margin: 10px 0 !important;\n",
       "    }\n",
       "\n",
       "    .hbox-item-spacing {\n",
       "        margin: 0 15px 0 0 !important;\n",
       "    }\n",
       "\n",
       "    .vbox-no-margin {\n",
       "        margin: 0 !important;\n",
       "    }\n",
       "\n",
       "    .hbox-no-margin {\n",
       "        margin: 0 !important;\n",
       "    }\n",
       "\n",
       "    .celltype-item-spacing {\n",
       "        margin: 0 0 5px 0 !important;\n",
       "    }\n",
       "\n",
       "    .small-right-spacing {\n",
       "        margin: 0 5px 0 0 !important;\n",
       "    }\n",
       "\n",
       "    /* Plugin-specific spacing classes */\n",
       "    .plugin-config-container {\n",
       "        padding: 0 0 0 0 !important;\n",
       "    }\n",
       "    .plugin-compact-container {\n",
       "        padding: 0 !important;\n",
       "        margin: 0 !important;\n",
       "    }\n",
       "    .plugin-input-spacing {\n",
       "        margin: 0 15px 0 0 !important;\n",
       "    }\n",
       "    .plugin-bottom-spacing {\n",
       "        margin: 0 0 15px 0 !important;\n",
       "    }\n",
       "    .plugin-checkbox-bottom-spacing {\n",
       "        margin: 0 0 15px 0 !important;\n",
       "    }\n",
       "    .button-spacing {\n",
       "        margin: 10px 0 !important;\n",
       "    }\n",
       "\n",
       "    /* Error state styling with rounded corners */\n",
       "    .error-input input {\n",
       "        border: 2px solid #f44336 !important;\n",
       "        background-color: #ffebee !important;\n",
       "        box-shadow: 0 0 3px rgba(244, 67, 54, 0.3) !important;\n",
       "        border-radius: 4px !important;\n",
       "    }\n",
       "\n",
       "    .error-input input:focus {\n",
       "        border-color: #d32f2f !important;\n",
       "        box-shadow: 0 0 5px rgba(244, 67, 54, 0.5) !important;\n",
       "        border-radius: 4px !important;\n",
       "    }\n",
       "\n",
       "    .plugin-top-spacing {\n",
       "        margin-top: 10px !important;\n",
       "    }\n",
       "    </style>\n",
       "    "
      ],
      "text/plain": [
       "<IPython.core.display.HTML object>"
      ]
     },
     "metadata": {},
     "output_type": "display_data"
    }
   ],
   "source": [
    "from jupyter_widget_css import inject_jupyter_widget_css\n",
    "inject_jupyter_widget_css()"
   ]
  },
  {
   "cell_type": "markdown",
   "id": "2dab87bb",
   "metadata": {},
   "source": [
    "## Parameters for the SortingDemo Simulation\n",
    "\n",
    "---\n",
    "\n",
    "## Summary Table\n",
    "\n",
    "| Section         | What to Set                                    |\n",
    "|-----------------|------------------------------------------------|\n",
    "| Metadata        | (Simulation name, description, etc.)           |\n",
    "| Potts Core      | Lattice size, neighbor order                   |\n",
    "| Cell Types      | List of cell types                             |\n",
    "| Volume Plugin   | Target volume and lambda for each cell type    |\n",
    "| Contact Plugin  | Contact energies for all relevant type pairs   |\n",
    "| Initializer     | Blob region(s) with geometry and cell types    |\n",
    "\n",
    "### 1. **Metadata**\n",
    "- (Usually includes simulation name, description, etc. — not explicitly shown in the demo, but typically present.)\n",
    "\n",
    "---\n",
    "\n",
    "### 2. **Potts Core**\n",
    "\n",
    "| Parameter        | Value   | Description                                 |\n",
    "|------------------|---------|---------------------------------------------|\n",
    "| dim_x          | 100     | Lattice size in X                           |\n",
    "| dim_y          | 100     | Lattice size in Y                           |\n",
    "| neighbor_order | 2       | Neighborhood order (second-order neighbors) |\n",
    "\n",
    "---\n",
    "\n",
    "### 3. **Cell Types**\n",
    "\n",
    "| Cell Type        |\n",
    "|------------------|\n",
    "| Condensing       |\n",
    "| NonCondensing    |\n",
    "\n",
    "---\n",
    "\n",
    "### 4. **Volume Constraint (VolumePlugin)**\n",
    "\n",
    "| Cell Type        | Target Volume | Lambda Volume |\n",
    "|------------------|--------------|--------------|\n",
    "| Condensing       | 25           | 2            |\n",
    "| NonCondensing    | 25           | 2            |\n",
    "\n",
    "---\n",
    "\n",
    "### 5. **Contact (Adhesion) Energies (ContactPlugin)**\n",
    "\n",
    "| Type 1        | Type 2        | Energy |\n",
    "|---------------|---------------|--------|\n",
    "| Medium        | Condensing    | 16     |\n",
    "| Medium        | NonCondensing | 16     |\n",
    "| Condensing    | Condensing    | 2      |\n",
    "| Condensing    | NonCondensing | 11     |\n",
    "| NonCondensing | NonCondensing | 16     |\n",
    "\n",
    "---\n",
    "\n",
    "### 6. **Initializer (BlobInitializer)**\n",
    "\n",
    "| Region | Width | Radius | Center        | Cell Types                       |\n",
    "|--------|-------|--------|---------------|----------------------------------|\n",
    "| 1      | 5     | 20     | (50, 50, 0)   | Condensing, NonCondensing        |"
   ]
  },
  {
   "cell_type": "code",
   "execution_count": 2,
   "id": "63d42a93",
   "metadata": {},
   "outputs": [
    {
     "data": {
      "application/vnd.jupyter.widget-view+json": {
       "model_id": "5bf9885ca9f341c68e06899a0e1e6b6e",
       "version_major": 2,
       "version_minor": 0
      },
      "text/plain": [
       "VBox(children=(Tab(children=(VBox(children=(VBox(children=(HTML(value='<b>Simulation Metadata</b>', layout=Lay…"
      ]
     },
     "metadata": {},
     "output_type": "display_data"
    }
   ],
   "source": [
    "from Spec_UI import SpecificationSetupUI\n",
    "\n",
    "ui = SpecificationSetupUI()"
   ]
  },
  {
   "cell_type": "code",
   "execution_count": 4,
   "id": "8775ef24",
   "metadata": {},
   "outputs": [
    {
     "name": "stdout",
     "output_type": "stream",
     "text": [
      "[<cc3d.core.PyCoreSpecs.Metadata object at 0x0000022334F86BF0>, <cc3d.core.PyCoreSpecs.PottsCore object at 0x0000022334F864D0>, <cc3d.core.PyCoreSpecs.CellTypePlugin object at 0x0000022334F86290>, <cc3d.core.PyCoreSpecs.VolumePlugin object at 0x0000022334F85B10>, <cc3d.core.PyCoreSpecs.ContactPlugin object at 0x0000022334F85C00>, <cc3d.core.PyCoreSpecs.BlobInitializer object at 0x0000022334F84FA0>]\n"
     ]
    }
   ],
   "source": [
    "print(ui.specs)"
   ]
  },
  {
   "cell_type": "code",
   "execution_count": 3,
   "id": "93b6b59f",
   "metadata": {},
   "outputs": [
    {
     "name": "stdout",
     "output_type": "stream",
     "text": [
      "['Condensing', 'NonCondensing']\n"
     ]
    }
   ],
   "source": [
    "from cc3d.core.PyCoreSpecs import BlobInitializer\n",
    "\n",
    "specs = [\n",
    "    ui.metadata,\n",
    "    ui.potts_core,\n",
    "    ui.cell_type_plugin\n",
    "]\n",
    "\n",
    "cell_types = [ui.cell_type_plugin.cell_types[1], ui.cell_type_plugin.cell_types[2]]\n",
    "\n",
    "blob_init_specs = BlobInitializer()\n",
    "blob_init_specs.region_new(width=5, radius=20, center=(50, 50, 0), cell_types=cell_types)\n",
    "specs.append(blob_init_specs)\n",
    "\n",
    "print(cell_types)"
   ]
  },
  {
   "cell_type": "code",
   "execution_count": 4,
   "id": "791cf9e5",
   "metadata": {},
   "outputs": [],
   "source": [
    "\n",
    "from cc3d.core.PyCoreSpecs import ContactPlugin\n",
    "\n",
    "contact_specs = ContactPlugin(2)\n",
    "contact_specs.param_new(type_1=\"Medium\", type_2=cell_types[0], energy=16)\n",
    "contact_specs.param_new(type_1=\"Medium\", type_2=cell_types[1], energy=16)\n",
    "contact_specs.param_new(type_1=cell_types[0], type_2=cell_types[0], energy=2)\n",
    "contact_specs.param_new(type_1=cell_types[0], type_2=cell_types[1], energy=11)\n",
    "contact_specs.param_new(type_1=cell_types[1], type_2=cell_types[1], energy=16)\n",
    "specs.append(contact_specs)\n"
   ]
  },
  {
   "cell_type": "code",
   "execution_count": 8,
   "id": "4bb30a04",
   "metadata": {},
   "outputs": [
    {
     "name": "stdout",
     "output_type": "stream",
     "text": [
      "WILL RUN SIMULATION FROM BEGINNING\n"
     ]
    },
    {
     "data": {
      "application/vnd.jupyter.widget-view+json": {
       "model_id": "a6c5268f46164506a80877258dd9e02e",
       "version_major": 2,
       "version_minor": 0
      },
      "text/plain": [
       "CC3DViewInteractiveWidget(height=600, layout=Layout(height='auto', width='100%'), width=600)"
      ]
     },
     "metadata": {},
     "output_type": "display_data"
    },
    {
     "data": {
      "text/plain": [
       "None"
      ]
     },
     "metadata": {},
     "output_type": "display_data"
    },
    {
     "data": {
      "application/vnd.jupyter.widget-view+json": {
       "model_id": "da7261ad36414104add4ae12a42cc59b",
       "version_major": 2,
       "version_minor": 0
      },
      "text/plain": [
       "ToggleButton(value=False, description='Run Simulation')"
      ]
     },
     "metadata": {},
     "output_type": "display_data"
    }
   ],
   "source": [
    "from cc3d.CompuCellSetup.CC3DCaller import CC3DSimService\n",
    "cc3d_sim = CC3DSimService()\n",
    "cc3d_sim.register_specs(specs)\n",
    "cc3d_sim.run()\n",
    "cc3d_sim.init()\n",
    "cc3d_sim.start()\n",
    "vis_widget = cc3d_sim.visualize().show()\n",
    "from IPython.display import display\n",
    "display(vis_widget)\n",
    "display(cc3d_sim.jupyter_run_button())"
   ]
  },
  {
   "cell_type": "code",
   "execution_count": 11,
   "id": "ddbb24ce",
   "metadata": {},
   "outputs": [
    {
     "data": {
      "application/vnd.jupyter.widget-view+json": {
       "model_id": "e8a52de5af724da5a42c184b48d32388",
       "version_major": 2,
       "version_minor": 0
      },
      "text/plain": [
       "HBox(children=(VBox(children=(Button(description='Tab 1', layout=Layout(width='100%'), style=ButtonStyle()), B…"
      ]
     },
     "metadata": {},
     "output_type": "display_data"
    }
   ],
   "source": [
    "# Testing vertical tabs\n",
    "import ipywidgets as widgets\n",
    "from IPython.display import display\n",
    "\n",
    "# Create content for each tab\n",
    "out1 = widgets.Output()\n",
    "out2 = widgets.Output()\n",
    "out3 = widgets.Output()\n",
    "\n",
    "with out1:\n",
    "    print(\"Content of Tab 1\")\n",
    "\n",
    "with out2:\n",
    "    print(\"Content of Tab 2\")\n",
    "\n",
    "with out3:\n",
    "    print(\"Content of Tab 3\")\n",
    "\n",
    "# Create individual buttons instead of ToggleButtons for more control\n",
    "tab1_btn = widgets.Button(description='Tab 1', layout=widgets.Layout(width='100%'))\n",
    "tab2_btn = widgets.Button(description='Tab 2', layout=widgets.Layout(width='100%'))\n",
    "tab3_btn = widgets.Button(description='Tab 3', layout=widgets.Layout(width='100%'))\n",
    "\n",
    "# Put them into a VBox so they stack tightly\n",
    "tabs_box = widgets.VBox([tab1_btn, tab2_btn, tab3_btn], layout=widgets.Layout(width='120px'))\n",
    "\n",
    "# Output area\n",
    "content_area = widgets.Output()\n",
    "\n",
    "# Function to switch content\n",
    "def show_tab(tab):\n",
    "    content_area.clear_output()\n",
    "    with content_area:\n",
    "        if tab == 1:\n",
    "            display(out1)\n",
    "        elif tab == 2:\n",
    "            display(out2)\n",
    "        elif tab == 3:\n",
    "            display(out3)\n",
    "\n",
    "# Attach callbacks\n",
    "tab1_btn.on_click(lambda b: show_tab(1))\n",
    "tab2_btn.on_click(lambda b: show_tab(2))\n",
    "tab3_btn.on_click(lambda b: show_tab(3))\n",
    "\n",
    "# Layout the tabs and content\n",
    "ui = widgets.HBox([tabs_box, content_area])\n",
    "\n",
    "# Display\n",
    "display(ui)\n",
    "\n",
    "# Initialize first tab\n",
    "show_tab(1)\n"
   ]
  },
  {
   "cell_type": "code",
   "execution_count": 12,
   "id": "21f0784e",
   "metadata": {},
   "outputs": [
    {
     "name": "stdout",
     "output_type": "stream",
     "text": [
      "Plugin: AdhesionFlexPlugin\n"
     ]
    },
    {
     "data": {
      "application/vnd.jupyter.widget-view+json": {
       "model_id": "35fdba221f8c427a8aa97a8ef9ad0e94",
       "version_major": 2,
       "version_minor": 0
      },
      "text/plain": [
       "Text(value='1', description='neighbor_order')"
      ]
     },
     "metadata": {},
     "output_type": "display_data"
    },
    {
     "data": {
      "application/vnd.jupyter.widget-view+json": {
       "model_id": "e2d4cb9d15354682aa0e9454ce3da9e3",
       "version_major": 2,
       "version_minor": 0
      },
      "text/plain": [
       "Text(value='[]', description='molecules')"
      ]
     },
     "metadata": {},
     "output_type": "display_data"
    },
    {
     "data": {
      "application/vnd.jupyter.widget-view+json": {
       "model_id": "1e396932390e48fa8ac67d19059c8ba2",
       "version_major": 2,
       "version_minor": 0
      },
      "text/plain": [
       "Text(value='{}', description='densities')"
      ]
     },
     "metadata": {},
     "output_type": "display_data"
    },
    {
     "data": {
      "application/vnd.jupyter.widget-view+json": {
       "model_id": "282210748ca54c028b92cbfd40d9ac13",
       "version_major": 2,
       "version_minor": 0
      },
      "text/plain": [
       "Text(value='{}', description='binding_formulas')"
      ]
     },
     "metadata": {},
     "output_type": "display_data"
    },
    {
     "name": "stdout",
     "output_type": "stream",
     "text": [
      "Plugin: BoundaryPixelTrackerPlugin\n"
     ]
    },
    {
     "data": {
      "application/vnd.jupyter.widget-view+json": {
       "model_id": "423c4f882a044c3b9a85e8e2a94c16aa",
       "version_major": 2,
       "version_minor": 0
      },
      "text/plain": [
       "Text(value='1', description='neighbor_order')"
      ]
     },
     "metadata": {},
     "output_type": "display_data"
    },
    {
     "name": "stdout",
     "output_type": "stream",
     "text": [
      "Plugin: CellTypePlugin\n"
     ]
    },
    {
     "data": {
      "application/vnd.jupyter.widget-view+json": {
       "model_id": "00268e029290488bb8227c8309b2c3c8",
       "version_major": 2,
       "version_minor": 0
      },
      "text/plain": [
       "Text(value=\"[('Medium', 0, False)]\", description='cell_types')"
      ]
     },
     "metadata": {},
     "output_type": "display_data"
    },
    {
     "name": "stdout",
     "output_type": "stream",
     "text": [
      "Plugin: CenterOfMassPlugin\n",
      "Plugin: ChemotaxisPlugin\n"
     ]
    },
    {
     "data": {
      "application/vnd.jupyter.widget-view+json": {
       "model_id": "da5c50d47c8048a6a372cd87718a21f9",
       "version_major": 2,
       "version_minor": 0
      },
      "text/plain": [
       "Text(value='{}', description='field_specs')"
      ]
     },
     "metadata": {},
     "output_type": "display_data"
    },
    {
     "name": "stdout",
     "output_type": "stream",
     "text": [
      "Plugin: ConnectivityGlobalPlugin\n"
     ]
    },
    {
     "data": {
      "application/vnd.jupyter.widget-view+json": {
       "model_id": "2296c0483f604e3a9c4e643048887381",
       "version_major": 2,
       "version_minor": 0
      },
      "text/plain": [
       "Text(value='False', description='fast')"
      ]
     },
     "metadata": {},
     "output_type": "display_data"
    },
    {
     "data": {
      "application/vnd.jupyter.widget-view+json": {
       "model_id": "edf8d5932d0846c5bba07897a6f4a3b2",
       "version_major": 2,
       "version_minor": 0
      },
      "text/plain": [
       "Text(value='[]', description='cell_types')"
      ]
     },
     "metadata": {},
     "output_type": "display_data"
    },
    {
     "name": "stdout",
     "output_type": "stream",
     "text": [
      "Plugin: ConnectivityPlugin\n",
      "Plugin: ContactPlugin\n"
     ]
    },
    {
     "data": {
      "application/vnd.jupyter.widget-view+json": {
       "model_id": "6acc4eaea91447dbb11cb86b57f56f3d",
       "version_major": 2,
       "version_minor": 0
      },
      "text/plain": [
       "Text(value='{}', description='energies')"
      ]
     },
     "metadata": {},
     "output_type": "display_data"
    },
    {
     "data": {
      "application/vnd.jupyter.widget-view+json": {
       "model_id": "d1a6001c852f4ae99be02539fae9bc34",
       "version_major": 2,
       "version_minor": 0
      },
      "text/plain": [
       "Text(value='1', description='neighbor_order')"
      ]
     },
     "metadata": {},
     "output_type": "display_data"
    },
    {
     "name": "stdout",
     "output_type": "stream",
     "text": [
      "Plugin: CurvaturePlugin\n"
     ]
    },
    {
     "data": {
      "application/vnd.jupyter.widget-view+json": {
       "model_id": "e458c9632701418ab75f1653bd34127e",
       "version_major": 2,
       "version_minor": 0
      },
      "text/plain": [
       "Text(value='{}', description='param_specs')"
      ]
     },
     "metadata": {},
     "output_type": "display_data"
    },
    {
     "data": {
      "application/vnd.jupyter.widget-view+json": {
       "model_id": "764ec74b836b41b69ce648ad62593f72",
       "version_major": 2,
       "version_minor": 0
      },
      "text/plain": [
       "Text(value='{}', description='type_spec')"
      ]
     },
     "metadata": {},
     "output_type": "display_data"
    },
    {
     "name": "stdout",
     "output_type": "stream",
     "text": [
      "Plugin: ExternalPotentialPlugin\n"
     ]
    },
    {
     "data": {
      "application/vnd.jupyter.widget-view+json": {
       "model_id": "873f4f418b7f42ef9c2505659c1e8dfd",
       "version_major": 2,
       "version_minor": 0
      },
      "text/plain": [
       "Text(value='None', description='lambda_x')"
      ]
     },
     "metadata": {},
     "output_type": "display_data"
    },
    {
     "data": {
      "application/vnd.jupyter.widget-view+json": {
       "model_id": "76cc114eb82f4c64af1b7455feeb56af",
       "version_major": 2,
       "version_minor": 0
      },
      "text/plain": [
       "Text(value='None', description='lambda_y')"
      ]
     },
     "metadata": {},
     "output_type": "display_data"
    },
    {
     "data": {
      "application/vnd.jupyter.widget-view+json": {
       "model_id": "64e3a60f6c9143c5a2403f1095e88a64",
       "version_major": 2,
       "version_minor": 0
      },
      "text/plain": [
       "Text(value='None', description='lambda_z')"
      ]
     },
     "metadata": {},
     "output_type": "display_data"
    },
    {
     "data": {
      "application/vnd.jupyter.widget-view+json": {
       "model_id": "bd99025e732d401cbd6650cf303e1c64",
       "version_major": 2,
       "version_minor": 0
      },
      "text/plain": [
       "Text(value='False', description='com_based')"
      ]
     },
     "metadata": {},
     "output_type": "display_data"
    },
    {
     "data": {
      "application/vnd.jupyter.widget-view+json": {
       "model_id": "a5d7d151eaab4dd88cfc9507324a81a0",
       "version_major": 2,
       "version_minor": 0
      },
      "text/plain": [
       "Text(value='{}', description='param_specs')"
      ]
     },
     "metadata": {},
     "output_type": "display_data"
    },
    {
     "name": "stdout",
     "output_type": "stream",
     "text": [
      "Plugin: FocalPointPlasticityPlugin\n"
     ]
    },
    {
     "data": {
      "application/vnd.jupyter.widget-view+json": {
       "model_id": "28d4722c661e48bdba2cd4e60dec7ed7",
       "version_major": 2,
       "version_minor": 0
      },
      "text/plain": [
       "Text(value='1', description='neighbor_order')"
      ]
     },
     "metadata": {},
     "output_type": "display_data"
    },
    {
     "data": {
      "application/vnd.jupyter.widget-view+json": {
       "model_id": "32845ca3ff73488b9043d5d2b2a63179",
       "version_major": 2,
       "version_minor": 0
      },
      "text/plain": [
       "Text(value='{}', description='param_specs')"
      ]
     },
     "metadata": {},
     "output_type": "display_data"
    },
    {
     "name": "stdout",
     "output_type": "stream",
     "text": [
      "Plugin: LengthConstraintPlugin\n"
     ]
    },
    {
     "data": {
      "application/vnd.jupyter.widget-view+json": {
       "model_id": "63a7acc7b9b74d079003a0de381925ce",
       "version_major": 2,
       "version_minor": 0
      },
      "text/plain": [
       "Text(value='{}', description='param_specs')"
      ]
     },
     "metadata": {},
     "output_type": "display_data"
    },
    {
     "name": "stdout",
     "output_type": "stream",
     "text": [
      "Plugin: MomentOfInertiaPlugin\n",
      "Plugin: NeighborTrackerPlugin\n",
      "Plugin: PixelTrackerPlugin\n"
     ]
    },
    {
     "data": {
      "application/vnd.jupyter.widget-view+json": {
       "model_id": "eec1ae11b2e9478b934c1d01a65d2e7c",
       "version_major": 2,
       "version_minor": 0
      },
      "text/plain": [
       "Text(value='False', description='track_medium')"
      ]
     },
     "metadata": {},
     "output_type": "display_data"
    },
    {
     "name": "stdout",
     "output_type": "stream",
     "text": [
      "Plugin: SecretionPlugin\n"
     ]
    },
    {
     "data": {
      "application/vnd.jupyter.widget-view+json": {
       "model_id": "9a872b50e973433e9026fb3aaa2c9b4a",
       "version_major": 2,
       "version_minor": 0
      },
      "text/plain": [
       "Text(value='True', description='pixel_tracker')"
      ]
     },
     "metadata": {},
     "output_type": "display_data"
    },
    {
     "data": {
      "application/vnd.jupyter.widget-view+json": {
       "model_id": "ac45509567924c149589122eb889cf32",
       "version_major": 2,
       "version_minor": 0
      },
      "text/plain": [
       "Text(value='True', description='boundary_pixel_tracker')"
      ]
     },
     "metadata": {},
     "output_type": "display_data"
    },
    {
     "data": {
      "application/vnd.jupyter.widget-view+json": {
       "model_id": "2da5458541464e9085c5e769dab5aa48",
       "version_major": 2,
       "version_minor": 0
      },
      "text/plain": [
       "Text(value='{}', description='field_specs')"
      ]
     },
     "metadata": {},
     "output_type": "display_data"
    },
    {
     "name": "stdout",
     "output_type": "stream",
     "text": [
      "Plugin: SurfacePlugin\n"
     ]
    },
    {
     "data": {
      "application/vnd.jupyter.widget-view+json": {
       "model_id": "7a650b92312c42b38d31286036804869",
       "version_major": 2,
       "version_minor": 0
      },
      "text/plain": [
       "Text(value='{}', description='params')"
      ]
     },
     "metadata": {},
     "output_type": "display_data"
    },
    {
     "name": "stdout",
     "output_type": "stream",
     "text": [
      "Plugin: VolumePlugin\n"
     ]
    },
    {
     "data": {
      "application/vnd.jupyter.widget-view+json": {
       "model_id": "87a9d01903bd4f848ea386c7b90222d0",
       "version_major": 2,
       "version_minor": 0
      },
      "text/plain": [
       "Text(value='{}', description='params')"
      ]
     },
     "metadata": {},
     "output_type": "display_data"
    }
   ],
   "source": [
    "import ipywidgets as widgets\n",
    "from IPython.display import display\n",
    "from cc3d.core.PyCoreSpecs import PLUGINS\n",
    "\n",
    "for plugin_cls in PLUGINS:\n",
    "    plugin = plugin_cls()\n",
    "    print(f\"Plugin: {plugin_cls.__name__}\")\n",
    "    for param_name in plugin.spec_dict.keys():\n",
    "        # For demonstration, create a text box for each parameter\n",
    "        value = plugin.spec_dict[param_name]\n",
    "        input_widget = widgets.Text(\n",
    "            value=str(value),\n",
    "            description=param_name\n",
    "        )\n",
    "        display(input_widget)"
   ]
  },
  {
   "cell_type": "code",
   "execution_count": 13,
   "id": "0d812faa",
   "metadata": {},
   "outputs": [
    {
     "name": "stdout",
     "output_type": "stream",
     "text": [
      "['AdhesionFlexPlugin', 'BoundaryPixelTrackerPlugin', 'CellTypePlugin', 'CenterOfMassPlugin', 'ChemotaxisPlugin', 'ConnectivityGlobalPlugin', 'ConnectivityPlugin', 'ContactPlugin', 'CurvaturePlugin', 'ExternalPotentialPlugin', 'FocalPointPlasticityPlugin', 'LengthConstraintPlugin', 'MomentOfInertiaPlugin', 'NeighborTrackerPlugin', 'PixelTrackerPlugin', 'SecretionPlugin', 'SurfacePlugin', 'VolumePlugin']\n"
     ]
    }
   ],
   "source": [
    "from cc3d.core.PyCoreSpecs import PLUGINS\n",
    "print([p.__name__ for p in PLUGINS])"
   ]
  }
 ],
 "metadata": {
  "kernelspec": {
   "display_name": "base",
   "language": "python",
   "name": "python3"
  },
  "language_info": {
   "codemirror_mode": {
    "name": "ipython",
    "version": 3
   },
   "file_extension": ".py",
   "mimetype": "text/x-python",
   "name": "python",
   "nbconvert_exporter": "python",
   "pygments_lexer": "ipython3",
   "version": "3.10.17"
  }
 },
 "nbformat": 4,
 "nbformat_minor": 5
}
