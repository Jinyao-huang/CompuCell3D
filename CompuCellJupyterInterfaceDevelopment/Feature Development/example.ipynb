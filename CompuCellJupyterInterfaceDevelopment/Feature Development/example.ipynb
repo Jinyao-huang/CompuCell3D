{
 "cells": [
  {
   "cell_type": "markdown",
   "id": "d9726877",
   "metadata": {},
   "source": [
    "## First Demo - Adhesion Demo\n",
    "\n",
    "```dim_x = dim_y = 100\n",
    "specs = [\n",
    "    Metadata(num_processors=4),\n",
    "    PottsCore(dim_x=dim_x,\n",
    "              dim_y=dim_y,\n",
    "              neighbor_order=2,\n",
    "              boundary_x=\"Periodic\",\n",
    "              boundary_y=\"Periodic\")\n",
    "]\n",
    "\n",
    "cell_types = [\"T1\", \"T2\", \"T3\"]\n",
    "\n",
    "for ct in cell_types:\n",
    "    volume_specs.param_new(ct, target_volume=25, lambda_volume=2)\n",
    "\n",
    "contact_specs = ContactPlugin(neighbor_order=2)\n",
    "for idx1 in range(len(cell_types)):\n",
    "    contact_specs.param_new(type_1=\"Medium\", type_2=cell_types[idx1], energy=16)\n",
    "    for idx2 in range(idx1, len(cell_types)):\n",
    "        contact_specs.param_new(type_1=cell_types[idx1], type_2=cell_types[idx2], energy=16)\n",
    "\n",
    "adhesion_specs = AdhesionFlexPlugin(neighbor_order=2)\n",
    "adhesion_specs.density_new(molecule=\"M1\", cell_type=\"T1\", density=1.0)\n",
    "adhesion_specs.density_new(molecule=\"M2\", cell_type=\"T2\", density=1.0)\n",
    "formula = adhesion_specs.formula_new(formula_name='Binary')\n",
    "formula.param_set(\"M1\", \"M1\", -10.0)\n",
    "formula.param_set(\"M1\", \"M2\", 0.0)\n",
    "formula.param_set(\"M2\", \"M2\", 10.0)\n",
    "\n",
    "from cc3d.core.PyCoreSpecs import UniformInitializer\n",
    "\n",
    "unif_init_specs = UniformInitializer()\n",
    "unif_init_specs.region_new(width=5, pt_min=(0, 0, 0), pt_max=(dim_x, dim_y, 1),\n",
    "                           cell_types=[\"T1\", \"T1\", \"T2\", \"T2\", \"T3\"])\n",
    "```"
   ]
  },
  {
   "cell_type": "code",
   "execution_count": 15,
   "id": "6581d5e7",
   "metadata": {},
   "outputs": [
    {
     "data": {
      "application/vnd.jupyter.widget-view+json": {
       "model_id": "cc953e2aa0c44027b4877218668a0586",
       "version_major": 2,
       "version_minor": 0
      },
      "text/plain": [
       "VBox(children=(Tab(children=(VBox(children=(VBox(children=(HTML(value='<b>Simulation Metadata</b>', layout=Lay…"
      ]
     },
     "metadata": {},
     "output_type": "display_data"
    },
    {
     "data": {
      "text/plain": [
       "'\\n1. Plugins getting the right dependencies/parameter values. \\n2. Question for the plugins + initializer \\n'"
      ]
     },
     "execution_count": 15,
     "metadata": {},
     "output_type": "execute_result"
    },
    {
     "ename": "TraitError",
     "evalue": "The 'value' trait of an IntText instance expected an int, not the NoneType None.",
     "output_type": "error",
     "traceback": [
      "\u001b[0;31m---------------------------------------------------------------------------\u001b[0m",
      "\u001b[0;31mTypeError\u001b[0m                                 Traceback (most recent call last)",
      "File \u001b[0;32m~/miniconda3/envs/cc3d_460_310/lib/python3.10/site-packages/traitlets/traitlets.py:2691\u001b[0m, in \u001b[0;36mCInt.validate\u001b[0;34m(self, obj, value)\u001b[0m\n\u001b[1;32m   2690\u001b[0m \u001b[38;5;28;01mtry\u001b[39;00m:\n\u001b[0;32m-> 2691\u001b[0m     value \u001b[38;5;241m=\u001b[39m \u001b[38;5;28;43mint\u001b[39;49m\u001b[43m(\u001b[49m\u001b[43mvalue\u001b[49m\u001b[43m)\u001b[49m\n\u001b[1;32m   2692\u001b[0m \u001b[38;5;28;01mexcept\u001b[39;00m \u001b[38;5;167;01mException\u001b[39;00m:\n",
      "\u001b[0;31mTypeError\u001b[0m: int() argument must be a string, a bytes-like object or a real number, not 'NoneType'",
      "\nDuring handling of the above exception, another exception occurred:\n",
      "\u001b[0;31mTraitError\u001b[0m                                Traceback (most recent call last)",
      "File \u001b[0;32m~/Desktop/College/Internship/CompuCell3D/Workspace/CompuCell3D/CompuCellJupyterInterfaceDevelopment/Feature Development/Spec_UI_1.py:1163\u001b[0m, in \u001b[0;36mSpecificationSetupUI.setup_event_handlers.<locals>.<lambda>\u001b[0;34m(_)\u001b[0m\n\u001b[1;32m   1154\u001b[0m \u001b[38;5;28mself\u001b[39m\u001b[38;5;241m.\u001b[39mwidgets[\u001b[38;5;124m\"\u001b[39m\u001b[38;5;124mnum_processors\u001b[39m\u001b[38;5;124m\"\u001b[39m]\u001b[38;5;241m.\u001b[39mobserve(\n\u001b[1;32m   1155\u001b[0m     \u001b[38;5;28;01mlambda\u001b[39;00m change: \u001b[38;5;28mself\u001b[39m\u001b[38;5;241m.\u001b[39mupdate_metadata(\u001b[38;5;124m'\u001b[39m\u001b[38;5;124mnum_processors\u001b[39m\u001b[38;5;124m'\u001b[39m, change\u001b[38;5;241m.\u001b[39mnew),\n\u001b[1;32m   1156\u001b[0m     names\u001b[38;5;241m=\u001b[39m\u001b[38;5;124m'\u001b[39m\u001b[38;5;124mvalue\u001b[39m\u001b[38;5;124m'\u001b[39m\n\u001b[1;32m   1157\u001b[0m )\n\u001b[1;32m   1158\u001b[0m \u001b[38;5;28mself\u001b[39m\u001b[38;5;241m.\u001b[39mwidgets[\u001b[38;5;124m\"\u001b[39m\u001b[38;5;124mdebug_output_frequency\u001b[39m\u001b[38;5;124m\"\u001b[39m]\u001b[38;5;241m.\u001b[39mobserve(\n\u001b[1;32m   1159\u001b[0m     \u001b[38;5;28;01mlambda\u001b[39;00m change: \u001b[38;5;28mself\u001b[39m\u001b[38;5;241m.\u001b[39mupdate_metadata(\u001b[38;5;124m'\u001b[39m\u001b[38;5;124mdebug_output_frequency\u001b[39m\u001b[38;5;124m'\u001b[39m, change\u001b[38;5;241m.\u001b[39mnew),\n\u001b[1;32m   1160\u001b[0m     names\u001b[38;5;241m=\u001b[39m\u001b[38;5;124m'\u001b[39m\u001b[38;5;124mvalue\u001b[39m\u001b[38;5;124m'\u001b[39m\n\u001b[1;32m   1161\u001b[0m )\n\u001b[1;32m   1162\u001b[0m \u001b[38;5;28mself\u001b[39m\u001b[38;5;241m.\u001b[39mpotts_widget\u001b[38;5;241m.\u001b[39mwidgets[\u001b[38;5;124m\"\u001b[39m\u001b[38;5;124mreset_button\u001b[39m\u001b[38;5;124m\"\u001b[39m]\u001b[38;5;241m.\u001b[39mon_click(\n\u001b[0;32m-> 1163\u001b[0m     \u001b[38;5;28;01mlambda\u001b[39;00m _: \u001b[38;5;28;43mself\u001b[39;49m\u001b[38;5;241;43m.\u001b[39;49m\u001b[43mreset_potts_tab\u001b[49m\u001b[43m(\u001b[49m\u001b[43m)\u001b[49m\n\u001b[1;32m   1164\u001b[0m )\n\u001b[1;32m   1165\u001b[0m \u001b[38;5;28mself\u001b[39m\u001b[38;5;241m.\u001b[39mcelltype_widget\u001b[38;5;241m.\u001b[39mwidgets[\u001b[38;5;124m\"\u001b[39m\u001b[38;5;124mreset_button\u001b[39m\u001b[38;5;124m\"\u001b[39m]\u001b[38;5;241m.\u001b[39mon_click(\n\u001b[1;32m   1166\u001b[0m     \u001b[38;5;28;01mlambda\u001b[39;00m _: \u001b[38;5;28mself\u001b[39m\u001b[38;5;241m.\u001b[39mreset_celltype_tab()\n\u001b[1;32m   1167\u001b[0m )\n\u001b[1;32m   1168\u001b[0m \u001b[38;5;28mself\u001b[39m\u001b[38;5;241m.\u001b[39mwidgets[\u001b[38;5;124m\"\u001b[39m\u001b[38;5;124mreset_metadata_button\u001b[39m\u001b[38;5;124m\"\u001b[39m]\u001b[38;5;241m.\u001b[39mon_click(\n\u001b[1;32m   1169\u001b[0m     \u001b[38;5;28;01mlambda\u001b[39;00m _: \u001b[38;5;28mself\u001b[39m\u001b[38;5;241m.\u001b[39mreset_metadata_tab()\n\u001b[1;32m   1170\u001b[0m )\n",
      "File \u001b[0;32m~/Desktop/College/Internship/CompuCell3D/Workspace/CompuCell3D/CompuCellJupyterInterfaceDevelopment/Feature Development/Spec_UI_1.py:1315\u001b[0m, in \u001b[0;36mSpecificationSetupUI.reset_potts_tab\u001b[0;34m(self)\u001b[0m\n\u001b[1;32m   1314\u001b[0m \u001b[38;5;28;01mdef\u001b[39;00m\u001b[38;5;250m \u001b[39m\u001b[38;5;21mreset_potts_tab\u001b[39m(\u001b[38;5;28mself\u001b[39m):\n\u001b[0;32m-> 1315\u001b[0m     \u001b[38;5;28;43mself\u001b[39;49m\u001b[38;5;241;43m.\u001b[39;49m\u001b[43mpotts_widget\u001b[49m\u001b[38;5;241;43m.\u001b[39;49m\u001b[43mreset\u001b[49m\u001b[43m(\u001b[49m\u001b[43m)\u001b[49m\n\u001b[1;32m   1316\u001b[0m     \u001b[38;5;28;01mfor\u001b[39;00m prop, value \u001b[38;5;129;01min\u001b[39;00m PottsCore()\u001b[38;5;241m.\u001b[39mspec_dict\u001b[38;5;241m.\u001b[39mitems():\n\u001b[1;32m   1317\u001b[0m         \u001b[38;5;28;01mif\u001b[39;00m \u001b[38;5;28mhasattr\u001b[39m(\u001b[38;5;28mself\u001b[39m\u001b[38;5;241m.\u001b[39mpotts_core, prop):\n",
      "File \u001b[0;32m~/Desktop/College/Internship/CompuCell3D/Workspace/CompuCell3D/CompuCellJupyterInterfaceDevelopment/Feature Development/Spec_UI_1.py:779\u001b[0m, in \u001b[0;36mPottsWidget.reset\u001b[0;34m(self)\u001b[0m\n\u001b[1;32m    777\u001b[0m \u001b[38;5;28;01mfor\u001b[39;00m key, widget \u001b[38;5;129;01min\u001b[39;00m \u001b[38;5;28mself\u001b[39m\u001b[38;5;241m.\u001b[39mwidgets\u001b[38;5;241m.\u001b[39mitems():\n\u001b[1;32m    778\u001b[0m     \u001b[38;5;28;01mif\u001b[39;00m key \u001b[38;5;241m!=\u001b[39m \u001b[38;5;124m\"\u001b[39m\u001b[38;5;124mreset_button\u001b[39m\u001b[38;5;124m\"\u001b[39m \u001b[38;5;129;01mand\u001b[39;00m key \u001b[38;5;129;01min\u001b[39;00m \u001b[38;5;28mself\u001b[39m\u001b[38;5;241m.\u001b[39mdefaults:\n\u001b[0;32m--> 779\u001b[0m         widget\u001b[38;5;241m.\u001b[39mvalue \u001b[38;5;241m=\u001b[39m \u001b[38;5;28mself\u001b[39m\u001b[38;5;241m.\u001b[39mdefaults[key]\n",
      "File \u001b[0;32m~/miniconda3/envs/cc3d_460_310/lib/python3.10/site-packages/traitlets/traitlets.py:716\u001b[0m, in \u001b[0;36mTraitType.__set__\u001b[0;34m(self, obj, value)\u001b[0m\n\u001b[1;32m    714\u001b[0m \u001b[38;5;28;01mif\u001b[39;00m \u001b[38;5;28mself\u001b[39m\u001b[38;5;241m.\u001b[39mread_only:\n\u001b[1;32m    715\u001b[0m     \u001b[38;5;28;01mraise\u001b[39;00m TraitError(\u001b[38;5;124m'\u001b[39m\u001b[38;5;124mThe \u001b[39m\u001b[38;5;124m\"\u001b[39m\u001b[38;5;132;01m%s\u001b[39;00m\u001b[38;5;124m\"\u001b[39m\u001b[38;5;124m trait is read-only.\u001b[39m\u001b[38;5;124m'\u001b[39m \u001b[38;5;241m%\u001b[39m \u001b[38;5;28mself\u001b[39m\u001b[38;5;241m.\u001b[39mname)\n\u001b[0;32m--> 716\u001b[0m \u001b[38;5;28;43mself\u001b[39;49m\u001b[38;5;241;43m.\u001b[39;49m\u001b[43mset\u001b[49m\u001b[43m(\u001b[49m\u001b[43mobj\u001b[49m\u001b[43m,\u001b[49m\u001b[43m \u001b[49m\u001b[43mvalue\u001b[49m\u001b[43m)\u001b[49m\n",
      "File \u001b[0;32m~/miniconda3/envs/cc3d_460_310/lib/python3.10/site-packages/traitlets/traitlets.py:690\u001b[0m, in \u001b[0;36mTraitType.set\u001b[0;34m(self, obj, value)\u001b[0m\n\u001b[1;32m    689\u001b[0m \u001b[38;5;28;01mdef\u001b[39;00m\u001b[38;5;250m \u001b[39m\u001b[38;5;21mset\u001b[39m(\u001b[38;5;28mself\u001b[39m, obj: HasTraits, value: S) \u001b[38;5;241m-\u001b[39m\u001b[38;5;241m>\u001b[39m \u001b[38;5;28;01mNone\u001b[39;00m:\n\u001b[0;32m--> 690\u001b[0m     new_value \u001b[38;5;241m=\u001b[39m \u001b[38;5;28;43mself\u001b[39;49m\u001b[38;5;241;43m.\u001b[39;49m\u001b[43m_validate\u001b[49m\u001b[43m(\u001b[49m\u001b[43mobj\u001b[49m\u001b[43m,\u001b[49m\u001b[43m \u001b[49m\u001b[43mvalue\u001b[49m\u001b[43m)\u001b[49m\n\u001b[1;32m    691\u001b[0m     \u001b[38;5;28;01massert\u001b[39;00m \u001b[38;5;28mself\u001b[39m\u001b[38;5;241m.\u001b[39mname \u001b[38;5;129;01mis\u001b[39;00m \u001b[38;5;129;01mnot\u001b[39;00m \u001b[38;5;28;01mNone\u001b[39;00m\n\u001b[1;32m    692\u001b[0m     \u001b[38;5;28;01mtry\u001b[39;00m:\n",
      "File \u001b[0;32m~/miniconda3/envs/cc3d_460_310/lib/python3.10/site-packages/traitlets/traitlets.py:722\u001b[0m, in \u001b[0;36mTraitType._validate\u001b[0;34m(self, obj, value)\u001b[0m\n\u001b[1;32m    720\u001b[0m     \u001b[38;5;28;01mreturn\u001b[39;00m value\n\u001b[1;32m    721\u001b[0m \u001b[38;5;28;01mif\u001b[39;00m \u001b[38;5;28mhasattr\u001b[39m(\u001b[38;5;28mself\u001b[39m, \u001b[38;5;124m\"\u001b[39m\u001b[38;5;124mvalidate\u001b[39m\u001b[38;5;124m\"\u001b[39m):\n\u001b[0;32m--> 722\u001b[0m     value \u001b[38;5;241m=\u001b[39m \u001b[38;5;28;43mself\u001b[39;49m\u001b[38;5;241;43m.\u001b[39;49m\u001b[43mvalidate\u001b[49m\u001b[43m(\u001b[49m\u001b[43mobj\u001b[49m\u001b[43m,\u001b[49m\u001b[43m \u001b[49m\u001b[43mvalue\u001b[49m\u001b[43m)\u001b[49m\n\u001b[1;32m    723\u001b[0m \u001b[38;5;28;01mif\u001b[39;00m obj\u001b[38;5;241m.\u001b[39m_cross_validation_lock \u001b[38;5;129;01mis\u001b[39;00m \u001b[38;5;28;01mFalse\u001b[39;00m:\n\u001b[1;32m    724\u001b[0m     value \u001b[38;5;241m=\u001b[39m \u001b[38;5;28mself\u001b[39m\u001b[38;5;241m.\u001b[39m_cross_validate(obj, value)\n",
      "File \u001b[0;32m~/miniconda3/envs/cc3d_460_310/lib/python3.10/site-packages/traitlets/traitlets.py:2693\u001b[0m, in \u001b[0;36mCInt.validate\u001b[0;34m(self, obj, value)\u001b[0m\n\u001b[1;32m   2691\u001b[0m     value \u001b[38;5;241m=\u001b[39m \u001b[38;5;28mint\u001b[39m(value)\n\u001b[1;32m   2692\u001b[0m \u001b[38;5;28;01mexcept\u001b[39;00m \u001b[38;5;167;01mException\u001b[39;00m:\n\u001b[0;32m-> 2693\u001b[0m     \u001b[38;5;28;43mself\u001b[39;49m\u001b[38;5;241;43m.\u001b[39;49m\u001b[43merror\u001b[49m\u001b[43m(\u001b[49m\u001b[43mobj\u001b[49m\u001b[43m,\u001b[49m\u001b[43m \u001b[49m\u001b[43mvalue\u001b[49m\u001b[43m)\u001b[49m\n\u001b[1;32m   2694\u001b[0m \u001b[38;5;28;01mreturn\u001b[39;00m t\u001b[38;5;241m.\u001b[39mcast(G, _validate_bounds(\u001b[38;5;28mself\u001b[39m, obj, value))\n",
      "File \u001b[0;32m~/miniconda3/envs/cc3d_460_310/lib/python3.10/site-packages/traitlets/traitlets.py:831\u001b[0m, in \u001b[0;36mTraitType.error\u001b[0;34m(self, obj, value, error, info)\u001b[0m\n\u001b[1;32m    825\u001b[0m \u001b[38;5;28;01melse\u001b[39;00m:\n\u001b[1;32m    826\u001b[0m     e \u001b[38;5;241m=\u001b[39m \u001b[38;5;124m\"\u001b[39m\u001b[38;5;124mThe \u001b[39m\u001b[38;5;124m'\u001b[39m\u001b[38;5;132;01m{}\u001b[39;00m\u001b[38;5;124m'\u001b[39m\u001b[38;5;124m trait expected \u001b[39m\u001b[38;5;132;01m{}\u001b[39;00m\u001b[38;5;124m, not \u001b[39m\u001b[38;5;132;01m{}\u001b[39;00m\u001b[38;5;124m.\u001b[39m\u001b[38;5;124m\"\u001b[39m\u001b[38;5;241m.\u001b[39mformat(\n\u001b[1;32m    827\u001b[0m         \u001b[38;5;28mself\u001b[39m\u001b[38;5;241m.\u001b[39mname,\n\u001b[1;32m    828\u001b[0m         info \u001b[38;5;129;01mor\u001b[39;00m \u001b[38;5;28mself\u001b[39m\u001b[38;5;241m.\u001b[39minfo(),\n\u001b[1;32m    829\u001b[0m         describe(\u001b[38;5;124m\"\u001b[39m\u001b[38;5;124mthe\u001b[39m\u001b[38;5;124m\"\u001b[39m, value),\n\u001b[1;32m    830\u001b[0m     )\n\u001b[0;32m--> 831\u001b[0m \u001b[38;5;28;01mraise\u001b[39;00m TraitError(e)\n",
      "\u001b[0;31mTraitError\u001b[0m: The 'value' trait of an IntText instance expected an int, not the NoneType None."
     ]
    }
   ],
   "source": [
    "from Spec_UI_1 import SpecificationSetupUI\n",
    "\n",
    "ui = SpecificationSetupUI()\n",
    "display(ui.create_ui())\n",
    "\n",
    "# Debuging: \n",
    "# Random seed should be a number generator number (positive integer)\n",
    "# Reset celltype and reset pottscore needs to be fixed?\n",
    "# Neighbor order can't be negative for plugins \n",
    "# Weird UI \n",
    "\n",
    "# Newly added features:\n",
    "# Dimension were bounded now. \n",
    "# Cell Type id added. \n",
    "# Advanced potts core setting added. \n",
    "\n",
    "# Stretch goal: \n",
    "# Add stappables \n",
    "# energy function calculation? \n",
    "\n",
    "# UI\n",
    "'''\n",
    "1. Container white space (border too wide) px -- centered container? \n",
    "2. Spacing - for cell type \n",
    "3. left Alignment the Reset Plugin button to match with the style of rest reset buttons\n",
    "4. All style goes away might related to display(ui.create_ui())\n",
    "\n",
    "'''\n",
    "\n",
    "# Debugging:\n",
    "'''\n",
    "1. Reset for Cell type (ID) and the Potts Core (num_processor) are not working.\n",
    "2. Plugin Neighbor Order does not catch negative value.  \n",
    "'''\n",
    "\n",
    "# Stetch goal:\n",
    "'''\n",
    "1. Plugins getting the right dependencies/parameter values. \n",
    "2. Question for the plugins + initializer \n",
    "'''"
   ]
  },
  {
   "cell_type": "code",
   "execution_count": 5,
   "id": "63d42a93",
   "metadata": {},
   "outputs": [
    {
     "data": {
      "application/vnd.jupyter.widget-view+json": {
       "model_id": "0304a5cc178d487ab7e9f7da561fcf5c",
       "version_major": 2,
       "version_minor": 0
      },
      "text/plain": [
       "VBox(children=(Tab(children=(VBox(children=(HTML(value='<b>Simulation Metadata</b>'), VBox(children=(IntText(v…"
      ]
     },
     "metadata": {},
     "output_type": "display_data"
    }
   ],
   "source": [
    "from Spec_UI import SpecificationSetupUI\n",
    "\n",
    "ui = SpecificationSetupUI()"
   ]
  },
  {
   "cell_type": "code",
   "execution_count": 3,
   "id": "ddbb24ce",
   "metadata": {},
   "outputs": [
    {
     "data": {
      "application/vnd.jupyter.widget-view+json": {
       "model_id": "b17a2da26c0d4fea85b15f45e8e2259b",
       "version_major": 2,
       "version_minor": 0
      },
      "text/plain": [
       "HBox(children=(VBox(children=(Button(description='Tab 1', layout=Layout(width='100%'), style=ButtonStyle()), B…"
      ]
     },
     "metadata": {},
     "output_type": "display_data"
    }
   ],
   "source": [
    "# Testing vertical tabs \n",
    "import ipywidgets as widgets\n",
    "from IPython.display import display\n",
    "\n",
    "# Create content for each tab\n",
    "out1 = widgets.Output()\n",
    "out2 = widgets.Output()\n",
    "out3 = widgets.Output()\n",
    "\n",
    "with out1:\n",
    "    print(\"Content of Tab 1\")\n",
    "\n",
    "with out2:\n",
    "    print(\"Content of Tab 2\")\n",
    "\n",
    "with out3:\n",
    "    print(\"Content of Tab 3\")\n",
    "\n",
    "# Create individual buttons instead of ToggleButtons for more control\n",
    "tab1_btn = widgets.Button(description='Tab 1', layout=widgets.Layout(width='100%'))\n",
    "tab2_btn = widgets.Button(description='Tab 2', layout=widgets.Layout(width='100%'))\n",
    "tab3_btn = widgets.Button(description='Tab 3', layout=widgets.Layout(width='100%'))\n",
    "\n",
    "# Put them into a VBox so they stack tightly\n",
    "tabs_box = widgets.VBox([tab1_btn, tab2_btn, tab3_btn], layout=widgets.Layout(width='120px'))\n",
    "\n",
    "# Output area\n",
    "content_area = widgets.Output()\n",
    "\n",
    "# Function to switch content\n",
    "def show_tab(tab):\n",
    "    content_area.clear_output()\n",
    "    with content_area:\n",
    "        if tab == 1:\n",
    "            display(out1)\n",
    "        elif tab == 2:\n",
    "            display(out2)\n",
    "        elif tab == 3:\n",
    "            display(out3)\n",
    "\n",
    "# Attach callbacks\n",
    "tab1_btn.on_click(lambda b: show_tab(1))\n",
    "tab2_btn.on_click(lambda b: show_tab(2))\n",
    "tab3_btn.on_click(lambda b: show_tab(3))\n",
    "\n",
    "# Layout the tabs and content\n",
    "ui = widgets.HBox([tabs_box, content_area])\n",
    "\n",
    "# Display\n",
    "display(ui)\n",
    "\n",
    "# Initialize first tab\n",
    "show_tab(1)\n"
   ]
  },
  {
   "cell_type": "code",
   "execution_count": 4,
   "id": "715a6b61",
   "metadata": {},
   "outputs": [
    {
     "ename": "AttributeError",
     "evalue": "'HBox' object has no attribute 'plugins_tab'",
     "output_type": "error",
     "traceback": [
      "\u001b[0;31m---------------------------------------------------------------------------\u001b[0m",
      "\u001b[0;31mAttributeError\u001b[0m                            Traceback (most recent call last)",
      "Cell \u001b[0;32mIn[4], line 6\u001b[0m\n\u001b[1;32m      1\u001b[0m \u001b[38;5;66;03m# print(ui.__dict__)\u001b[39;00m\n\u001b[1;32m      2\u001b[0m \u001b[38;5;66;03m# print(ui.plugins_tab.plugin_widgets)\u001b[39;00m\n\u001b[1;32m      3\u001b[0m \u001b[38;5;66;03m# volume_widget = ui.plugins_tab.plugin_widgets.get('VolumePlugin')\u001b[39;00m\n\u001b[1;32m      4\u001b[0m \u001b[38;5;66;03m# print(volume_widget)\u001b[39;00m\n\u001b[1;32m      5\u001b[0m \u001b[38;5;66;03m# print(volume_widget.widgets)  # See the actual widget objects\u001b[39;00m\n\u001b[0;32m----> 6\u001b[0m \u001b[38;5;28mprint\u001b[39m(\u001b[43mui\u001b[49m\u001b[38;5;241;43m.\u001b[39;49m\u001b[43mplugins_tab\u001b[49m\u001b[38;5;241m.\u001b[39mplugin_widgets\u001b[38;5;241m.\u001b[39mkeys())\n",
      "\u001b[0;31mAttributeError\u001b[0m: 'HBox' object has no attribute 'plugins_tab'"
     ]
    }
   ],
   "source": [
    "# print(ui.__dict__)\n",
    "# print(ui.plugins_tab.plugin_widgets)\n",
    "# volume_widget = ui.plugins_tab.plugin_widgets.get('VolumePlugin')\n",
    "# print(volume_widget)\n",
    "# print(volume_widget.widgets)  # See the actual widget objects\n",
    "print(ui.plugins_tab.plugin_widgets.keys())"
   ]
  },
  {
   "cell_type": "code",
   "execution_count": null,
   "id": "398bba32",
   "metadata": {},
   "outputs": [
    {
     "name": "stdout",
     "output_type": "stream",
     "text": [
      "dict_keys(['AdhesionFlexPlugin', 'BoundaryPixelTrackerPlugin', 'ChemotaxisPlugin', 'ContactPlugin', 'CurvaturePlugin', 'ExternalPotentialPlugin', 'FocalPointPlasticityPlugin', 'LengthConstraintPlugin', 'PixelTrackerPlugin', 'SecretionPlugin', 'VolumePlugin', 'SurfacePlugin'])\n"
     ]
    }
   ],
   "source": [
    "# print(ui.__dict__)\n",
    "# print(ui.plugins_tab.plugin_widgets)\n",
    "# volume_widget = ui.plugins_tab.plugin_widgets.get('VolumePlugin')\n",
    "# print(volume_widget)\n",
    "# print(volume_widget.widgets)  # See the actual widget objects\n",
    "print(ui.plugins_tab.plugin_widgets.keys())"
   ]
  },
  {
   "cell_type": "code",
   "execution_count": null,
   "id": "a23a925b",
   "metadata": {},
   "outputs": [],
   "source": []
  },
  {
   "cell_type": "code",
   "execution_count": null,
   "id": "e2b8c0bd",
   "metadata": {},
   "outputs": [
    {
     "name": "stdout",
     "output_type": "stream",
     "text": [
      "dict_keys(['AdhesionFlexPlugin', 'BoundaryPixelTrackerPlugin', 'ChemotaxisPlugin', 'ContactPlugin', 'CurvaturePlugin', 'ExternalPotentialPlugin', 'FocalPointPlasticityPlugin', 'LengthConstraintPlugin', 'PixelTrackerPlugin', 'SecretionPlugin', 'VolumePlugin', 'SurfacePlugin'])\n"
     ]
    }
   ],
   "source": [
    "# print(ui.__dict__)\n",
    "# print(ui.plugins_tab.plugin_widgets)\n",
    "# volume_widget = ui.plugins_tab.plugin_widgets.get('VolumePlugin')\n",
    "# print(volume_widget)\n",
    "# print(volume_widget.widgets)  # See the actual widget objects\n",
    "print(ui.plugins_tab.plugin_widgets.keys())"
   ]
  },
  {
   "cell_type": "code",
   "execution_count": null,
   "id": "1784fbd3",
   "metadata": {},
   "outputs": [
    {
     "name": "stdout",
     "output_type": "stream",
     "text": [
      "dict_keys(['AdhesionFlexPlugin', 'BoundaryPixelTrackerPlugin', 'ChemotaxisPlugin', 'ContactPlugin', 'CurvaturePlugin', 'ExternalPotentialPlugin', 'FocalPointPlasticityPlugin', 'LengthConstraintPlugin', 'PixelTrackerPlugin', 'SecretionPlugin', 'VolumePlugin', 'SurfacePlugin'])\n"
     ]
    }
   ],
   "source": [
    "# print(ui.__dict__)\n",
    "# print(ui.plugins_tab.plugin_widgets)\n",
    "# volume_widget = ui.plugins_tab.plugin_widgets.get('VolumePlugin')\n",
    "# print(volume_widget)\n",
    "# print(volume_widget.widgets)  # See the actual widget objects\n",
    "print(ui.plugins_tab.plugin_widgets.keys())"
   ]
  },
  {
   "cell_type": "code",
   "execution_count": null,
   "id": "773ba294",
   "metadata": {},
   "outputs": [
    {
     "name": "stdout",
     "output_type": "stream",
     "text": [
      "dict_keys(['AdhesionFlexPlugin', 'BoundaryPixelTrackerPlugin', 'ChemotaxisPlugin', 'ContactPlugin', 'CurvaturePlugin', 'ExternalPotentialPlugin', 'FocalPointPlasticityPlugin', 'LengthConstraintPlugin', 'PixelTrackerPlugin', 'SecretionPlugin', 'VolumePlugin', 'SurfacePlugin'])\n"
     ]
    }
   ],
   "source": [
    "# print(ui.__dict__)\n",
    "# print(ui.plugins_tab.plugin_widgets)\n",
    "# volume_widget = ui.plugins_tab.plugin_widgets.get('VolumePlugin')\n",
    "# print(volume_widget)\n",
    "# print(volume_widget.widgets)  # See the actual widget objects\n",
    "print(ui.plugins_tab.plugin_widgets.keys())"
   ]
  },
  {
   "cell_type": "code",
   "execution_count": null,
   "id": "b7159bd0",
   "metadata": {},
   "outputs": [
    {
     "name": "stdout",
     "output_type": "stream",
     "text": [
      "dict_keys(['AdhesionFlexPlugin', 'BoundaryPixelTrackerPlugin', 'ChemotaxisPlugin', 'ContactPlugin', 'CurvaturePlugin', 'ExternalPotentialPlugin', 'FocalPointPlasticityPlugin', 'LengthConstraintPlugin', 'PixelTrackerPlugin', 'SecretionPlugin', 'VolumePlugin', 'SurfacePlugin'])\n"
     ]
    }
   ],
   "source": [
    "# print(ui.__dict__)\n",
    "# print(ui.plugins_tab.plugin_widgets)\n",
    "# volume_widget = ui.plugins_tab.plugin_widgets.get('VolumePlugin')\n",
    "# print(volume_widget)\n",
    "# print(volume_widget.widgets)  # See the actual widget objects\n",
    "print(ui.plugins_tab.plugin_widgets.keys())"
   ]
  },
  {
   "cell_type": "code",
   "execution_count": null,
   "id": "d46162b2",
   "metadata": {},
   "outputs": [
    {
     "name": "stdout",
     "output_type": "stream",
     "text": [
      "dict_keys(['AdhesionFlexPlugin', 'BoundaryPixelTrackerPlugin', 'ChemotaxisPlugin', 'ContactPlugin', 'CurvaturePlugin', 'ExternalPotentialPlugin', 'FocalPointPlasticityPlugin', 'LengthConstraintPlugin', 'PixelTrackerPlugin', 'SecretionPlugin', 'VolumePlugin', 'SurfacePlugin'])\n"
     ]
    }
   ],
   "source": [
    "# print(ui.__dict__)\n",
    "# print(ui.plugins_tab.plugin_widgets)\n",
    "# volume_widget = ui.plugins_tab.plugin_widgets.get('VolumePlugin')\n",
    "# print(volume_widget)\n",
    "# print(volume_widget.widgets)  # See the actual widget objects\n",
    "print(ui.plugins_tab.plugin_widgets.keys())"
   ]
  },
  {
   "cell_type": "code",
   "execution_count": null,
   "id": "9335b3a0",
   "metadata": {},
   "outputs": [
    {
     "name": "stdout",
     "output_type": "stream",
     "text": [
      "dict_keys(['AdhesionFlexPlugin', 'BoundaryPixelTrackerPlugin', 'ChemotaxisPlugin', 'ContactPlugin', 'CurvaturePlugin', 'ExternalPotentialPlugin', 'FocalPointPlasticityPlugin', 'LengthConstraintPlugin', 'PixelTrackerPlugin', 'SecretionPlugin', 'VolumePlugin', 'SurfacePlugin'])\n"
     ]
    }
   ],
   "source": [
    "# print(ui.__dict__)\n",
    "# print(ui.plugins_tab.plugin_widgets)\n",
    "# volume_widget = ui.plugins_tab.plugin_widgets.get('VolumePlugin')\n",
    "# print(volume_widget)\n",
    "# print(volume_widget.widgets)  # See the actual widget objects\n",
    "print(ui.plugins_tab.plugin_widgets.keys())"
   ]
  },
  {
   "cell_type": "code",
   "execution_count": null,
   "id": "45c17478",
   "metadata": {},
   "outputs": [
    {
     "name": "stdout",
     "output_type": "stream",
     "text": [
      "dict_keys(['AdhesionFlexPlugin', 'BoundaryPixelTrackerPlugin', 'ChemotaxisPlugin', 'ContactPlugin', 'CurvaturePlugin', 'ExternalPotentialPlugin', 'FocalPointPlasticityPlugin', 'LengthConstraintPlugin', 'PixelTrackerPlugin', 'SecretionPlugin', 'VolumePlugin', 'SurfacePlugin'])\n"
     ]
    }
   ],
   "source": [
    "# print(ui.__dict__)\n",
    "# print(ui.plugins_tab.plugin_widgets)\n",
    "# volume_widget = ui.plugins_tab.plugin_widgets.get('VolumePlugin')\n",
    "# print(volume_widget)\n",
    "# print(volume_widget.widgets)  # See the actual widget objects\n",
    "print(ui.plugins_tab.plugin_widgets.keys())"
   ]
  },
  {
   "cell_type": "code",
   "execution_count": null,
   "id": "3dc1f90b",
   "metadata": {},
   "outputs": [
    {
     "name": "stdout",
     "output_type": "stream",
     "text": [
      "dict_keys(['AdhesionFlexPlugin', 'BoundaryPixelTrackerPlugin', 'ChemotaxisPlugin', 'ContactPlugin', 'CurvaturePlugin', 'ExternalPotentialPlugin', 'FocalPointPlasticityPlugin', 'LengthConstraintPlugin', 'PixelTrackerPlugin', 'SecretionPlugin', 'VolumePlugin', 'SurfacePlugin'])\n"
     ]
    }
   ],
   "source": [
    "# print(ui.__dict__)\n",
    "# print(ui.plugins_tab.plugin_widgets)\n",
    "# volume_widget = ui.plugins_tab.plugin_widgets.get('VolumePlugin')\n",
    "# print(volume_widget)\n",
    "# print(volume_widget.widgets)  # See the actual widget objects\n",
    "print(ui.plugins_tab.plugin_widgets.keys())"
   ]
  },
  {
   "cell_type": "code",
   "execution_count": null,
   "id": "3f3a9398",
   "metadata": {},
   "outputs": [
    {
     "name": "stdout",
     "output_type": "stream",
     "text": [
      "dict_keys(['AdhesionFlexPlugin', 'BoundaryPixelTrackerPlugin', 'ChemotaxisPlugin', 'ContactPlugin', 'CurvaturePlugin', 'ExternalPotentialPlugin', 'FocalPointPlasticityPlugin', 'LengthConstraintPlugin', 'PixelTrackerPlugin', 'SecretionPlugin', 'VolumePlugin', 'SurfacePlugin'])\n"
     ]
    }
   ],
   "source": [
    "# print(ui.__dict__)\n",
    "# print(ui.plugins_tab.plugin_widgets)\n",
    "# volume_widget = ui.plugins_tab.plugin_widgets.get('VolumePlugin')\n",
    "# print(volume_widget)\n",
    "# print(volume_widget.widgets)  # See the actual widget objects\n",
    "print(ui.plugins_tab.plugin_widgets.keys())"
   ]
  },
  {
   "cell_type": "code",
   "execution_count": null,
   "id": "b42d14be",
   "metadata": {},
   "outputs": [
    {
     "name": "stdout",
     "output_type": "stream",
     "text": [
      "dict_keys(['AdhesionFlexPlugin', 'BoundaryPixelTrackerPlugin', 'ChemotaxisPlugin', 'ContactPlugin', 'CurvaturePlugin', 'ExternalPotentialPlugin', 'FocalPointPlasticityPlugin', 'LengthConstraintPlugin', 'PixelTrackerPlugin', 'SecretionPlugin', 'VolumePlugin', 'SurfacePlugin'])\n"
     ]
    }
   ],
   "source": [
    "# print(ui.__dict__)\n",
    "# print(ui.plugins_tab.plugin_widgets)\n",
    "# volume_widget = ui.plugins_tab.plugin_widgets.get('VolumePlugin')\n",
    "# print(volume_widget)\n",
    "# print(volume_widget.widgets)  # See the actual widget objects\n",
    "print(ui.plugins_tab.plugin_widgets.keys())"
   ]
  },
  {
   "cell_type": "code",
   "execution_count": null,
   "id": "3bbbc9d0",
   "metadata": {},
   "outputs": [
    {
     "name": "stdout",
     "output_type": "stream",
     "text": [
      "{'plugin_name': 'VolumePlugin', 'plugin_class': <class 'cc3d.core.PyCoreSpecs.VolumePlugin'>, 'default_instance': <cc3d.core.PyCoreSpecs.VolumePlugin object at 0x147c37df0>, 'cell_types': ['Medium', 'T1'], 'widgets': {'active': Checkbox(value=True, description='VolumePlugin', indent=False), 'config_container': VBox(children=(VBox(children=(HBox(children=(Label(value='Medium', layout=Layout(width='120px')), Label(value='Target Volume:', layout=Layout(width='100px')), FloatText(value=25.0, layout=Layout(width='120px')), Label(value='Lambda Volume:', layout=Layout(width='100px')), FloatText(value=2.0, layout=Layout(width='120px'))), layout=Layout(padding='4px 0 4px 12px'), _dom_classes=('volume-row',)), HBox(children=(Label(value='T1', layout=Layout(width='120px')), Label(value='Target Volume:', layout=Layout(width='100px')), FloatText(value=25.0, layout=Layout(width='120px')), Label(value='Lambda Volume:', layout=Layout(width='100px')), FloatText(value=2.0, layout=Layout(width='120px'))), layout=Layout(padding='4px 0 4px 12px'), _dom_classes=('volume-row',)))),), layout=Layout(display='block', padding='0')), 'rows': [{'cell_type': Label(value='Medium', layout=Layout(width='120px')), 'target_volume': FloatText(value=25.0, layout=Layout(width='120px')), 'lambda_volume': FloatText(value=2.0, layout=Layout(width='120px'))}, {'cell_type': Label(value='T1', layout=Layout(width='120px')), 'target_volume': FloatText(value=25.0, layout=Layout(width='120px')), 'lambda_volume': FloatText(value=2.0, layout=Layout(width='120px'))}]}, 'output': Output(), 'param_cache': {}, 'parent_ui': <Spec_UI.SpecificationSetupUI object at 0x110c34dc0>}\n"
     ]
    }
   ],
   "source": [
    "# print(ui.__dict__)\n",
    "# print(ui.plugins_tab.plugin_widgets)\n",
    "volume_widget = ui.plugins_tab.plugin_widgets.get('VolumePlugin')\n",
    "print(volume_widget.__dict__)\n",
    "# print(volume_widget.widgets)  # See the actual widget objects\n",
    "# print(ui.plugins_tab.plugin_widgets.keys())"
   ]
  },
  {
   "cell_type": "code",
   "execution_count": null,
   "id": "6da8bb15",
   "metadata": {},
   "outputs": [],
   "source": [
    "# %run ./Spec_UI.py IGNORE"
   ]
  },
  {
   "cell_type": "code",
   "execution_count": null,
   "id": "5b224522",
   "metadata": {},
   "outputs": [
    {
     "name": "stdout",
     "output_type": "stream",
     "text": [
      "dict_keys(['AdhesionFlexPlugin', 'BoundaryPixelTrackerPlugin', 'ChemotaxisPlugin', 'ContactPlugin', 'CurvaturePlugin', 'ExternalPotentialPlugin', 'FocalPointPlasticityPlugin', 'LengthConstraintPlugin', 'PixelTrackerPlugin', 'SecretionPlugin', 'VolumePlugin', 'SurfacePlugin'])\n"
     ]
    }
   ],
   "source": [
    "# print(ui.__dict__)\n",
    "# print(ui.plugins_tab.plugin_widgets)\n",
    "# volume_widget = ui.plugins_tab.plugin_widgets.get('VolumePlugin')\n",
    "# print(volume_widget)\n",
    "# print(volume_widget.widgets)  # See the actual widget objects\n",
    "print(ui.plugins_tab.plugin_widgets.keys())"
   ]
  },
  {
   "cell_type": "code",
   "execution_count": null,
   "id": "21f0784e",
   "metadata": {},
   "outputs": [
    {
     "name": "stdout",
     "output_type": "stream",
     "text": [
      "Plugin: AdhesionFlexPlugin\n"
     ]
    },
    {
     "data": {
      "application/vnd.jupyter.widget-view+json": {
       "model_id": "bd06a23f225b4516977222c1baf7a2e7",
       "version_major": 2,
       "version_minor": 0
      },
      "text/plain": [
       "Text(value='1', description='neighbor_order')"
      ]
     },
     "metadata": {},
     "output_type": "display_data"
    },
    {
     "data": {
      "application/vnd.jupyter.widget-view+json": {
       "model_id": "c9ac8ac13ab849d0bd5d7862817f3273",
       "version_major": 2,
       "version_minor": 0
      },
      "text/plain": [
       "Text(value='[]', description='molecules')"
      ]
     },
     "metadata": {},
     "output_type": "display_data"
    },
    {
     "data": {
      "application/vnd.jupyter.widget-view+json": {
       "model_id": "7e5ca0afd0b140b39721420fb05de3bc",
       "version_major": 2,
       "version_minor": 0
      },
      "text/plain": [
       "Text(value='{}', description='densities')"
      ]
     },
     "metadata": {},
     "output_type": "display_data"
    },
    {
     "data": {
      "application/vnd.jupyter.widget-view+json": {
       "model_id": "fa04a15353db41628f665769ab4b455b",
       "version_major": 2,
       "version_minor": 0
      },
      "text/plain": [
       "Text(value='{}', description='binding_formulas')"
      ]
     },
     "metadata": {},
     "output_type": "display_data"
    },
    {
     "name": "stdout",
     "output_type": "stream",
     "text": [
      "Plugin: BoundaryPixelTrackerPlugin\n"
     ]
    },
    {
     "data": {
      "application/vnd.jupyter.widget-view+json": {
       "model_id": "658eec2fceb947fd8df85001925fbf0f",
       "version_major": 2,
       "version_minor": 0
      },
      "text/plain": [
       "Text(value='1', description='neighbor_order')"
      ]
     },
     "metadata": {},
     "output_type": "display_data"
    },
    {
     "name": "stdout",
     "output_type": "stream",
     "text": [
      "Plugin: CellTypePlugin\n"
     ]
    },
    {
     "data": {
      "application/vnd.jupyter.widget-view+json": {
       "model_id": "c03f22352f804a86b18d17a3756e25bf",
       "version_major": 2,
       "version_minor": 0
      },
      "text/plain": [
       "Text(value=\"[('Medium', 0, False)]\", description='cell_types')"
      ]
     },
     "metadata": {},
     "output_type": "display_data"
    },
    {
     "name": "stdout",
     "output_type": "stream",
     "text": [
      "Plugin: CenterOfMassPlugin\n",
      "Plugin: ChemotaxisPlugin\n"
     ]
    },
    {
     "data": {
      "application/vnd.jupyter.widget-view+json": {
       "model_id": "d60686ceaa5e4e428d3bb372d62dad22",
       "version_major": 2,
       "version_minor": 0
      },
      "text/plain": [
       "Text(value='{}', description='field_specs')"
      ]
     },
     "metadata": {},
     "output_type": "display_data"
    },
    {
     "name": "stdout",
     "output_type": "stream",
     "text": [
      "Plugin: ConnectivityGlobalPlugin\n"
     ]
    },
    {
     "data": {
      "application/vnd.jupyter.widget-view+json": {
       "model_id": "fd9b0f28dd9441b9ba13a706a2a45dda",
       "version_major": 2,
       "version_minor": 0
      },
      "text/plain": [
       "Text(value='False', description='fast')"
      ]
     },
     "metadata": {},
     "output_type": "display_data"
    },
    {
     "data": {
      "application/vnd.jupyter.widget-view+json": {
       "model_id": "170308986b2940d9b0eea23bb30ebea6",
       "version_major": 2,
       "version_minor": 0
      },
      "text/plain": [
       "Text(value='[]', description='cell_types')"
      ]
     },
     "metadata": {},
     "output_type": "display_data"
    },
    {
     "name": "stdout",
     "output_type": "stream",
     "text": [
      "Plugin: ConnectivityPlugin\n",
      "Plugin: ContactPlugin\n"
     ]
    },
    {
     "data": {
      "application/vnd.jupyter.widget-view+json": {
       "model_id": "b678db3abb784ae39c0d7442c1ed2db2",
       "version_major": 2,
       "version_minor": 0
      },
      "text/plain": [
       "Text(value='{}', description='energies')"
      ]
     },
     "metadata": {},
     "output_type": "display_data"
    },
    {
     "data": {
      "application/vnd.jupyter.widget-view+json": {
       "model_id": "0fda0b45926f42b6951d0e7a87504a82",
       "version_major": 2,
       "version_minor": 0
      },
      "text/plain": [
       "Text(value='1', description='neighbor_order')"
      ]
     },
     "metadata": {},
     "output_type": "display_data"
    },
    {
     "name": "stdout",
     "output_type": "stream",
     "text": [
      "Plugin: CurvaturePlugin\n"
     ]
    },
    {
     "data": {
      "application/vnd.jupyter.widget-view+json": {
       "model_id": "b555f17ccab94994861c92a1184a435d",
       "version_major": 2,
       "version_minor": 0
      },
      "text/plain": [
       "Text(value='{}', description='param_specs')"
      ]
     },
     "metadata": {},
     "output_type": "display_data"
    },
    {
     "data": {
      "application/vnd.jupyter.widget-view+json": {
       "model_id": "ef0e4ce8a6c94b0f852fcf9ebcfb52a2",
       "version_major": 2,
       "version_minor": 0
      },
      "text/plain": [
       "Text(value='{}', description='type_spec')"
      ]
     },
     "metadata": {},
     "output_type": "display_data"
    },
    {
     "name": "stdout",
     "output_type": "stream",
     "text": [
      "Plugin: ExternalPotentialPlugin\n"
     ]
    },
    {
     "data": {
      "application/vnd.jupyter.widget-view+json": {
       "model_id": "2959823ec5074dfeaee4abdd7b6cef99",
       "version_major": 2,
       "version_minor": 0
      },
      "text/plain": [
       "Text(value='None', description='lambda_x')"
      ]
     },
     "metadata": {},
     "output_type": "display_data"
    },
    {
     "data": {
      "application/vnd.jupyter.widget-view+json": {
       "model_id": "09e829f35acd4d42a9011c715b79069a",
       "version_major": 2,
       "version_minor": 0
      },
      "text/plain": [
       "Text(value='None', description='lambda_y')"
      ]
     },
     "metadata": {},
     "output_type": "display_data"
    },
    {
     "data": {
      "application/vnd.jupyter.widget-view+json": {
       "model_id": "c1e9a69294924fab8b1f5f113b2a2492",
       "version_major": 2,
       "version_minor": 0
      },
      "text/plain": [
       "Text(value='None', description='lambda_z')"
      ]
     },
     "metadata": {},
     "output_type": "display_data"
    },
    {
     "data": {
      "application/vnd.jupyter.widget-view+json": {
       "model_id": "227403995e2945f097d24556ed3fbd35",
       "version_major": 2,
       "version_minor": 0
      },
      "text/plain": [
       "Text(value='False', description='com_based')"
      ]
     },
     "metadata": {},
     "output_type": "display_data"
    },
    {
     "data": {
      "application/vnd.jupyter.widget-view+json": {
       "model_id": "b52ccdb0b1104192b641f44be3b8f6be",
       "version_major": 2,
       "version_minor": 0
      },
      "text/plain": [
       "Text(value='{}', description='param_specs')"
      ]
     },
     "metadata": {},
     "output_type": "display_data"
    },
    {
     "name": "stdout",
     "output_type": "stream",
     "text": [
      "Plugin: FocalPointPlasticityPlugin\n"
     ]
    },
    {
     "data": {
      "application/vnd.jupyter.widget-view+json": {
       "model_id": "18ada66f255a40a2a719ed397dcce269",
       "version_major": 2,
       "version_minor": 0
      },
      "text/plain": [
       "Text(value='1', description='neighbor_order')"
      ]
     },
     "metadata": {},
     "output_type": "display_data"
    },
    {
     "data": {
      "application/vnd.jupyter.widget-view+json": {
       "model_id": "b31ffab99fbf4ac28c4cbce0232f7dce",
       "version_major": 2,
       "version_minor": 0
      },
      "text/plain": [
       "Text(value='{}', description='param_specs')"
      ]
     },
     "metadata": {},
     "output_type": "display_data"
    },
    {
     "name": "stdout",
     "output_type": "stream",
     "text": [
      "Plugin: LengthConstraintPlugin\n"
     ]
    },
    {
     "data": {
      "application/vnd.jupyter.widget-view+json": {
       "model_id": "cce463c7657d498cb3474eaa89f51362",
       "version_major": 2,
       "version_minor": 0
      },
      "text/plain": [
       "Text(value='{}', description='param_specs')"
      ]
     },
     "metadata": {},
     "output_type": "display_data"
    },
    {
     "name": "stdout",
     "output_type": "stream",
     "text": [
      "Plugin: MomentOfInertiaPlugin\n",
      "Plugin: NeighborTrackerPlugin\n",
      "Plugin: PixelTrackerPlugin\n"
     ]
    },
    {
     "data": {
      "application/vnd.jupyter.widget-view+json": {
       "model_id": "8958c5b82b52472aadc4886feddef4e9",
       "version_major": 2,
       "version_minor": 0
      },
      "text/plain": [
       "Text(value='False', description='track_medium')"
      ]
     },
     "metadata": {},
     "output_type": "display_data"
    },
    {
     "name": "stdout",
     "output_type": "stream",
     "text": [
      "Plugin: SecretionPlugin\n"
     ]
    },
    {
     "data": {
      "application/vnd.jupyter.widget-view+json": {
       "model_id": "02bee94aed5d42c4a504676ad294dca4",
       "version_major": 2,
       "version_minor": 0
      },
      "text/plain": [
       "Text(value='True', description='pixel_tracker')"
      ]
     },
     "metadata": {},
     "output_type": "display_data"
    },
    {
     "data": {
      "application/vnd.jupyter.widget-view+json": {
       "model_id": "16a09e8c7d3745c6901659f955c2f02d",
       "version_major": 2,
       "version_minor": 0
      },
      "text/plain": [
       "Text(value='True', description='boundary_pixel_tracker')"
      ]
     },
     "metadata": {},
     "output_type": "display_data"
    },
    {
     "data": {
      "application/vnd.jupyter.widget-view+json": {
       "model_id": "1f7fefcd8b354399848f9c91f07d2b99",
       "version_major": 2,
       "version_minor": 0
      },
      "text/plain": [
       "Text(value='{}', description='field_specs')"
      ]
     },
     "metadata": {},
     "output_type": "display_data"
    },
    {
     "name": "stdout",
     "output_type": "stream",
     "text": [
      "Plugin: SurfacePlugin\n"
     ]
    },
    {
     "data": {
      "application/vnd.jupyter.widget-view+json": {
       "model_id": "0a7f53fc67924e9eb8a01e9aabd5b272",
       "version_major": 2,
       "version_minor": 0
      },
      "text/plain": [
       "Text(value='{}', description='params')"
      ]
     },
     "metadata": {},
     "output_type": "display_data"
    },
    {
     "name": "stdout",
     "output_type": "stream",
     "text": [
      "Plugin: VolumePlugin\n"
     ]
    },
    {
     "data": {
      "application/vnd.jupyter.widget-view+json": {
       "model_id": "89ae644f30a74d86be6809314f568ed8",
       "version_major": 2,
       "version_minor": 0
      },
      "text/plain": [
       "Text(value='{}', description='params')"
      ]
     },
     "metadata": {},
     "output_type": "display_data"
    }
   ],
   "source": [
    "import ipywidgets as widgets\n",
    "from IPython.display import display\n",
    "from cc3d.core.PyCoreSpecs import PLUGINS\n",
    "\n",
    "for plugin_cls in PLUGINS:\n",
    "    plugin = plugin_cls()\n",
    "    print(f\"Plugin: {plugin_cls.__name__}\")\n",
    "    for param_name in plugin.spec_dict.keys():\n",
    "        # For demonstration, create a text box for each parameter\n",
    "        value = plugin.spec_dict[param_name]\n",
    "        input_widget = widgets.Text(\n",
    "            value=str(value),\n",
    "            description=param_name\n",
    "        )\n",
    "        display(input_widget)"
   ]
  },
  {
   "cell_type": "code",
   "execution_count": null,
   "id": "0d812faa",
   "metadata": {},
   "outputs": [
    {
     "name": "stdout",
     "output_type": "stream",
     "text": [
      "['AdhesionFlexPlugin', 'BoundaryPixelTrackerPlugin', 'CellTypePlugin', 'CenterOfMassPlugin', 'ChemotaxisPlugin', 'ConnectivityGlobalPlugin', 'ConnectivityPlugin', 'ContactPlugin', 'CurvaturePlugin', 'ExternalPotentialPlugin', 'FocalPointPlasticityPlugin', 'LengthConstraintPlugin', 'MomentOfInertiaPlugin', 'NeighborTrackerPlugin', 'PixelTrackerPlugin', 'SecretionPlugin', 'SurfacePlugin', 'VolumePlugin']\n"
     ]
    }
   ],
   "source": [
    "from cc3d.core.PyCoreSpecs import PLUGINS\n",
    "print([p.__name__ for p in PLUGINS])"
   ]
  },
  {
   "cell_type": "code",
   "execution_count": null,
   "id": "a9f35f1e",
   "metadata": {},
   "outputs": [
    {
     "data": {
      "application/vnd.jupyter.widget-view+json": {
       "model_id": "4ff37ed725814c7289f806d800934cec",
       "version_major": 2,
       "version_minor": 0
      },
      "text/plain": [
       "VBox(children=(Tab(children=(VBox(children=(HTML(value='<b>Simulation Metadata</b>'), VBox(children=(IntText(v…"
      ]
     },
     "metadata": {},
     "output_type": "display_data"
    },
    {
     "data": {
      "text/plain": [
       "'specs = [\\n    Metadata(),\\n    PottsCore(dim_x=100, dim_y=100, neighbor_order=2)\\n]'"
      ]
     },
     "execution_count": 19,
     "metadata": {},
     "output_type": "execute_result"
    }
   ],
   "source": [
    "# Option 2\n",
    "from Spec_UI import SpecificationSetupUI\n",
    "ui = SpecificationSetupUI()\n",
    "# Don't currently have a spepare Metadata class.\n",
    "# User configuration still in JSON? (yes) or a list like \"spec\"\n",
    "# Lots of constraints - initliazer email okie extracting dependacy relationships from the API\n",
    "'''specs = [\n",
    "    Metadata(),\n",
    "    PottsCore(dim_x=100, dim_y=100, neighbor_order=2)\n",
    "]'''"
   ]
  },
  {
   "cell_type": "code",
   "execution_count": null,
   "id": "0aed6d03",
   "metadata": {},
   "outputs": [
    {
     "data": {
      "application/vnd.jupyter.widget-view+json": {
       "model_id": "afd9d7389d514b4e96550151caeb3e80",
       "version_major": 2,
       "version_minor": 0
      },
      "text/plain": [
       "VBox(children=(HTML(value='<b>Potts Core Parameters<b>'), HBox(children=(VBox(children=(IntText(value=1, descr…"
      ]
     },
     "metadata": {},
     "output_type": "display_data"
    }
   ],
   "source": [
    "from Spec_UI import PottsWidget, DEFAULTS\n",
    "from IPython.display import display\n",
    "\n",
    "potts_widget = PottsWidget(DEFAULTS[\"PottsCore\"])\n",
    "display(potts_widget.create_ui())"
   ]
  },
  {
   "cell_type": "code",
   "execution_count": null,
   "id": "98d30699",
   "metadata": {},
   "outputs": [
    {
     "data": {
      "application/vnd.jupyter.widget-view+json": {
       "model_id": "b8c5bf013a2849e7b4d25c298550d56a",
       "version_major": 2,
       "version_minor": 0
      },
      "text/plain": [
       "VBox(children=(HTML(value='<b>Cell Types</b>'), VBox(children=(GridspecLayout(children=(HTML(value=\"<b style='…"
      ]
     },
     "metadata": {},
     "output_type": "display_data"
    }
   ],
   "source": [
    "from Spec_UI import CellTypeWidget, DEFAULTS\n",
    "from IPython.display import display\n",
    "\n",
    "celltype_widget = CellTypeWidget(DEFAULTS[\"CellType\"])\n",
    "display(celltype_widget.create_ui())"
   ]
  },
  {
   "cell_type": "code",
   "execution_count": null,
   "id": "0143abe3",
   "metadata": {},
   "outputs": [
    {
     "name": "stdout",
     "output_type": "stream",
     "text": [
      "Saving config: {'Metadata': {'num_processors': 2, 'debug_output_frequency': 0}, 'PottsCore': {'dim_x': 1, 'dim_y': 1, 'dim_z': 1, 'steps': 0, 'anneal': 0, 'fluctuation_amplitude': 10.0, 'fluctuation_amplitude_function': 'Min', 'boundary_x': 'NoFlux', 'boundary_y': 'NoFlux', 'boundary_z': 'NoFlux', 'neighbor_order': 1, 'debug_output_frequency': 0, 'random_seed': None, 'lattice_type': 'Cartesian', 'offset': 0, 'energy_function_calculator': None}, 'CellType': [{'Cell type': 'Medium', 'freeze': False}, {'Cell type': 'T1', 'freeze': False}], 'Plugins': {'AdhesionFlexPlugin': {'neighbor_order': 1, 'neighbor_order_error': '', 'max_distance': 3, 'max_distance_error': ''}, 'VolumePlugin': {'params': [{'CellType': 'Medium', 'target_volume': 25.0, 'lambda_volume': 2.0}, {'CellType': 'T1', 'target_volume': 25.0, 'lambda_volume': 2.0}]}}}\n",
      "Saving config: {'Metadata': {'num_processors': 1, 'debug_output_frequency': 0}, 'PottsCore': {'dim_x': 1, 'dim_y': 1, 'dim_z': 1, 'steps': 0, 'anneal': 0, 'fluctuation_amplitude': 10.0, 'fluctuation_amplitude_function': 'Min', 'boundary_x': 'NoFlux', 'boundary_y': 'NoFlux', 'boundary_z': 'NoFlux', 'neighbor_order': 1, 'debug_output_frequency': 0, 'random_seed': None, 'lattice_type': 'Cartesian', 'offset': 0, 'energy_function_calculator': None}, 'CellType': [{'Cell type': 'Medium', 'freeze': False}, {'Cell type': 'T1', 'freeze': False}], 'Plugins': {'AdhesionFlexPlugin': {'neighbor_order': 1, 'neighbor_order_error': '', 'max_distance': 3, 'max_distance_error': ''}, 'VolumePlugin': {'params': [{'CellType': 'Medium', 'target_volume': 25.0, 'lambda_volume': 2.0}, {'CellType': 'T1', 'target_volume': 25.0, 'lambda_volume': 2.0}]}}}\n",
      "Saving config: {'Metadata': {'num_processors': 1, 'debug_output_frequency': 0}, 'PottsCore': {'dim_x': 1, 'dim_y': 1, 'dim_z': 1, 'steps': 0, 'anneal': 0, 'fluctuation_amplitude': 10.0, 'fluctuation_amplitude_function': 'Min', 'boundary_x': 'NoFlux', 'boundary_y': 'NoFlux', 'boundary_z': 'NoFlux', 'neighbor_order': 1, 'debug_output_frequency': 0, 'random_seed': None, 'lattice_type': 'Cartesian', 'offset': 0, 'energy_function_calculator': None}, 'CellType': [{'Cell type': 'Medium', 'freeze': False}, {'Cell type': 'T1', 'freeze': False}], 'Plugins': {'AdhesionFlexPlugin': {'neighbor_order': 1, 'neighbor_order_error': '', 'max_distance': 3, 'max_distance_error': ''}, 'VolumePlugin': {'params': [{'CellType': 'Medium', 'target_volume': 25.0, 'lambda_volume': 2.0}, {'CellType': 'T1', 'target_volume': 25.0, 'lambda_volume': 2.0}]}}}\n",
      "Saving config: {'Metadata': {'num_processors': 1, 'debug_output_frequency': 0}, 'PottsCore': {'dim_x': 1, 'dim_y': 1, 'dim_z': 1, 'steps': 0, 'anneal': 0, 'fluctuation_amplitude': 10.0, 'fluctuation_amplitude_function': 'Min', 'boundary_x': 'NoFlux', 'boundary_y': 'NoFlux', 'boundary_z': 'NoFlux', 'neighbor_order': 1, 'debug_output_frequency': 0, 'random_seed': None, 'lattice_type': 'Cartesian', 'offset': 0, 'energy_function_calculator': None}, 'CellType': [{'Cell type': 'Medium', 'freeze': False}, {'Cell type': 'T1', 'freeze': False}], 'Plugins': {'AdhesionFlexPlugin': {'neighbor_order': 1, 'neighbor_order_error': '', 'max_distance': 3, 'max_distance_error': ''}, 'VolumePlugin': {'params': [{'CellType': 'Medium', 'target_volume': 25.0, 'lambda_volume': 2.0}, {'CellType': 'T1', 'target_volume': 25.0, 'lambda_volume': 2.0}]}}}\n",
      "Saving config: {'Metadata': {'num_processors': 1, 'debug_output_frequency': 0}, 'PottsCore': {'dim_x': 1, 'dim_y': 1, 'dim_z': 1, 'steps': 0, 'anneal': 0, 'fluctuation_amplitude': 10.0, 'fluctuation_amplitude_function': 'Min', 'boundary_x': 'NoFlux', 'boundary_y': 'NoFlux', 'boundary_z': 'NoFlux', 'neighbor_order': 1, 'debug_output_frequency': 0, 'random_seed': None, 'lattice_type': 'Cartesian', 'offset': 0, 'energy_function_calculator': None}, 'CellType': [{'Cell type': 'Medium', 'freeze': False}, {'Cell type': 'T1', 'freeze': False}], 'Plugins': {'AdhesionFlexPlugin': {'neighbor_order': 1, 'neighbor_order_error': '', 'max_distance': 3, 'max_distance_error': ''}, 'VolumePlugin': {'params': [{'CellType': 'Medium', 'target_volume': 25.0, 'lambda_volume': 2.0}, {'CellType': 'T1', 'target_volume': 25.0, 'lambda_volume': 2.0}]}}}\n",
      "Saving config: {'Metadata': {'num_processors': 1, 'debug_output_frequency': 0}, 'PottsCore': {'dim_x': 1, 'dim_y': 1, 'dim_z': 1, 'steps': 0, 'anneal': 0, 'fluctuation_amplitude': 10.0, 'fluctuation_amplitude_function': 'Min', 'boundary_x': 'NoFlux', 'boundary_y': 'NoFlux', 'boundary_z': 'NoFlux', 'neighbor_order': 1, 'debug_output_frequency': 0, 'random_seed': None, 'lattice_type': 'Cartesian', 'offset': 0, 'energy_function_calculator': None}, 'CellType': [{'Cell type': 'Medium', 'freeze': False}], 'Plugins': {'AdhesionFlexPlugin': {'neighbor_order': 1, 'neighbor_order_error': '', 'max_distance': 3, 'max_distance_error': ''}, 'VolumePlugin': {'params': [{'CellType': 'Medium', 'target_volume': 25.0, 'lambda_volume': 2.0}, {'CellType': 'T1', 'target_volume': 25.0, 'lambda_volume': 2.0}]}}}\n"
     ]
    },
    {
     "data": {
      "application/vnd.jupyter.widget-view+json": {
       "model_id": "7dcccc9b134249e9b5688c5e56c8dadd",
       "version_major": 2,
       "version_minor": 0
      },
      "text/plain": [
       "VBox(children=(Tab(children=(VBox(children=(HTML(value='<b>Simulation Metadata</b>'), VBox(children=(IntText(v…"
      ]
     },
     "metadata": {},
     "output_type": "display_data"
    },
    {
     "name": "stdout",
     "output_type": "stream",
     "text": [
      "Saving config: {'Metadata': {'num_processors': 1, 'debug_output_frequency': 0}, 'PottsCore': {'dim_x': 1, 'dim_y': 1, 'dim_z': 1, 'steps': 0, 'anneal': 0, 'fluctuation_amplitude': 10.0, 'fluctuation_amplitude_function': 'Min', 'boundary_x': 'NoFlux', 'boundary_y': 'NoFlux', 'boundary_z': 'NoFlux', 'neighbor_order': 1, 'debug_output_frequency': 0, 'random_seed': None, 'lattice_type': 'Cartesian', 'offset': 0, 'energy_function_calculator': None}, 'CellType': [{'Cell type': 'Medium', 'freeze': False}], 'Plugins': {}}\n"
     ]
    }
   ],
   "source": [
    "ui.save_to_json()  # Manual save\n",
    "ui.reset_all()     # Reset everything (pass None as required argument)\n",
    "config = ui.current_config()  # Get current state"
   ]
  }
 ],
 "metadata": {
  "kernelspec": {
   "display_name": "cc3d_460_310",
   "language": "python",
   "name": "python3"
  },
  "language_info": {
   "codemirror_mode": {
    "name": "ipython",
    "version": 3
   },
   "file_extension": ".py",
   "mimetype": "text/x-python",
   "name": "python",
   "nbconvert_exporter": "python",
   "pygments_lexer": "ipython3",
   "version": "3.10.13"
  }
 },
 "nbformat": 4,
 "nbformat_minor": 5
}
