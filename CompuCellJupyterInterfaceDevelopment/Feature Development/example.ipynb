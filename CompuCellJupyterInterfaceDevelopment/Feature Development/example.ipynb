{
 "cells": [
  {
   "cell_type": "markdown",
   "id": "d9726877",
   "metadata": {},
   "source": [
    "## First Demo - Sorting Demo\n",
    "\n",
    "```\n",
    "specs = [\n",
    "    Metadata(), \n",
    "    PottsCore(dim_x=100, dim_y=100, neighbor_order=2)\n",
    "]\n",
    "\n",
    "cell_types = [\"Condensing\", \"NonCondensing\"]\n",
    "specs.append(CellTypePlugin(*cell_types))\n",
    "\n",
    "target_volume = 25\n",
    "lambda_volume = 2\n",
    "\n",
    "volume_specs = VolumePlugin()\n",
    "volume_specs.param_new(cell_types[0], target_volume=target_volume, lambda_volume=lambda_volume)\n",
    "volume_specs.param_new(cell_types[1], target_volume=target_volume, lambda_volume=lambda_volume)\n",
    "specs.append(volume_specs)\n",
    "```"
   ]
  },
  {
   "cell_type": "code",
   "execution_count": 22,
   "id": "8c235c65",
   "metadata": {},
   "outputs": [
    {
     "data": {
      "text/html": [
       "\n",
       "<style>\n",
       "/* Round corners for all input boxes */\n",
       ".widget-text input,\n",
       ".widget-bounded-int-text input,\n",
       ".widget-bounded-float-text input,\n",
       ".widget-float-text input,\n",
       ".widget-int-text input {\n",
       "    border-radius: 4px !important;\n",
       "}\n",
       "\n",
       "/* Round corners for dropdown/select inputs */\n",
       ".widget-dropdown select,\n",
       ".widget-select select {\n",
       "    border-radius: 4px !important;\n",
       "}\n",
       "\n",
       "/* Round corners for buttons */\n",
       ".widget-button button,\n",
       ".jupyter-button {\n",
       "    border-radius: 4px !important;\n",
       "}\n",
       "\n",
       "/* Spacing classes for layout containers */\n",
       ".vbox-row-spacing {\n",
       "    margin: 10px 0 !important;\n",
       "}\n",
       "\n",
       ".hbox-item-spacing {\n",
       "    margin: 0 15px 0 0 !important;\n",
       "}\n",
       "\n",
       ".vbox-no-margin {\n",
       "    margin: 0 !important;\n",
       "}\n",
       "\n",
       ".hbox-no-margin {\n",
       "    margin: 0 !important;\n",
       "}\n",
       "\n",
       ".celltype-item-spacing {\n",
       "    margin: 0 0 5px 0 !important;\n",
       "}\n",
       "\n",
       ".small-right-spacing {\n",
       "    margin: 0 5px 0 0 !important;\n",
       "}\n",
       "\n",
       "/* Plugin-specific spacing classes */\n",
       ".plugin-config-container {\n",
       "    padding: 0 0 0 0 !important;\n",
       "}\n",
       ".plugin-compact-container {\n",
       "    padding: 0 !important;\n",
       "    margin: 0 !important;\n",
       "}\n",
       ".plugin-input-spacing {\n",
       "    margin: 0 15px 0 0 !important;\n",
       "}\n",
       ".plugin-bottom-spacing {\n",
       "    margin: 0 0 15px 0 !important;\n",
       "}\n",
       ".plugin-checkbox-bottom-spacing {\n",
       "    margin: 0 0 15px 0 !important;\n",
       "}\n",
       ".button-spacing {\n",
       "    margin: 10px 0 !important;\n",
       "}\n",
       "\n",
       "/* Error state styling with rounded corners */\n",
       ".error-input input {\n",
       "    border: 2px solid #f44336 !important;\n",
       "    background-color: #ffebee !important;\n",
       "    box-shadow: 0 0 3px rgba(244, 67, 54, 0.3) !important;\n",
       "    border-radius: 4px !important;\n",
       "}\n",
       "\n",
       ".error-input input:focus {\n",
       "    border-color: #d32f2f !important;\n",
       "    box-shadow: 0 0 5px rgba(244, 67, 54, 0.5) !important;\n",
       "    border-radius: 4px !important;\n",
       "}\n",
       "\n",
       ".plugin-top-spacing {\n",
       "    margin-top: 10px !important;\n",
       "}\n",
       "</style>\n"
      ],
      "text/plain": [
       "<IPython.core.display.HTML object>"
      ]
     },
     "metadata": {},
     "output_type": "display_data"
    }
   ],
   "source": [
    "# Inject CSS for input styling and error states\n",
    "from IPython.display import display, HTML as IPythonHTML\n",
    "display(IPythonHTML(\"\"\"\n",
    "<style>\n",
    "/* Round corners for all input boxes */\n",
    ".widget-text input,\n",
    ".widget-bounded-int-text input,\n",
    ".widget-bounded-float-text input,\n",
    ".widget-float-text input,\n",
    ".widget-int-text input {\n",
    "    border-radius: 4px !important;\n",
    "}\n",
    "\n",
    "/* Round corners for dropdown/select inputs */\n",
    ".widget-dropdown select,\n",
    ".widget-select select {\n",
    "    border-radius: 4px !important;\n",
    "}\n",
    "\n",
    "/* Round corners for buttons */\n",
    ".widget-button button,\n",
    ".jupyter-button {\n",
    "    border-radius: 4px !important;\n",
    "}\n",
    "\n",
    "/* Spacing classes for layout containers */\n",
    ".vbox-row-spacing {\n",
    "    margin: 10px 0 !important;\n",
    "}\n",
    "\n",
    ".hbox-item-spacing {\n",
    "    margin: 0 15px 0 0 !important;\n",
    "}\n",
    "\n",
    ".vbox-no-margin {\n",
    "    margin: 0 !important;\n",
    "}\n",
    "\n",
    ".hbox-no-margin {\n",
    "    margin: 0 !important;\n",
    "}\n",
    "\n",
    ".celltype-item-spacing {\n",
    "    margin: 0 0 5px 0 !important;\n",
    "}\n",
    "\n",
    ".small-right-spacing {\n",
    "    margin: 0 5px 0 0 !important;\n",
    "}\n",
    "\n",
    "/* Plugin-specific spacing classes */\n",
    ".plugin-config-container {\n",
    "    padding: 0 0 0 0 !important;\n",
    "}\n",
    ".plugin-compact-container {\n",
    "    padding: 0 !important;\n",
    "    margin: 0 !important;\n",
    "}\n",
    ".plugin-input-spacing {\n",
    "    margin: 0 15px 0 0 !important;\n",
    "}\n",
    ".plugin-bottom-spacing {\n",
    "    margin: 0 0 15px 0 !important;\n",
    "}\n",
    ".plugin-checkbox-bottom-spacing {\n",
    "    margin: 0 0 15px 0 !important;\n",
    "}\n",
    ".button-spacing {\n",
    "    margin: 10px 0 !important;\n",
    "}\n",
    "\n",
    "/* Error state styling with rounded corners */\n",
    ".error-input input {\n",
    "    border: 2px solid #f44336 !important;\n",
    "    background-color: #ffebee !important;\n",
    "    box-shadow: 0 0 3px rgba(244, 67, 54, 0.3) !important;\n",
    "    border-radius: 4px !important;\n",
    "}\n",
    "\n",
    ".error-input input:focus {\n",
    "    border-color: #d32f2f !important;\n",
    "    box-shadow: 0 0 5px rgba(244, 67, 54, 0.5) !important;\n",
    "    border-radius: 4px !important;\n",
    "}\n",
    "\n",
    ".plugin-top-spacing {\n",
    "    margin-top: 10px !important;\n",
    "}\n",
    "</style>\n",
    "\"\"\"))\n"
   ]
  },
  {
   "cell_type": "code",
   "execution_count": null,
   "id": "6581d5e7",
   "metadata": {},
   "outputs": [],
   "source": [
    "from Spec_UI_1 import SpecificationSetupUI\n",
    "\n",
    "# ui = SpecificationSetupUI()\n",
    "\n",
    "# Debuging:\n",
    "# + Random seed should be a number generator number (positive integer)\n",
    "# + Reset celltype and reset pottscore needs to be fixed?\n",
    "# Neighbor order can't be negative for plugins\n",
    "\n",
    "# Newly added features:\n",
    "# Dimension were bounded now.\n",
    "# Cell Type id added. (smallest available id)\n",
    "# Advanced potts core setting added.\n",
    "\n",
    "# Stretch goal:\n",
    "# Try the Sorting Notebook demo, start looking at energy and initializers.\n"
   ]
  },
  {
   "cell_type": "code",
   "execution_count": 24,
   "id": "63d42a93",
   "metadata": {},
   "outputs": [
    {
     "data": {
      "application/vnd.jupyter.widget-view+json": {
       "model_id": "0bdfa0afde3d4a6a9577c81d79aae03d",
       "version_major": 2,
       "version_minor": 0
      },
      "text/plain": [
       "VBox(children=(Tab(children=(VBox(children=(VBox(children=(HTML(value='<b>Simulation Metadata</b>', layout=Lay…"
      ]
     },
     "metadata": {},
     "output_type": "display_data"
    }
   ],
   "source": [
    "from Spec_UI import SpecificationSetupUI\n",
    "\n",
    "ui = SpecificationSetupUI()"
   ]
  },
  {
   "cell_type": "code",
   "execution_count": 17,
   "id": "93b6b59f",
   "metadata": {},
   "outputs": [
    {
     "name": "stdout",
     "output_type": "stream",
     "text": [
      "['Condensing', 'NonCondensing']\n"
     ]
    }
   ],
   "source": [
    "from cc3d.core.PyCoreSpecs import BlobInitializer\n",
    "\n",
    "specs = [\n",
    "    ui.metadata,\n",
    "    ui.potts_core,\n",
    "    ui.cell_type_plugin\n",
    "]\n",
    "\n",
    "cell_types = [ui.cell_type_plugin.cell_types[1], ui.cell_type_plugin.cell_types[2]]\n",
    "\n",
    "blob_init_specs = BlobInitializer()\n",
    "blob_init_specs.region_new(width=5, radius=20, center=(50, 50, 0), cell_types=cell_types)\n",
    "specs.append(blob_init_specs)\n",
    "\n",
    "print(cell_types)"
   ]
  },
  {
   "cell_type": "code",
   "execution_count": null,
   "id": "791cf9e5",
   "metadata": {},
   "outputs": [],
   "source": [
    "\n",
    "from cc3d.core.PyCoreSpecs import ContactPlugin\n",
    "\n",
    "contact_specs = ContactPlugin(2)\n",
    "contact_specs.param_new(type_1=\"Medium\", type_2=cell_types[0], energy=16)\n",
    "contact_specs.param_new(type_1=\"Medium\", type_2=cell_types[1], energy=16)\n",
    "contact_specs.param_new(type_1=cell_types[0], type_2=cell_types[0], energy=2)\n",
    "contact_specs.param_new(type_1=cell_types[0], type_2=cell_types[1], energy=11)\n",
    "contact_specs.param_new(type_1=cell_types[1], type_2=cell_types[1], energy=16)\n",
    "specs.append(contact_specs)\n"
   ]
  },
  {
   "cell_type": "code",
   "execution_count": 19,
   "id": "af478abf",
   "metadata": {},
   "outputs": [
    {
     "name": "stdout",
     "output_type": "stream",
     "text": [
      "WILL RUN SIMULATION FROM BEGINNING\n"
     ]
    },
    {
     "name": "stderr",
     "output_type": "stream",
     "text": [
      "a:\\conda_envs\\cc3d_env\\lib\\site-packages\\cc3d\\core\\Configuration\\SettingUtils.py:248: UserWarning: Setting not set: PlayerSizes\n",
      "  warnings.warn(f'Setting not set: {_el.attrib[\"Name\"]}')\n",
      "a:\\conda_envs\\cc3d_env\\lib\\site-packages\\cc3d\\core\\Configuration\\SettingUtils.py:248: UserWarning: Setting not set: PlayerSizesFloating\n",
      "  warnings.warn(f'Setting not set: {_el.attrib[\"Name\"]}')\n",
      "a:\\conda_envs\\cc3d_env\\lib\\site-packages\\cc3d\\core\\Configuration\\SettingUtils.py:248: UserWarning: Setting not set: RecentSimulations\n",
      "  warnings.warn(f'Setting not set: {_el.attrib[\"Name\"]}')\n"
     ]
    },
    {
     "data": {
      "text/plain": [
       "True"
      ]
     },
     "execution_count": 19,
     "metadata": {},
     "output_type": "execute_result"
    }
   ],
   "source": [
    "from cc3d.CompuCellSetup.CC3DCaller import CC3DSimService\n",
    "\n",
    "cc3d_sim = CC3DSimService()\n",
    "cc3d_sim.register_specs(specs)\n",
    "cc3d_sim.run()\n",
    "cc3d_sim.init()\n",
    "cc3d_sim.start()"
   ]
  },
  {
   "cell_type": "code",
   "execution_count": 20,
   "id": "e792541d",
   "metadata": {},
   "outputs": [
    {
     "data": {
      "application/vnd.jupyter.widget-view+json": {
       "model_id": "85b88f7a70ab4ef6a8281793101fb0b0",
       "version_major": 2,
       "version_minor": 0
      },
      "text/plain": [
       "CC3DViewInteractiveWidget(height=600, layout=Layout(height='auto', width='100%'), width=600)"
      ]
     },
     "metadata": {},
     "output_type": "display_data"
    },
    {
     "data": {
      "application/vnd.jupyter.widget-view+json": {
       "model_id": "b93a1595b9274ab2b9e2a4c02e2bb1f2",
       "version_major": 2,
       "version_minor": 0
      },
      "text/plain": [
       "ToggleButton(value=False, description='Run Simulation')"
      ]
     },
     "metadata": {},
     "output_type": "display_data"
    }
   ],
   "source": [
    "from IPython.display import display\n",
    "\n",
    "cc3d_sim.visualize().show()\n",
    "display(cc3d_sim.jupyter_run_button())"
   ]
  },
  {
   "cell_type": "code",
   "execution_count": null,
   "id": "ddbb24ce",
   "metadata": {},
   "outputs": [
    {
     "data": {
      "application/vnd.jupyter.widget-view+json": {
       "model_id": "390e8e51adfe497fbbec5624579f112f",
       "version_major": 2,
       "version_minor": 0
      },
      "text/plain": [
       "HBox(children=(VBox(children=(Button(description='Tab 1', layout=Layout(width='100%'), style=ButtonStyle()), B…"
      ]
     },
     "metadata": {},
     "output_type": "display_data"
    }
   ],
   "source": [
    "# Testing vertical tabs\n",
    "import ipywidgets as widgets\n",
    "from IPython.display import display\n",
    "\n",
    "# Create content for each tab\n",
    "out1 = widgets.Output()\n",
    "out2 = widgets.Output()\n",
    "out3 = widgets.Output()\n",
    "\n",
    "with out1:\n",
    "    print(\"Content of Tab 1\")\n",
    "\n",
    "with out2:\n",
    "    print(\"Content of Tab 2\")\n",
    "\n",
    "with out3:\n",
    "    print(\"Content of Tab 3\")\n",
    "\n",
    "# Create individual buttons instead of ToggleButtons for more control\n",
    "tab1_btn = widgets.Button(description='Tab 1', layout=widgets.Layout(width='100%'))\n",
    "tab2_btn = widgets.Button(description='Tab 2', layout=widgets.Layout(width='100%'))\n",
    "tab3_btn = widgets.Button(description='Tab 3', layout=widgets.Layout(width='100%'))\n",
    "\n",
    "# Put them into a VBox so they stack tightly\n",
    "tabs_box = widgets.VBox([tab1_btn, tab2_btn, tab3_btn], layout=widgets.Layout(width='120px'))\n",
    "\n",
    "# Output area\n",
    "content_area = widgets.Output()\n",
    "\n",
    "# Function to switch content\n",
    "def show_tab(tab):\n",
    "    content_area.clear_output()\n",
    "    with content_area:\n",
    "        if tab == 1:\n",
    "            display(out1)\n",
    "        elif tab == 2:\n",
    "            display(out2)\n",
    "        elif tab == 3:\n",
    "            display(out3)\n",
    "\n",
    "# Attach callbacks\n",
    "tab1_btn.on_click(lambda b: show_tab(1))\n",
    "tab2_btn.on_click(lambda b: show_tab(2))\n",
    "tab3_btn.on_click(lambda b: show_tab(3))\n",
    "\n",
    "# Layout the tabs and content\n",
    "ui = widgets.HBox([tabs_box, content_area])\n",
    "\n",
    "# Display\n",
    "display(ui)\n",
    "\n",
    "# Initialize first tab\n",
    "show_tab(1)\n"
   ]
  },
  {
   "cell_type": "code",
   "execution_count": 5,
   "id": "21f0784e",
   "metadata": {},
   "outputs": [
    {
     "name": "stdout",
     "output_type": "stream",
     "text": [
      "Plugin: AdhesionFlexPlugin\n"
     ]
    },
    {
     "data": {
      "application/vnd.jupyter.widget-view+json": {
       "model_id": "31eff54927f24c7c9689cdde0b5eaa73",
       "version_major": 2,
       "version_minor": 0
      },
      "text/plain": [
       "Text(value='1', description='neighbor_order')"
      ]
     },
     "metadata": {},
     "output_type": "display_data"
    },
    {
     "data": {
      "application/vnd.jupyter.widget-view+json": {
       "model_id": "0d709d98772c4ff8984846f01dbe924f",
       "version_major": 2,
       "version_minor": 0
      },
      "text/plain": [
       "Text(value='[]', description='molecules')"
      ]
     },
     "metadata": {},
     "output_type": "display_data"
    },
    {
     "data": {
      "application/vnd.jupyter.widget-view+json": {
       "model_id": "3eb922885f454473b0270f2d36d867c6",
       "version_major": 2,
       "version_minor": 0
      },
      "text/plain": [
       "Text(value='{}', description='densities')"
      ]
     },
     "metadata": {},
     "output_type": "display_data"
    },
    {
     "data": {
      "application/vnd.jupyter.widget-view+json": {
       "model_id": "0eb8c48983bb46c198d5ce422708c574",
       "version_major": 2,
       "version_minor": 0
      },
      "text/plain": [
       "Text(value='{}', description='binding_formulas')"
      ]
     },
     "metadata": {},
     "output_type": "display_data"
    },
    {
     "name": "stdout",
     "output_type": "stream",
     "text": [
      "Plugin: BoundaryPixelTrackerPlugin\n"
     ]
    },
    {
     "data": {
      "application/vnd.jupyter.widget-view+json": {
       "model_id": "c2888a20e4e545a8abb0295ef5e9e087",
       "version_major": 2,
       "version_minor": 0
      },
      "text/plain": [
       "Text(value='1', description='neighbor_order')"
      ]
     },
     "metadata": {},
     "output_type": "display_data"
    },
    {
     "name": "stdout",
     "output_type": "stream",
     "text": [
      "Plugin: CellTypePlugin\n"
     ]
    },
    {
     "data": {
      "application/vnd.jupyter.widget-view+json": {
       "model_id": "e28752212a4a48de81687bb276e2b555",
       "version_major": 2,
       "version_minor": 0
      },
      "text/plain": [
       "Text(value=\"[('Medium', 0, False)]\", description='cell_types')"
      ]
     },
     "metadata": {},
     "output_type": "display_data"
    },
    {
     "name": "stdout",
     "output_type": "stream",
     "text": [
      "Plugin: CenterOfMassPlugin\n",
      "Plugin: ChemotaxisPlugin\n"
     ]
    },
    {
     "data": {
      "application/vnd.jupyter.widget-view+json": {
       "model_id": "8576c7b79a63472f900cdf7089c84e78",
       "version_major": 2,
       "version_minor": 0
      },
      "text/plain": [
       "Text(value='{}', description='field_specs')"
      ]
     },
     "metadata": {},
     "output_type": "display_data"
    },
    {
     "name": "stdout",
     "output_type": "stream",
     "text": [
      "Plugin: ConnectivityGlobalPlugin\n"
     ]
    },
    {
     "data": {
      "application/vnd.jupyter.widget-view+json": {
       "model_id": "28c05823ba4d4f92ad14234c6806a3fd",
       "version_major": 2,
       "version_minor": 0
      },
      "text/plain": [
       "Text(value='False', description='fast')"
      ]
     },
     "metadata": {},
     "output_type": "display_data"
    },
    {
     "data": {
      "application/vnd.jupyter.widget-view+json": {
       "model_id": "2587e51c813f4d1aa6863ac9a0dc69c0",
       "version_major": 2,
       "version_minor": 0
      },
      "text/plain": [
       "Text(value='[]', description='cell_types')"
      ]
     },
     "metadata": {},
     "output_type": "display_data"
    },
    {
     "name": "stdout",
     "output_type": "stream",
     "text": [
      "Plugin: ConnectivityPlugin\n",
      "Plugin: ContactPlugin\n"
     ]
    },
    {
     "data": {
      "application/vnd.jupyter.widget-view+json": {
       "model_id": "8755fe3b9ee24f4b8d503994fa2eeeec",
       "version_major": 2,
       "version_minor": 0
      },
      "text/plain": [
       "Text(value='{}', description='energies')"
      ]
     },
     "metadata": {},
     "output_type": "display_data"
    },
    {
     "data": {
      "application/vnd.jupyter.widget-view+json": {
       "model_id": "7a995c0e093a4084b8f66839ebf8a89a",
       "version_major": 2,
       "version_minor": 0
      },
      "text/plain": [
       "Text(value='1', description='neighbor_order')"
      ]
     },
     "metadata": {},
     "output_type": "display_data"
    },
    {
     "name": "stdout",
     "output_type": "stream",
     "text": [
      "Plugin: CurvaturePlugin\n"
     ]
    },
    {
     "data": {
      "application/vnd.jupyter.widget-view+json": {
       "model_id": "5d98162a27c54defa0da60fea83ea17f",
       "version_major": 2,
       "version_minor": 0
      },
      "text/plain": [
       "Text(value='{}', description='param_specs')"
      ]
     },
     "metadata": {},
     "output_type": "display_data"
    },
    {
     "data": {
      "application/vnd.jupyter.widget-view+json": {
       "model_id": "7aed6f5d9f154f53a54e9ec2d341eba0",
       "version_major": 2,
       "version_minor": 0
      },
      "text/plain": [
       "Text(value='{}', description='type_spec')"
      ]
     },
     "metadata": {},
     "output_type": "display_data"
    },
    {
     "name": "stdout",
     "output_type": "stream",
     "text": [
      "Plugin: ExternalPotentialPlugin\n"
     ]
    },
    {
     "data": {
      "application/vnd.jupyter.widget-view+json": {
       "model_id": "ee438a093c174f428b641fb832917700",
       "version_major": 2,
       "version_minor": 0
      },
      "text/plain": [
       "Text(value='None', description='lambda_x')"
      ]
     },
     "metadata": {},
     "output_type": "display_data"
    },
    {
     "data": {
      "application/vnd.jupyter.widget-view+json": {
       "model_id": "d6f438d7989547edafe50b64e0f9cd97",
       "version_major": 2,
       "version_minor": 0
      },
      "text/plain": [
       "Text(value='None', description='lambda_y')"
      ]
     },
     "metadata": {},
     "output_type": "display_data"
    },
    {
     "data": {
      "application/vnd.jupyter.widget-view+json": {
       "model_id": "c89165baf4a2449495c231b3a9595c94",
       "version_major": 2,
       "version_minor": 0
      },
      "text/plain": [
       "Text(value='None', description='lambda_z')"
      ]
     },
     "metadata": {},
     "output_type": "display_data"
    },
    {
     "data": {
      "application/vnd.jupyter.widget-view+json": {
       "model_id": "69c38a55186146679b311f87b5723485",
       "version_major": 2,
       "version_minor": 0
      },
      "text/plain": [
       "Text(value='False', description='com_based')"
      ]
     },
     "metadata": {},
     "output_type": "display_data"
    },
    {
     "data": {
      "application/vnd.jupyter.widget-view+json": {
       "model_id": "494362e3037040a39e2fdd762b746308",
       "version_major": 2,
       "version_minor": 0
      },
      "text/plain": [
       "Text(value='{}', description='param_specs')"
      ]
     },
     "metadata": {},
     "output_type": "display_data"
    },
    {
     "name": "stdout",
     "output_type": "stream",
     "text": [
      "Plugin: FocalPointPlasticityPlugin\n"
     ]
    },
    {
     "data": {
      "application/vnd.jupyter.widget-view+json": {
       "model_id": "8b7b4d54bbec46b0a25f1df1f16b9eb9",
       "version_major": 2,
       "version_minor": 0
      },
      "text/plain": [
       "Text(value='1', description='neighbor_order')"
      ]
     },
     "metadata": {},
     "output_type": "display_data"
    },
    {
     "data": {
      "application/vnd.jupyter.widget-view+json": {
       "model_id": "c314839eca2748b785d63804dd0ed8e4",
       "version_major": 2,
       "version_minor": 0
      },
      "text/plain": [
       "Text(value='{}', description='param_specs')"
      ]
     },
     "metadata": {},
     "output_type": "display_data"
    },
    {
     "name": "stdout",
     "output_type": "stream",
     "text": [
      "Plugin: LengthConstraintPlugin\n"
     ]
    },
    {
     "data": {
      "application/vnd.jupyter.widget-view+json": {
       "model_id": "3fb3184bfbfd41b98a948a11282448d7",
       "version_major": 2,
       "version_minor": 0
      },
      "text/plain": [
       "Text(value='{}', description='param_specs')"
      ]
     },
     "metadata": {},
     "output_type": "display_data"
    },
    {
     "name": "stdout",
     "output_type": "stream",
     "text": [
      "Plugin: MomentOfInertiaPlugin\n",
      "Plugin: NeighborTrackerPlugin\n",
      "Plugin: PixelTrackerPlugin\n"
     ]
    },
    {
     "data": {
      "application/vnd.jupyter.widget-view+json": {
       "model_id": "a1b275778bba4ce1bd1b2d3cbe4575a1",
       "version_major": 2,
       "version_minor": 0
      },
      "text/plain": [
       "Text(value='False', description='track_medium')"
      ]
     },
     "metadata": {},
     "output_type": "display_data"
    },
    {
     "name": "stdout",
     "output_type": "stream",
     "text": [
      "Plugin: SecretionPlugin\n"
     ]
    },
    {
     "data": {
      "application/vnd.jupyter.widget-view+json": {
       "model_id": "7f907b8b28b740a8b5acffcdbd4368db",
       "version_major": 2,
       "version_minor": 0
      },
      "text/plain": [
       "Text(value='True', description='pixel_tracker')"
      ]
     },
     "metadata": {},
     "output_type": "display_data"
    },
    {
     "data": {
      "application/vnd.jupyter.widget-view+json": {
       "model_id": "2ac15eea55ba4c6a909101e8d93973a2",
       "version_major": 2,
       "version_minor": 0
      },
      "text/plain": [
       "Text(value='True', description='boundary_pixel_tracker')"
      ]
     },
     "metadata": {},
     "output_type": "display_data"
    },
    {
     "data": {
      "application/vnd.jupyter.widget-view+json": {
       "model_id": "bfaa7d0171654ac287a48bb4b1315a24",
       "version_major": 2,
       "version_minor": 0
      },
      "text/plain": [
       "Text(value='{}', description='field_specs')"
      ]
     },
     "metadata": {},
     "output_type": "display_data"
    },
    {
     "name": "stdout",
     "output_type": "stream",
     "text": [
      "Plugin: SurfacePlugin\n"
     ]
    },
    {
     "data": {
      "application/vnd.jupyter.widget-view+json": {
       "model_id": "10dde26b772044a3816e4919a133d2d8",
       "version_major": 2,
       "version_minor": 0
      },
      "text/plain": [
       "Text(value='{}', description='params')"
      ]
     },
     "metadata": {},
     "output_type": "display_data"
    },
    {
     "name": "stdout",
     "output_type": "stream",
     "text": [
      "Plugin: VolumePlugin\n"
     ]
    },
    {
     "data": {
      "application/vnd.jupyter.widget-view+json": {
       "model_id": "383ef164f80c43928b45e8d283f4bf64",
       "version_major": 2,
       "version_minor": 0
      },
      "text/plain": [
       "Text(value='{}', description='params')"
      ]
     },
     "metadata": {},
     "output_type": "display_data"
    }
   ],
   "source": [
    "import ipywidgets as widgets\n",
    "from IPython.display import display\n",
    "from cc3d.core.PyCoreSpecs import PLUGINS\n",
    "\n",
    "for plugin_cls in PLUGINS:\n",
    "    plugin = plugin_cls()\n",
    "    print(f\"Plugin: {plugin_cls.__name__}\")\n",
    "    for param_name in plugin.spec_dict.keys():\n",
    "        # For demonstration, create a text box for each parameter\n",
    "        value = plugin.spec_dict[param_name]\n",
    "        input_widget = widgets.Text(\n",
    "            value=str(value),\n",
    "            description=param_name\n",
    "        )\n",
    "        display(input_widget)"
   ]
  },
  {
   "cell_type": "code",
   "execution_count": 6,
   "id": "0d812faa",
   "metadata": {},
   "outputs": [
    {
     "name": "stdout",
     "output_type": "stream",
     "text": [
      "['AdhesionFlexPlugin', 'BoundaryPixelTrackerPlugin', 'CellTypePlugin', 'CenterOfMassPlugin', 'ChemotaxisPlugin', 'ConnectivityGlobalPlugin', 'ConnectivityPlugin', 'ContactPlugin', 'CurvaturePlugin', 'ExternalPotentialPlugin', 'FocalPointPlasticityPlugin', 'LengthConstraintPlugin', 'MomentOfInertiaPlugin', 'NeighborTrackerPlugin', 'PixelTrackerPlugin', 'SecretionPlugin', 'SurfacePlugin', 'VolumePlugin']\n"
     ]
    }
   ],
   "source": [
    "from cc3d.core.PyCoreSpecs import PLUGINS\n",
    "print([p.__name__ for p in PLUGINS])"
   ]
  }
 ],
 "metadata": {
  "kernelspec": {
   "display_name": "cc3d_460_310",
   "language": "python",
   "name": "python3"
  },
  "language_info": {
   "codemirror_mode": {
    "name": "ipython",
    "version": 3
   },
   "file_extension": ".py",
   "mimetype": "text/x-python",
   "name": "python",
   "nbconvert_exporter": "python",
   "pygments_lexer": "ipython3",
   "version": "3.10.13"
  }
 },
 "nbformat": 4,
 "nbformat_minor": 5
}
