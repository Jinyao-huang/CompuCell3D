{
 "cells": [
  {
   "cell_type": "markdown",
   "id": "d9726877",
   "metadata": {},
   "source": [
    "## First Demo - Adhesion Demo\n",
    "\n",
    "```dim_x = dim_y = 100\n",
    "specs = [\n",
    "    Metadata(num_processors=4),\n",
    "    PottsCore(dim_x=dim_x,\n",
    "              dim_y=dim_y,\n",
    "              neighbor_order=2,\n",
    "              boundary_x=\"Periodic\",\n",
    "              boundary_y=\"Periodic\")\n",
    "]\n",
    "\n",
    "cell_types = [\"T1\", \"T2\", \"T3\"]\n",
    "\n",
    "for ct in cell_types:\n",
    "    volume_specs.param_new(ct, target_volume=25, lambda_volume=2)\n",
    "\n",
    "contact_specs = ContactPlugin(neighbor_order=2)\n",
    "for idx1 in range(len(cell_types)):\n",
    "    contact_specs.param_new(type_1=\"Medium\", type_2=cell_types[idx1], energy=16)\n",
    "    for idx2 in range(idx1, len(cell_types)):\n",
    "        contact_specs.param_new(type_1=cell_types[idx1], type_2=cell_types[idx2], energy=16)\n",
    "\n",
    "adhesion_specs = AdhesionFlexPlugin(neighbor_order=2)\n",
    "adhesion_specs.density_new(molecule=\"M1\", cell_type=\"T1\", density=1.0)\n",
    "adhesion_specs.density_new(molecule=\"M2\", cell_type=\"T2\", density=1.0)\n",
    "formula = adhesion_specs.formula_new(formula_name='Binary')\n",
    "formula.param_set(\"M1\", \"M1\", -10.0)\n",
    "formula.param_set(\"M1\", \"M2\", 0.0)\n",
    "formula.param_set(\"M2\", \"M2\", 10.0)\n",
    "\n",
    "from cc3d.core.PyCoreSpecs import UniformInitializer\n",
    "\n",
    "unif_init_specs = UniformInitializer()\n",
    "unif_init_specs.region_new(width=5, pt_min=(0, 0, 0), pt_max=(dim_x, dim_y, 1),\n",
    "                           cell_types=[\"T1\", \"T1\", \"T2\", \"T2\", \"T3\"])\n",
    "```"
   ]
  },
  {
   "cell_type": "code",
   "execution_count": 1,
   "id": "6581d5e7",
   "metadata": {},
   "outputs": [
    {
     "data": {
      "text/html": [
       "\n",
       "<style>\n",
       "/* Round corners for all input boxes */\n",
       ".widget-text input,\n",
       ".widget-bounded-int-text input,\n",
       ".widget-bounded-float-text input,\n",
       ".widget-float-text input,\n",
       ".widget-int-text input {\n",
       "    border-radius: 4px !important;\n",
       "}\n",
       "\n",
       "/* Round corners for dropdown/select inputs */\n",
       ".widget-dropdown select,\n",
       ".widget-select select {\n",
       "    border-radius: 4px !important;\n",
       "}\n",
       "\n",
       "/* Round corners for buttons */\n",
       ".widget-button button,\n",
       ".jupyter-button {\n",
       "    border-radius: 4px !important;\n",
       "}\n",
       "\n",
       "/* Spacing classes for layout containers */\n",
       ".vbox-row-spacing {\n",
       "    margin: 10px 0 !important;\n",
       "}\n",
       "\n",
       ".hbox-item-spacing {\n",
       "    margin: 0 15px 0 0 !important;\n",
       "}\n",
       "\n",
       ".vbox-no-margin {\n",
       "    margin: 0 !important;\n",
       "}\n",
       "\n",
       ".hbox-no-margin {\n",
       "    margin: 0 !important;\n",
       "}\n",
       "\n",
       ".celltype-item-spacing {\n",
       "    margin: 0 0 5px 0 !important;\n",
       "}\n",
       "\n",
       ".small-right-spacing {\n",
       "    margin: 0 5px 0 0 !important;\n",
       "}\n",
       "\n",
       "/* Plugin-specific spacing classes */\n",
       ".plugin-config-container {\n",
       "    padding: 0 0 0 0 !important;\n",
       "}\n",
       ".plugin-compact-container {\n",
       "    padding: 0 !important;\n",
       "    margin: 0 !important;\n",
       "}\n",
       ".plugin-input-spacing {\n",
       "    margin: 0 15px 0 0 !important;\n",
       "}\n",
       ".plugin-bottom-spacing {\n",
       "    margin: 0 0 15px 0 !important;\n",
       "}\n",
       ".plugin-checkbox-bottom-spacing {\n",
       "    margin: 0 0 15px 0 !important;\n",
       "}\n",
       ".button-spacing {\n",
       "    margin: 10px 0 !important;\n",
       "}\n",
       "\n",
       "/* Error state styling with rounded corners */\n",
       ".error-input input {\n",
       "    border: 2px solid #f44336 !important;\n",
       "    background-color: #ffebee !important;\n",
       "    box-shadow: 0 0 3px rgba(244, 67, 54, 0.3) !important;\n",
       "    border-radius: 4px !important;\n",
       "}\n",
       "\n",
       ".error-input input:focus {\n",
       "    border-color: #d32f2f !important;\n",
       "    box-shadow: 0 0 5px rgba(244, 67, 54, 0.5) !important;\n",
       "    border-radius: 4px !important;\n",
       "}\n",
       "\n",
       ".plugin-top-spacing {\n",
       "    margin-top: 10px !important;\n",
       "}\n",
       "</style>\n"
      ],
      "text/plain": [
       "<IPython.core.display.HTML object>"
      ]
     },
     "metadata": {},
     "output_type": "display_data"
    },
    {
     "data": {
      "application/vnd.jupyter.widget-view+json": {
       "model_id": "858c970d12624f6c9b7d8b5a82011b33",
       "version_major": 2,
       "version_minor": 0
      },
      "text/plain": [
       "VBox(children=(Tab(children=(VBox(children=(HTML(value='<b>Simulation Metadata</b>'), VBox(children=(IntText(v…"
      ]
     },
     "metadata": {},
     "output_type": "display_data"
    }
   ],
   "source": [
    "from Spec_UI import SpecificationSetupUI\n",
    "\n",
    "ui = SpecificationSetupUI()"
   ]
  },
  {
   "cell_type": "code",
   "execution_count": null,
   "id": "715a6b61",
   "metadata": {},
   "outputs": [
    {
     "name": "stdout",
     "output_type": "stream",
     "text": [
      "dict_keys(['AdhesionFlexPlugin', 'BoundaryPixelTrackerPlugin', 'ChemotaxisPlugin', 'ContactPlugin', 'CurvaturePlugin', 'ExternalPotentialPlugin', 'FocalPointPlasticityPlugin', 'LengthConstraintPlugin', 'PixelTrackerPlugin', 'SecretionPlugin', 'VolumePlugin', 'SurfacePlugin'])\n"
     ]
    }
   ],
   "source": [
    "# print(ui.__dict__)\n",
    "# print(ui.plugins_tab.plugin_widgets)\n",
    "# volume_widget = ui.plugins_tab.plugin_widgets.get('VolumePlugin')\n",
    "# print(volume_widget)\n",
    "# print(volume_widget.widgets)  # See the actual widget objects\n",
    "print(ui.plugins_tab.plugin_widgets.keys())"
   ]
  },
  {
   "cell_type": "code",
   "execution_count": null,
   "id": "398bba32",
   "metadata": {},
   "outputs": [
    {
     "name": "stdout",
     "output_type": "stream",
     "text": [
      "dict_keys(['AdhesionFlexPlugin', 'BoundaryPixelTrackerPlugin', 'ChemotaxisPlugin', 'ContactPlugin', 'CurvaturePlugin', 'ExternalPotentialPlugin', 'FocalPointPlasticityPlugin', 'LengthConstraintPlugin', 'PixelTrackerPlugin', 'SecretionPlugin', 'VolumePlugin', 'SurfacePlugin'])\n"
     ]
    }
   ],
   "source": [
    "# print(ui.__dict__)\n",
    "# print(ui.plugins_tab.plugin_widgets)\n",
    "# volume_widget = ui.plugins_tab.plugin_widgets.get('VolumePlugin')\n",
    "# print(volume_widget)\n",
    "# print(volume_widget.widgets)  # See the actual widget objects\n",
    "print(ui.plugins_tab.plugin_widgets.keys())"
   ]
  },
  {
   "cell_type": "code",
   "execution_count": null,
   "id": "a23a925b",
   "metadata": {},
   "outputs": [],
   "source": []
  },
  {
   "cell_type": "code",
   "execution_count": null,
   "id": "e2b8c0bd",
   "metadata": {},
   "outputs": [
    {
     "name": "stdout",
     "output_type": "stream",
     "text": [
      "dict_keys(['AdhesionFlexPlugin', 'BoundaryPixelTrackerPlugin', 'ChemotaxisPlugin', 'ContactPlugin', 'CurvaturePlugin', 'ExternalPotentialPlugin', 'FocalPointPlasticityPlugin', 'LengthConstraintPlugin', 'PixelTrackerPlugin', 'SecretionPlugin', 'VolumePlugin', 'SurfacePlugin'])\n"
     ]
    }
   ],
   "source": [
    "# print(ui.__dict__)\n",
    "# print(ui.plugins_tab.plugin_widgets)\n",
    "# volume_widget = ui.plugins_tab.plugin_widgets.get('VolumePlugin')\n",
    "# print(volume_widget)\n",
    "# print(volume_widget.widgets)  # See the actual widget objects\n",
    "print(ui.plugins_tab.plugin_widgets.keys())"
   ]
  },
  {
   "cell_type": "code",
   "execution_count": null,
   "id": "1784fbd3",
   "metadata": {},
   "outputs": [
    {
     "name": "stdout",
     "output_type": "stream",
     "text": [
      "dict_keys(['AdhesionFlexPlugin', 'BoundaryPixelTrackerPlugin', 'ChemotaxisPlugin', 'ContactPlugin', 'CurvaturePlugin', 'ExternalPotentialPlugin', 'FocalPointPlasticityPlugin', 'LengthConstraintPlugin', 'PixelTrackerPlugin', 'SecretionPlugin', 'VolumePlugin', 'SurfacePlugin'])\n"
     ]
    }
   ],
   "source": [
    "# print(ui.__dict__)\n",
    "# print(ui.plugins_tab.plugin_widgets)\n",
    "# volume_widget = ui.plugins_tab.plugin_widgets.get('VolumePlugin')\n",
    "# print(volume_widget)\n",
    "# print(volume_widget.widgets)  # See the actual widget objects\n",
    "print(ui.plugins_tab.plugin_widgets.keys())"
   ]
  },
  {
   "cell_type": "code",
   "execution_count": null,
   "id": "773ba294",
   "metadata": {},
   "outputs": [
    {
     "name": "stdout",
     "output_type": "stream",
     "text": [
      "dict_keys(['AdhesionFlexPlugin', 'BoundaryPixelTrackerPlugin', 'ChemotaxisPlugin', 'ContactPlugin', 'CurvaturePlugin', 'ExternalPotentialPlugin', 'FocalPointPlasticityPlugin', 'LengthConstraintPlugin', 'PixelTrackerPlugin', 'SecretionPlugin', 'VolumePlugin', 'SurfacePlugin'])\n"
     ]
    }
   ],
   "source": [
    "# print(ui.__dict__)\n",
    "# print(ui.plugins_tab.plugin_widgets)\n",
    "# volume_widget = ui.plugins_tab.plugin_widgets.get('VolumePlugin')\n",
    "# print(volume_widget)\n",
    "# print(volume_widget.widgets)  # See the actual widget objects\n",
    "print(ui.plugins_tab.plugin_widgets.keys())"
   ]
  },
  {
   "cell_type": "code",
   "execution_count": null,
   "id": "b7159bd0",
   "metadata": {},
   "outputs": [
    {
     "name": "stdout",
     "output_type": "stream",
     "text": [
      "dict_keys(['AdhesionFlexPlugin', 'BoundaryPixelTrackerPlugin', 'ChemotaxisPlugin', 'ContactPlugin', 'CurvaturePlugin', 'ExternalPotentialPlugin', 'FocalPointPlasticityPlugin', 'LengthConstraintPlugin', 'PixelTrackerPlugin', 'SecretionPlugin', 'VolumePlugin', 'SurfacePlugin'])\n"
     ]
    }
   ],
   "source": [
    "# print(ui.__dict__)\n",
    "# print(ui.plugins_tab.plugin_widgets)\n",
    "# volume_widget = ui.plugins_tab.plugin_widgets.get('VolumePlugin')\n",
    "# print(volume_widget)\n",
    "# print(volume_widget.widgets)  # See the actual widget objects\n",
    "print(ui.plugins_tab.plugin_widgets.keys())"
   ]
  },
  {
   "cell_type": "code",
   "execution_count": null,
   "id": "d46162b2",
   "metadata": {},
   "outputs": [
    {
     "name": "stdout",
     "output_type": "stream",
     "text": [
      "dict_keys(['AdhesionFlexPlugin', 'BoundaryPixelTrackerPlugin', 'ChemotaxisPlugin', 'ContactPlugin', 'CurvaturePlugin', 'ExternalPotentialPlugin', 'FocalPointPlasticityPlugin', 'LengthConstraintPlugin', 'PixelTrackerPlugin', 'SecretionPlugin', 'VolumePlugin', 'SurfacePlugin'])\n"
     ]
    }
   ],
   "source": [
    "# print(ui.__dict__)\n",
    "# print(ui.plugins_tab.plugin_widgets)\n",
    "# volume_widget = ui.plugins_tab.plugin_widgets.get('VolumePlugin')\n",
    "# print(volume_widget)\n",
    "# print(volume_widget.widgets)  # See the actual widget objects\n",
    "print(ui.plugins_tab.plugin_widgets.keys())"
   ]
  },
  {
   "cell_type": "code",
   "execution_count": null,
   "id": "9335b3a0",
   "metadata": {},
   "outputs": [
    {
     "name": "stdout",
     "output_type": "stream",
     "text": [
      "dict_keys(['AdhesionFlexPlugin', 'BoundaryPixelTrackerPlugin', 'ChemotaxisPlugin', 'ContactPlugin', 'CurvaturePlugin', 'ExternalPotentialPlugin', 'FocalPointPlasticityPlugin', 'LengthConstraintPlugin', 'PixelTrackerPlugin', 'SecretionPlugin', 'VolumePlugin', 'SurfacePlugin'])\n"
     ]
    }
   ],
   "source": [
    "# print(ui.__dict__)\n",
    "# print(ui.plugins_tab.plugin_widgets)\n",
    "# volume_widget = ui.plugins_tab.plugin_widgets.get('VolumePlugin')\n",
    "# print(volume_widget)\n",
    "# print(volume_widget.widgets)  # See the actual widget objects\n",
    "print(ui.plugins_tab.plugin_widgets.keys())"
   ]
  },
  {
   "cell_type": "code",
   "execution_count": null,
   "id": "45c17478",
   "metadata": {},
   "outputs": [
    {
     "name": "stdout",
     "output_type": "stream",
     "text": [
      "dict_keys(['AdhesionFlexPlugin', 'BoundaryPixelTrackerPlugin', 'ChemotaxisPlugin', 'ContactPlugin', 'CurvaturePlugin', 'ExternalPotentialPlugin', 'FocalPointPlasticityPlugin', 'LengthConstraintPlugin', 'PixelTrackerPlugin', 'SecretionPlugin', 'VolumePlugin', 'SurfacePlugin'])\n"
     ]
    }
   ],
   "source": [
    "# print(ui.__dict__)\n",
    "# print(ui.plugins_tab.plugin_widgets)\n",
    "# volume_widget = ui.plugins_tab.plugin_widgets.get('VolumePlugin')\n",
    "# print(volume_widget)\n",
    "# print(volume_widget.widgets)  # See the actual widget objects\n",
    "print(ui.plugins_tab.plugin_widgets.keys())"
   ]
  },
  {
   "cell_type": "code",
   "execution_count": null,
   "id": "3dc1f90b",
   "metadata": {},
   "outputs": [
    {
     "name": "stdout",
     "output_type": "stream",
     "text": [
      "dict_keys(['AdhesionFlexPlugin', 'BoundaryPixelTrackerPlugin', 'ChemotaxisPlugin', 'ContactPlugin', 'CurvaturePlugin', 'ExternalPotentialPlugin', 'FocalPointPlasticityPlugin', 'LengthConstraintPlugin', 'PixelTrackerPlugin', 'SecretionPlugin', 'VolumePlugin', 'SurfacePlugin'])\n"
     ]
    }
   ],
   "source": [
    "# print(ui.__dict__)\n",
    "# print(ui.plugins_tab.plugin_widgets)\n",
    "# volume_widget = ui.plugins_tab.plugin_widgets.get('VolumePlugin')\n",
    "# print(volume_widget)\n",
    "# print(volume_widget.widgets)  # See the actual widget objects\n",
    "print(ui.plugins_tab.plugin_widgets.keys())"
   ]
  },
  {
   "cell_type": "code",
   "execution_count": null,
   "id": "3f3a9398",
   "metadata": {},
   "outputs": [
    {
     "name": "stdout",
     "output_type": "stream",
     "text": [
      "dict_keys(['AdhesionFlexPlugin', 'BoundaryPixelTrackerPlugin', 'ChemotaxisPlugin', 'ContactPlugin', 'CurvaturePlugin', 'ExternalPotentialPlugin', 'FocalPointPlasticityPlugin', 'LengthConstraintPlugin', 'PixelTrackerPlugin', 'SecretionPlugin', 'VolumePlugin', 'SurfacePlugin'])\n"
     ]
    }
   ],
   "source": [
    "# print(ui.__dict__)\n",
    "# print(ui.plugins_tab.plugin_widgets)\n",
    "# volume_widget = ui.plugins_tab.plugin_widgets.get('VolumePlugin')\n",
    "# print(volume_widget)\n",
    "# print(volume_widget.widgets)  # See the actual widget objects\n",
    "print(ui.plugins_tab.plugin_widgets.keys())"
   ]
  },
  {
   "cell_type": "code",
   "execution_count": 11,
   "id": "b42d14be",
   "metadata": {},
   "outputs": [
    {
     "name": "stdout",
     "output_type": "stream",
     "text": [
      "dict_keys(['AdhesionFlexPlugin', 'BoundaryPixelTrackerPlugin', 'ChemotaxisPlugin', 'ContactPlugin', 'CurvaturePlugin', 'ExternalPotentialPlugin', 'FocalPointPlasticityPlugin', 'LengthConstraintPlugin', 'PixelTrackerPlugin', 'SecretionPlugin', 'VolumePlugin', 'SurfacePlugin'])\n"
     ]
    }
   ],
   "source": [
    "# print(ui.__dict__)\n",
    "# print(ui.plugins_tab.plugin_widgets)\n",
    "# volume_widget = ui.plugins_tab.plugin_widgets.get('VolumePlugin')\n",
    "# print(volume_widget)\n",
    "# print(volume_widget.widgets)  # See the actual widget objects\n",
    "print(ui.plugins_tab.plugin_widgets.keys())"
   ]
  },
  {
   "cell_type": "code",
   "execution_count": 13,
   "id": "3bbbc9d0",
   "metadata": {},
   "outputs": [
    {
     "name": "stdout",
     "output_type": "stream",
     "text": [
      "{'plugin_name': 'VolumePlugin', 'plugin_class': <class 'cc3d.core.PyCoreSpecs.VolumePlugin'>, 'default_instance': <cc3d.core.PyCoreSpecs.VolumePlugin object at 0x000001CDDDC4CD00>, 'cell_types': ['Medium', 'RT'], 'widgets': {'active': Checkbox(value=True, description='VolumePlugin', indent=False), 'config_container': VBox(children=(VBox(children=(HBox(children=(Label(value='Medium', layout=Layout(width='120px')), Label(value='Target Volume:', layout=Layout(width='100px')), FloatText(value=21.0, layout=Layout(width='120px')), Label(value='Lambda Volume:', layout=Layout(width='100px')), FloatText(value=2.0, layout=Layout(width='120px'))), layout=Layout(padding='4px 0 4px 12px'), _dom_classes=('volume-row',)), HBox(children=(Label(value='RT', layout=Layout(width='120px')), Label(value='Target Volume:', layout=Layout(width='100px')), FloatText(value=25.0, layout=Layout(width='120px')), Label(value='Lambda Volume:', layout=Layout(width='100px')), FloatText(value=2.0, layout=Layout(width='120px'))), layout=Layout(padding='4px 0 4px 12px'), _dom_classes=('volume-row',)))),), layout=Layout(display='block', padding='0')), 'rows': [{'cell_type': Label(value='Medium', layout=Layout(width='120px')), 'target_volume': FloatText(value=21.0, layout=Layout(width='120px')), 'lambda_volume': FloatText(value=2.0, layout=Layout(width='120px'))}, {'cell_type': Label(value='RT', layout=Layout(width='120px')), 'target_volume': FloatText(value=25.0, layout=Layout(width='120px')), 'lambda_volume': FloatText(value=2.0, layout=Layout(width='120px'))}]}, 'output': Output(), 'param_cache': {'Medium': {'CellType': 'Medium', 'target_volume': 21.0, 'lambda_volume': 2.0}}}\n"
     ]
    }
   ],
   "source": [
    "# print(ui.__dict__)\n",
    "# print(ui.plugins_tab.plugin_widgets)\n",
    "volume_widget = ui.plugins_tab.plugin_widgets.get('VolumePlugin')\n",
    "print(volume_widget.__dict__)\n",
    "# print(volume_widget.widgets)  # See the actual widget objects\n",
    "# print(ui.plugins_tab.plugin_widgets.keys())"
   ]
  },
  {
   "cell_type": "code",
   "execution_count": 2,
   "id": "6da8bb15",
   "metadata": {},
   "outputs": [],
   "source": [
    "# %run ./Spec_UI.py IGNORE"
   ]
  },
  {
   "cell_type": "code",
   "execution_count": null,
   "id": "5b224522",
   "metadata": {},
   "outputs": [
    {
     "name": "stdout",
     "output_type": "stream",
     "text": [
      "dict_keys(['AdhesionFlexPlugin', 'BoundaryPixelTrackerPlugin', 'ChemotaxisPlugin', 'ContactPlugin', 'CurvaturePlugin', 'ExternalPotentialPlugin', 'FocalPointPlasticityPlugin', 'LengthConstraintPlugin', 'PixelTrackerPlugin', 'SecretionPlugin', 'VolumePlugin', 'SurfacePlugin'])\n"
     ]
    }
   ],
   "source": [
    "# print(ui.__dict__)\n",
    "# print(ui.plugins_tab.plugin_widgets)\n",
    "# volume_widget = ui.plugins_tab.plugin_widgets.get('VolumePlugin')\n",
    "# print(volume_widget)\n",
    "# print(volume_widget.widgets)  # See the actual widget objects\n",
    "print(ui.plugins_tab.plugin_widgets.keys())"
   ]
  },
  {
   "cell_type": "code",
   "execution_count": 3,
   "id": "21f0784e",
   "metadata": {},
   "outputs": [
    {
     "name": "stdout",
     "output_type": "stream",
     "text": [
      "Plugin: AdhesionFlexPlugin\n"
     ]
    },
    {
     "data": {
      "application/vnd.jupyter.widget-view+json": {
       "model_id": "07989e03821a4c0e846406594a04dcda",
       "version_major": 2,
       "version_minor": 0
      },
      "text/plain": [
       "Text(value='1', description='neighbor_order')"
      ]
     },
     "metadata": {},
     "output_type": "display_data"
    },
    {
     "data": {
      "application/vnd.jupyter.widget-view+json": {
       "model_id": "452bca09a484438d90474c22752dc0f4",
       "version_major": 2,
       "version_minor": 0
      },
      "text/plain": [
       "Text(value='[]', description='molecules')"
      ]
     },
     "metadata": {},
     "output_type": "display_data"
    },
    {
     "data": {
      "application/vnd.jupyter.widget-view+json": {
       "model_id": "99c7e728e72d409593aa001dbbfe9ad6",
       "version_major": 2,
       "version_minor": 0
      },
      "text/plain": [
       "Text(value='{}', description='densities')"
      ]
     },
     "metadata": {},
     "output_type": "display_data"
    },
    {
     "data": {
      "application/vnd.jupyter.widget-view+json": {
       "model_id": "a3986b44ef29442faadc4a05ad4dd8a2",
       "version_major": 2,
       "version_minor": 0
      },
      "text/plain": [
       "Text(value='{}', description='binding_formulas')"
      ]
     },
     "metadata": {},
     "output_type": "display_data"
    },
    {
     "name": "stdout",
     "output_type": "stream",
     "text": [
      "Plugin: BoundaryPixelTrackerPlugin\n"
     ]
    },
    {
     "data": {
      "application/vnd.jupyter.widget-view+json": {
       "model_id": "6fe39c90c5664c9592c321ed39151bc3",
       "version_major": 2,
       "version_minor": 0
      },
      "text/plain": [
       "Text(value='1', description='neighbor_order')"
      ]
     },
     "metadata": {},
     "output_type": "display_data"
    },
    {
     "name": "stdout",
     "output_type": "stream",
     "text": [
      "Plugin: CellTypePlugin\n"
     ]
    },
    {
     "data": {
      "application/vnd.jupyter.widget-view+json": {
       "model_id": "55135a617298466a8419a13617072dc5",
       "version_major": 2,
       "version_minor": 0
      },
      "text/plain": [
       "Text(value=\"[('Medium', 0, False)]\", description='cell_types')"
      ]
     },
     "metadata": {},
     "output_type": "display_data"
    },
    {
     "name": "stdout",
     "output_type": "stream",
     "text": [
      "Plugin: CenterOfMassPlugin\n",
      "Plugin: ChemotaxisPlugin\n"
     ]
    },
    {
     "data": {
      "application/vnd.jupyter.widget-view+json": {
       "model_id": "ceda8b8bc1b64b7c98afaa93f07f2ae2",
       "version_major": 2,
       "version_minor": 0
      },
      "text/plain": [
       "Text(value='{}', description='field_specs')"
      ]
     },
     "metadata": {},
     "output_type": "display_data"
    },
    {
     "name": "stdout",
     "output_type": "stream",
     "text": [
      "Plugin: ConnectivityGlobalPlugin\n"
     ]
    },
    {
     "data": {
      "application/vnd.jupyter.widget-view+json": {
       "model_id": "c0099a58f5784598b8df27a43907faa0",
       "version_major": 2,
       "version_minor": 0
      },
      "text/plain": [
       "Text(value='False', description='fast')"
      ]
     },
     "metadata": {},
     "output_type": "display_data"
    },
    {
     "data": {
      "application/vnd.jupyter.widget-view+json": {
       "model_id": "0d5bf4393dbe41848098d11514894f70",
       "version_major": 2,
       "version_minor": 0
      },
      "text/plain": [
       "Text(value='[]', description='cell_types')"
      ]
     },
     "metadata": {},
     "output_type": "display_data"
    },
    {
     "name": "stdout",
     "output_type": "stream",
     "text": [
      "Plugin: ConnectivityPlugin\n",
      "Plugin: ContactPlugin\n"
     ]
    },
    {
     "data": {
      "application/vnd.jupyter.widget-view+json": {
       "model_id": "74c502cdcd254cb68ca22bb33bda08fd",
       "version_major": 2,
       "version_minor": 0
      },
      "text/plain": [
       "Text(value='{}', description='energies')"
      ]
     },
     "metadata": {},
     "output_type": "display_data"
    },
    {
     "data": {
      "application/vnd.jupyter.widget-view+json": {
       "model_id": "138f8d013aab4ad8af7724d147d2e688",
       "version_major": 2,
       "version_minor": 0
      },
      "text/plain": [
       "Text(value='1', description='neighbor_order')"
      ]
     },
     "metadata": {},
     "output_type": "display_data"
    },
    {
     "name": "stdout",
     "output_type": "stream",
     "text": [
      "Plugin: CurvaturePlugin\n"
     ]
    },
    {
     "data": {
      "application/vnd.jupyter.widget-view+json": {
       "model_id": "031a6d6ff94545709d88b565fc479f6a",
       "version_major": 2,
       "version_minor": 0
      },
      "text/plain": [
       "Text(value='{}', description='param_specs')"
      ]
     },
     "metadata": {},
     "output_type": "display_data"
    },
    {
     "data": {
      "application/vnd.jupyter.widget-view+json": {
       "model_id": "cd6ce734e4eb457f943f1854143cf021",
       "version_major": 2,
       "version_minor": 0
      },
      "text/plain": [
       "Text(value='{}', description='type_spec')"
      ]
     },
     "metadata": {},
     "output_type": "display_data"
    },
    {
     "name": "stdout",
     "output_type": "stream",
     "text": [
      "Plugin: ExternalPotentialPlugin\n"
     ]
    },
    {
     "data": {
      "application/vnd.jupyter.widget-view+json": {
       "model_id": "22dea1fd5a4949a399eeabf227539ad8",
       "version_major": 2,
       "version_minor": 0
      },
      "text/plain": [
       "Text(value='None', description='lambda_x')"
      ]
     },
     "metadata": {},
     "output_type": "display_data"
    },
    {
     "data": {
      "application/vnd.jupyter.widget-view+json": {
       "model_id": "1d7b5368c3654d4c84a2686631db8d51",
       "version_major": 2,
       "version_minor": 0
      },
      "text/plain": [
       "Text(value='None', description='lambda_y')"
      ]
     },
     "metadata": {},
     "output_type": "display_data"
    },
    {
     "data": {
      "application/vnd.jupyter.widget-view+json": {
       "model_id": "552293634e834ad1a67e6b4bbcba8c3c",
       "version_major": 2,
       "version_minor": 0
      },
      "text/plain": [
       "Text(value='None', description='lambda_z')"
      ]
     },
     "metadata": {},
     "output_type": "display_data"
    },
    {
     "data": {
      "application/vnd.jupyter.widget-view+json": {
       "model_id": "ea8920cfadc74fbeb5bc33f74b5ef271",
       "version_major": 2,
       "version_minor": 0
      },
      "text/plain": [
       "Text(value='False', description='com_based')"
      ]
     },
     "metadata": {},
     "output_type": "display_data"
    },
    {
     "data": {
      "application/vnd.jupyter.widget-view+json": {
       "model_id": "2c485279e6924ed0ac654ed17eaa9471",
       "version_major": 2,
       "version_minor": 0
      },
      "text/plain": [
       "Text(value='{}', description='param_specs')"
      ]
     },
     "metadata": {},
     "output_type": "display_data"
    },
    {
     "name": "stdout",
     "output_type": "stream",
     "text": [
      "Plugin: FocalPointPlasticityPlugin\n"
     ]
    },
    {
     "data": {
      "application/vnd.jupyter.widget-view+json": {
       "model_id": "8f3687a5812848499f308c686cd94f67",
       "version_major": 2,
       "version_minor": 0
      },
      "text/plain": [
       "Text(value='1', description='neighbor_order')"
      ]
     },
     "metadata": {},
     "output_type": "display_data"
    },
    {
     "data": {
      "application/vnd.jupyter.widget-view+json": {
       "model_id": "55ea9df23407456695041f46e0739ded",
       "version_major": 2,
       "version_minor": 0
      },
      "text/plain": [
       "Text(value='{}', description='param_specs')"
      ]
     },
     "metadata": {},
     "output_type": "display_data"
    },
    {
     "name": "stdout",
     "output_type": "stream",
     "text": [
      "Plugin: LengthConstraintPlugin\n"
     ]
    },
    {
     "data": {
      "application/vnd.jupyter.widget-view+json": {
       "model_id": "756e9b05670f48a9aed8395ab1786f55",
       "version_major": 2,
       "version_minor": 0
      },
      "text/plain": [
       "Text(value='{}', description='param_specs')"
      ]
     },
     "metadata": {},
     "output_type": "display_data"
    },
    {
     "name": "stdout",
     "output_type": "stream",
     "text": [
      "Plugin: MomentOfInertiaPlugin\n",
      "Plugin: NeighborTrackerPlugin\n",
      "Plugin: PixelTrackerPlugin\n"
     ]
    },
    {
     "data": {
      "application/vnd.jupyter.widget-view+json": {
       "model_id": "540dfad10abf4dfb9935becfce57af93",
       "version_major": 2,
       "version_minor": 0
      },
      "text/plain": [
       "Text(value='False', description='track_medium')"
      ]
     },
     "metadata": {},
     "output_type": "display_data"
    },
    {
     "name": "stdout",
     "output_type": "stream",
     "text": [
      "Plugin: SecretionPlugin\n"
     ]
    },
    {
     "data": {
      "application/vnd.jupyter.widget-view+json": {
       "model_id": "89d9e4d3177a45e89ba2b5c361cc7218",
       "version_major": 2,
       "version_minor": 0
      },
      "text/plain": [
       "Text(value='True', description='pixel_tracker')"
      ]
     },
     "metadata": {},
     "output_type": "display_data"
    },
    {
     "data": {
      "application/vnd.jupyter.widget-view+json": {
       "model_id": "2f3bec4ff640446886f082548f2278e8",
       "version_major": 2,
       "version_minor": 0
      },
      "text/plain": [
       "Text(value='True', description='boundary_pixel_tracker')"
      ]
     },
     "metadata": {},
     "output_type": "display_data"
    },
    {
     "data": {
      "application/vnd.jupyter.widget-view+json": {
       "model_id": "a0ddc1e72a8c49c2a823103550e2a75d",
       "version_major": 2,
       "version_minor": 0
      },
      "text/plain": [
       "Text(value='{}', description='field_specs')"
      ]
     },
     "metadata": {},
     "output_type": "display_data"
    },
    {
     "name": "stdout",
     "output_type": "stream",
     "text": [
      "Plugin: SurfacePlugin\n"
     ]
    },
    {
     "data": {
      "application/vnd.jupyter.widget-view+json": {
       "model_id": "7f05e5d4fa9744068c97864cb32a03b5",
       "version_major": 2,
       "version_minor": 0
      },
      "text/plain": [
       "Text(value='{}', description='params')"
      ]
     },
     "metadata": {},
     "output_type": "display_data"
    },
    {
     "name": "stdout",
     "output_type": "stream",
     "text": [
      "Plugin: VolumePlugin\n"
     ]
    },
    {
     "data": {
      "application/vnd.jupyter.widget-view+json": {
       "model_id": "3097c6f7b22a42bbb533a6991027b546",
       "version_major": 2,
       "version_minor": 0
      },
      "text/plain": [
       "Text(value='{}', description='params')"
      ]
     },
     "metadata": {},
     "output_type": "display_data"
    }
   ],
   "source": [
    "import ipywidgets as widgets\n",
    "from IPython.display import display\n",
    "from cc3d.core.PyCoreSpecs import PLUGINS\n",
    "\n",
    "for plugin_cls in PLUGINS:\n",
    "    plugin = plugin_cls()\n",
    "    print(f\"Plugin: {plugin_cls.__name__}\")\n",
    "    for param_name in plugin.spec_dict.keys():\n",
    "        # For demonstration, create a text box for each parameter\n",
    "        value = plugin.spec_dict[param_name]\n",
    "        input_widget = widgets.Text(\n",
    "            value=str(value),\n",
    "            description=param_name\n",
    "        )\n",
    "        display(input_widget)"
   ]
  },
  {
   "cell_type": "code",
   "execution_count": 4,
   "id": "0d812faa",
   "metadata": {},
   "outputs": [
    {
     "name": "stdout",
     "output_type": "stream",
     "text": [
      "['AdhesionFlexPlugin', 'BoundaryPixelTrackerPlugin', 'CellTypePlugin', 'CenterOfMassPlugin', 'ChemotaxisPlugin', 'ConnectivityGlobalPlugin', 'ConnectivityPlugin', 'ContactPlugin', 'CurvaturePlugin', 'ExternalPotentialPlugin', 'FocalPointPlasticityPlugin', 'LengthConstraintPlugin', 'MomentOfInertiaPlugin', 'NeighborTrackerPlugin', 'PixelTrackerPlugin', 'SecretionPlugin', 'SurfacePlugin', 'VolumePlugin']\n"
     ]
    }
   ],
   "source": [
    "from cc3d.core.PyCoreSpecs import PLUGINS\n",
    "print([p.__name__ for p in PLUGINS])"
   ]
  },
  {
   "cell_type": "code",
   "execution_count": null,
   "id": "a9f35f1e",
   "metadata": {},
   "outputs": [
    {
     "data": {
      "application/vnd.jupyter.widget-view+json": {
       "model_id": "612c777bc7374a4c924bb621b82dfd2c",
       "version_major": 2,
       "version_minor": 0
      },
      "text/plain": [
       "VBox(children=(Tab(children=(VBox(children=(HTML(value='<h4>Simulation Metadata</h4>'), IntText(value=1, descr…"
      ]
     },
     "metadata": {},
     "output_type": "display_data"
    },
    {
     "data": {
      "text/plain": [
       "'specs = [\\n    Metadata(), \\n    PottsCore(dim_x=100, dim_y=100, neighbor_order=2)\\n]'"
      ]
     },
     "execution_count": 5,
     "metadata": {},
     "output_type": "execute_result"
    }
   ],
   "source": [
    "# Option 2\n",
    "from Spec_UI import SpecificationSetupUI\n",
    "ui = SpecificationSetupUI()\n",
    "# Don't currently have a spepare Metadata class.\n",
    "# User configuration still in JSON? (yes) or a list like \"spec\"\n",
    "# Lots of constraints - initliazer email okie extracting dependacy relationships from the API\n",
    "'''specs = [\n",
    "    Metadata(),\n",
    "    PottsCore(dim_x=100, dim_y=100, neighbor_order=2)\n",
    "]'''"
   ]
  },
  {
   "cell_type": "code",
   "execution_count": 6,
   "id": "0aed6d03",
   "metadata": {},
   "outputs": [
    {
     "data": {
      "application/vnd.jupyter.widget-view+json": {
       "model_id": "e3b62314927c4d6cb0bb6224c9438655",
       "version_major": 2,
       "version_minor": 0
      },
      "text/plain": [
       "VBox(children=(HTML(value='<h4>Potts Core Parameters</h4>'), HBox(children=(IntText(value=1, description='X Di…"
      ]
     },
     "metadata": {},
     "output_type": "display_data"
    }
   ],
   "source": [
    "from Spec_UI import PottsWidget, DEFAULTS\n",
    "from IPython.display import display\n",
    "\n",
    "potts_widget = PottsWidget(DEFAULTS[\"PottsCore\"])\n",
    "display(potts_widget.create_ui())"
   ]
  },
  {
   "cell_type": "code",
   "execution_count": 7,
   "id": "98d30699",
   "metadata": {},
   "outputs": [
    {
     "data": {
      "application/vnd.jupyter.widget-view+json": {
       "model_id": "8ff682ae5a66463a88e17846d3f72549",
       "version_major": 2,
       "version_minor": 0
      },
      "text/plain": [
       "VBox(children=(HTML(value='<h4>Cell Types</h4>'), VBox(children=(HBox(children=(Label(value='Medium '), Button…"
      ]
     },
     "metadata": {},
     "output_type": "display_data"
    }
   ],
   "source": [
    "from Spec_UI import CellTypeWidget, DEFAULTS\n",
    "from IPython.display import display\n",
    "\n",
    "celltype_widget = CellTypeWidget(DEFAULTS[\"CellType\"])\n",
    "display(celltype_widget.create_ui())"
   ]
  },
  {
   "cell_type": "code",
   "execution_count": 8,
   "id": "0143abe3",
   "metadata": {},
   "outputs": [
    {
     "name": "stdout",
     "output_type": "stream",
     "text": [
      "Validation error for AdhesionFlexPlugin: Could not validate single instance of Potts (AdhesionFlex)\n",
      "Could not validate single instance of CellType (AdhesionFlex)\n",
      "Validation error for BoundaryPixelTrackerPlugin: Could not validate single instance of Potts (BoundaryPixelTracker)\n",
      "Could not validate single instance of CellType (BoundaryPixelTracker)\n",
      "Validation error for ChemotaxisPlugin: Could not validate single instance of Potts (Chemotaxis)\n",
      "Could not validate single instance of CellType (Chemotaxis)\n",
      "Validation error for ContactPlugin: Could not validate single instance of Potts (Contact)\n",
      "Could not validate single instance of CellType (Contact)\n",
      "Validation error for CurvaturePlugin: Could not validate single instance of Potts (Curvature)\n",
      "Could not validate single instance of CellType (Curvature)\n",
      "Validation error for ExternalPotentialPlugin: Could not validate single instance of Potts (ExternalPotential)\n",
      "Could not validate single instance of CellType (ExternalPotential)\n",
      "Validation error for FocalPointPlasticityPlugin: Could not validate single instance of Potts (FocalPointPlasticity)\n",
      "Could not validate single instance of CellType (FocalPointPlasticity)\n",
      "Validation error for LengthConstraintPlugin: Could not validate single instance of Potts (LengthConstraint)\n",
      "Could not validate single instance of CellType (LengthConstraint)\n",
      "Validation error for PixelTrackerPlugin: Could not validate single instance of Potts (PixelTracker)\n",
      "Could not validate single instance of CellType (PixelTracker)\n",
      "Validation error for SecretionPlugin: Could not validate single instance of Potts (Secretion)\n",
      "Could not validate single instance of CellType (Secretion)\n",
      "Could not validate single instance of PixelTracker (Secretion)\n",
      "Could not validate single instance of BoundaryPixelTracker (Secretion)\n",
      "Validation error for VolumePlugin: Could not validate single instance of Potts (Volume)\n",
      "Could not validate single instance of CellType (Volume)\n",
      "Validation error for SurfacePlugin: Could not validate single instance of Potts (Surface)\n",
      "Could not validate single instance of CellType (Surface)\n",
      "Validation error for AdhesionFlexPlugin: Could not validate single instance of Potts (AdhesionFlex)\n",
      "Could not validate single instance of CellType (AdhesionFlex)\n",
      "Validation error for BoundaryPixelTrackerPlugin: Could not validate single instance of Potts (BoundaryPixelTracker)\n",
      "Could not validate single instance of CellType (BoundaryPixelTracker)\n",
      "Validation error for ChemotaxisPlugin: Could not validate single instance of Potts (Chemotaxis)\n",
      "Could not validate single instance of CellType (Chemotaxis)\n",
      "Validation error for ContactPlugin: Could not validate single instance of Potts (Contact)\n",
      "Could not validate single instance of CellType (Contact)\n",
      "Validation error for CurvaturePlugin: Could not validate single instance of Potts (Curvature)\n",
      "Could not validate single instance of CellType (Curvature)\n",
      "Validation error for ExternalPotentialPlugin: Could not validate single instance of Potts (ExternalPotential)\n",
      "Could not validate single instance of CellType (ExternalPotential)\n",
      "Validation error for FocalPointPlasticityPlugin: Could not validate single instance of Potts (FocalPointPlasticity)\n",
      "Could not validate single instance of CellType (FocalPointPlasticity)\n",
      "Validation error for LengthConstraintPlugin: Could not validate single instance of Potts (LengthConstraint)\n",
      "Could not validate single instance of CellType (LengthConstraint)\n",
      "Validation error for PixelTrackerPlugin: Could not validate single instance of Potts (PixelTracker)\n",
      "Could not validate single instance of CellType (PixelTracker)\n",
      "Validation error for SecretionPlugin: Could not validate single instance of Potts (Secretion)\n",
      "Could not validate single instance of CellType (Secretion)\n",
      "Could not validate single instance of PixelTracker (Secretion)\n",
      "Could not validate single instance of BoundaryPixelTracker (Secretion)\n",
      "Validation error for VolumePlugin: Could not validate single instance of Potts (Volume)\n",
      "Could not validate single instance of CellType (Volume)\n",
      "Validation error for SurfacePlugin: Could not validate single instance of Potts (Surface)\n",
      "Could not validate single instance of CellType (Surface)\n",
      "Validation error for AdhesionFlexPlugin: Could not validate single instance of Potts (AdhesionFlex)\n",
      "Could not validate single instance of CellType (AdhesionFlex)\n",
      "Validation error for BoundaryPixelTrackerPlugin: Could not validate single instance of Potts (BoundaryPixelTracker)\n",
      "Could not validate single instance of CellType (BoundaryPixelTracker)\n",
      "Validation error for ChemotaxisPlugin: Could not validate single instance of Potts (Chemotaxis)\n",
      "Could not validate single instance of CellType (Chemotaxis)\n",
      "Validation error for ContactPlugin: Could not validate single instance of Potts (Contact)\n",
      "Could not validate single instance of CellType (Contact)\n",
      "Validation error for CurvaturePlugin: Could not validate single instance of Potts (Curvature)\n",
      "Could not validate single instance of CellType (Curvature)\n",
      "Validation error for ExternalPotentialPlugin: Could not validate single instance of Potts (ExternalPotential)\n",
      "Could not validate single instance of CellType (ExternalPotential)\n",
      "Validation error for FocalPointPlasticityPlugin: Could not validate single instance of Potts (FocalPointPlasticity)\n",
      "Could not validate single instance of CellType (FocalPointPlasticity)\n",
      "Validation error for LengthConstraintPlugin: Could not validate single instance of Potts (LengthConstraint)\n",
      "Could not validate single instance of CellType (LengthConstraint)\n",
      "Validation error for PixelTrackerPlugin: Could not validate single instance of Potts (PixelTracker)\n",
      "Could not validate single instance of CellType (PixelTracker)\n",
      "Validation error for SecretionPlugin: Could not validate single instance of Potts (Secretion)\n",
      "Could not validate single instance of CellType (Secretion)\n",
      "Could not validate single instance of PixelTracker (Secretion)\n",
      "Could not validate single instance of BoundaryPixelTracker (Secretion)\n",
      "Validation error for VolumePlugin: Could not validate single instance of Potts (Volume)\n",
      "Could not validate single instance of CellType (Volume)\n",
      "Validation error for SurfacePlugin: Could not validate single instance of Potts (Surface)\n",
      "Could not validate single instance of CellType (Surface)\n",
      "Validation error for AdhesionFlexPlugin: Could not validate single instance of Potts (AdhesionFlex)\n",
      "Could not validate single instance of CellType (AdhesionFlex)\n",
      "Validation error for BoundaryPixelTrackerPlugin: Could not validate single instance of Potts (BoundaryPixelTracker)\n",
      "Could not validate single instance of CellType (BoundaryPixelTracker)\n",
      "Validation error for ChemotaxisPlugin: Could not validate single instance of Potts (Chemotaxis)\n",
      "Could not validate single instance of CellType (Chemotaxis)\n",
      "Validation error for ContactPlugin: Could not validate single instance of Potts (Contact)\n",
      "Could not validate single instance of CellType (Contact)\n",
      "Validation error for CurvaturePlugin: Could not validate single instance of Potts (Curvature)\n",
      "Could not validate single instance of CellType (Curvature)\n",
      "Validation error for ExternalPotentialPlugin: Could not validate single instance of Potts (ExternalPotential)\n",
      "Could not validate single instance of CellType (ExternalPotential)\n",
      "Validation error for FocalPointPlasticityPlugin: Could not validate single instance of Potts (FocalPointPlasticity)\n",
      "Could not validate single instance of CellType (FocalPointPlasticity)\n",
      "Validation error for LengthConstraintPlugin: Could not validate single instance of Potts (LengthConstraint)\n",
      "Could not validate single instance of CellType (LengthConstraint)\n",
      "Validation error for PixelTrackerPlugin: Could not validate single instance of Potts (PixelTracker)\n",
      "Could not validate single instance of CellType (PixelTracker)\n",
      "Validation error for SecretionPlugin: Could not validate single instance of Potts (Secretion)\n",
      "Could not validate single instance of CellType (Secretion)\n",
      "Could not validate single instance of PixelTracker (Secretion)\n",
      "Could not validate single instance of BoundaryPixelTracker (Secretion)\n",
      "Validation error for VolumePlugin: Could not validate single instance of Potts (Volume)\n",
      "Could not validate single instance of CellType (Volume)\n",
      "Validation error for SurfacePlugin: Could not validate single instance of Potts (Surface)\n",
      "Could not validate single instance of CellType (Surface)\n"
     ]
    }
   ],
   "source": [
    "ui.save_to_json()  # Manual save\n",
    "ui.reset_all()     # Reset everything (pass None as required argument)\n",
    "config = ui.current_config()  # Get current state"
   ]
  }
 ],
 "metadata": {
  "kernelspec": {
   "display_name": "cc3d_env",
   "language": "python",
   "name": "python3"
  },
  "language_info": {
   "codemirror_mode": {
    "name": "ipython",
    "version": 3
   },
   "file_extension": ".py",
   "mimetype": "text/x-python",
   "name": "python",
   "nbconvert_exporter": "python",
   "pygments_lexer": "ipython3",
   "version": "3.10.17"
  }
 },
 "nbformat": 4,
 "nbformat_minor": 5
}
