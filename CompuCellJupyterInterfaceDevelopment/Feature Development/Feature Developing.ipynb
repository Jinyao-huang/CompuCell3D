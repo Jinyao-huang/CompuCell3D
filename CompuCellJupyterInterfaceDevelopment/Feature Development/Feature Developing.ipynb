{
 "cells": [
  {
   "cell_type": "markdown",
   "id": "9213401c",
   "metadata": {},
   "source": [
    "# Parameters for all plugins\n",
    "Metadata | PottsCores | All Plugins\n",
    "\n",
    "Concept understanding: when user adjusts a value in UI, we will have feature update the values in the .spec_dict (this .spec_dict stores user instance) However, this is in-memory data meaning when the notebook is closed, the data is not persistent. \n",
    "\n",
    "General data flow: UI instance --> validate data (depends_on) if yes, --> .spec_dict (change) --> overwrite JSON --> Load Json file\n",
    "\n",
    "1. Why is debug_output_frequency appear both in PottsCore & Metadata?\n",
    "    - keep the one in Metadata, ignore the one for PottsCore unless it's loading legacy CC3DML file\n",
    "    - Or the instance in Metadata will get pass to PottsCore.spec_dict\n",
    "\n",
    "2. Issue with repeated instance not been sync. \n",
    "Since each instance's .spec_dict is seperated, for consistency we have to do our own UI logic to keep single source of truth and ignore one keep one. \n",
    "\n",
    "Example for sync instance:\n",
    "```\n",
    "def sync_debug_output_frequency(metadata, potts):\n",
    "    potts.spec_dict[\"debug_output_frequency\"] = metadata.spec_dict[\"debug_output_frequency\"]\n",
    "\n",
    "# Whenever the user changes the value in the UI:\n",
    "metadata.spec_dict[\"debug_output_frequency\"] = 50\n",
    "sync_debug_output_frequency(metadata, potts)\n",
    "\n",
    "```"
   ]
  },
  {
   "cell_type": "code",
   "execution_count": 2,
   "id": "f7f8ecfe",
   "metadata": {},
   "outputs": [
    {
     "name": "stdout",
     "output_type": "stream",
     "text": [
      "Plugin: AdhesionFlexPlugin\n"
     ]
    },
    {
     "data": {
      "application/vnd.jupyter.widget-view+json": {
       "model_id": "dee1c7ed44bc49759f69460b7ea6cfeb",
       "version_major": 2,
       "version_minor": 0
      },
      "text/plain": [
       "Text(value='1', description='neighbor_order', style=TextStyle(description_width='initial'))"
      ]
     },
     "metadata": {},
     "output_type": "display_data"
    },
    {
     "data": {
      "application/vnd.jupyter.widget-view+json": {
       "model_id": "daa687b0aafd4998be1ff3d5efc1203d",
       "version_major": 2,
       "version_minor": 0
      },
      "text/plain": [
       "Text(value='[]', description='molecules', style=TextStyle(description_width='initial'))"
      ]
     },
     "metadata": {},
     "output_type": "display_data"
    },
    {
     "data": {
      "application/vnd.jupyter.widget-view+json": {
       "model_id": "50647575d8084726a3d6937c39f9ef8a",
       "version_major": 2,
       "version_minor": 0
      },
      "text/plain": [
       "Text(value='{}', description='densities', style=TextStyle(description_width='initial'))"
      ]
     },
     "metadata": {},
     "output_type": "display_data"
    },
    {
     "data": {
      "application/vnd.jupyter.widget-view+json": {
       "model_id": "64bac3f1a73e40eda09a79e9b34ae740",
       "version_major": 2,
       "version_minor": 0
      },
      "text/plain": [
       "Text(value='{}', description='binding_formulas', style=TextStyle(description_width='initial'))"
      ]
     },
     "metadata": {},
     "output_type": "display_data"
    },
    {
     "name": "stdout",
     "output_type": "stream",
     "text": [
      "Plugin: BoundaryPixelTrackerPlugin\n"
     ]
    },
    {
     "data": {
      "application/vnd.jupyter.widget-view+json": {
       "model_id": "91152e9b49aa4dfe9b2e0eb174826a35",
       "version_major": 2,
       "version_minor": 0
      },
      "text/plain": [
       "Text(value='1', description='neighbor_order', style=TextStyle(description_width='initial'))"
      ]
     },
     "metadata": {},
     "output_type": "display_data"
    },
    {
     "name": "stdout",
     "output_type": "stream",
     "text": [
      "Plugin: CellTypePlugin\n"
     ]
    },
    {
     "data": {
      "application/vnd.jupyter.widget-view+json": {
       "model_id": "1d927db0603e4e47acfccb7e60b988fb",
       "version_major": 2,
       "version_minor": 0
      },
      "text/plain": [
       "Text(value=\"[('Medium', 0, False)]\", description='cell_types', style=TextStyle(description_width='initial'))"
      ]
     },
     "metadata": {},
     "output_type": "display_data"
    },
    {
     "name": "stdout",
     "output_type": "stream",
     "text": [
      "Plugin: CenterOfMassPlugin\n",
      "Plugin: ChemotaxisPlugin\n"
     ]
    },
    {
     "data": {
      "application/vnd.jupyter.widget-view+json": {
       "model_id": "a3b92186587d42cfa560fb8f3acbe628",
       "version_major": 2,
       "version_minor": 0
      },
      "text/plain": [
       "Text(value='{}', description='field_specs', style=TextStyle(description_width='initial'))"
      ]
     },
     "metadata": {},
     "output_type": "display_data"
    },
    {
     "name": "stdout",
     "output_type": "stream",
     "text": [
      "Plugin: ConnectivityGlobalPlugin\n"
     ]
    },
    {
     "data": {
      "application/vnd.jupyter.widget-view+json": {
       "model_id": "fda0324eb7b24dbfb6e33bef082c6736",
       "version_major": 2,
       "version_minor": 0
      },
      "text/plain": [
       "Text(value='False', description='fast', style=TextStyle(description_width='initial'))"
      ]
     },
     "metadata": {},
     "output_type": "display_data"
    },
    {
     "data": {
      "application/vnd.jupyter.widget-view+json": {
       "model_id": "25e510e2425e401b966e9a4e090085cf",
       "version_major": 2,
       "version_minor": 0
      },
      "text/plain": [
       "Text(value='[]', description='cell_types', style=TextStyle(description_width='initial'))"
      ]
     },
     "metadata": {},
     "output_type": "display_data"
    },
    {
     "name": "stdout",
     "output_type": "stream",
     "text": [
      "Plugin: ConnectivityPlugin\n",
      "Plugin: ContactPlugin\n"
     ]
    },
    {
     "data": {
      "application/vnd.jupyter.widget-view+json": {
       "model_id": "a4db310c322f457db9b705a7d52b816b",
       "version_major": 2,
       "version_minor": 0
      },
      "text/plain": [
       "Text(value='{}', description='energies', style=TextStyle(description_width='initial'))"
      ]
     },
     "metadata": {},
     "output_type": "display_data"
    },
    {
     "data": {
      "application/vnd.jupyter.widget-view+json": {
       "model_id": "aefe4308ee0e423396d7b6deb1e173a3",
       "version_major": 2,
       "version_minor": 0
      },
      "text/plain": [
       "Text(value='1', description='neighbor_order', style=TextStyle(description_width='initial'))"
      ]
     },
     "metadata": {},
     "output_type": "display_data"
    },
    {
     "name": "stdout",
     "output_type": "stream",
     "text": [
      "Plugin: CurvaturePlugin\n"
     ]
    },
    {
     "data": {
      "application/vnd.jupyter.widget-view+json": {
       "model_id": "c3e12c662897408c9fbfee56a7301e51",
       "version_major": 2,
       "version_minor": 0
      },
      "text/plain": [
       "Text(value='{}', description='param_specs', style=TextStyle(description_width='initial'))"
      ]
     },
     "metadata": {},
     "output_type": "display_data"
    },
    {
     "data": {
      "application/vnd.jupyter.widget-view+json": {
       "model_id": "2826b5fe093142b59ae61404edf1042d",
       "version_major": 2,
       "version_minor": 0
      },
      "text/plain": [
       "Text(value='{}', description='type_spec', style=TextStyle(description_width='initial'))"
      ]
     },
     "metadata": {},
     "output_type": "display_data"
    },
    {
     "name": "stdout",
     "output_type": "stream",
     "text": [
      "Plugin: ExternalPotentialPlugin\n"
     ]
    },
    {
     "data": {
      "application/vnd.jupyter.widget-view+json": {
       "model_id": "ca848fd133b0432a9c7e4ebde0fde7d7",
       "version_major": 2,
       "version_minor": 0
      },
      "text/plain": [
       "Text(value='None', description='lambda_x', style=TextStyle(description_width='initial'))"
      ]
     },
     "metadata": {},
     "output_type": "display_data"
    },
    {
     "data": {
      "application/vnd.jupyter.widget-view+json": {
       "model_id": "cdaed0a3a6a94cd28e4aba439ed4a3a8",
       "version_major": 2,
       "version_minor": 0
      },
      "text/plain": [
       "Text(value='None', description='lambda_y', style=TextStyle(description_width='initial'))"
      ]
     },
     "metadata": {},
     "output_type": "display_data"
    },
    {
     "data": {
      "application/vnd.jupyter.widget-view+json": {
       "model_id": "400f6eac58574f79b050868aea3d3e1e",
       "version_major": 2,
       "version_minor": 0
      },
      "text/plain": [
       "Text(value='None', description='lambda_z', style=TextStyle(description_width='initial'))"
      ]
     },
     "metadata": {},
     "output_type": "display_data"
    },
    {
     "data": {
      "application/vnd.jupyter.widget-view+json": {
       "model_id": "3fa6202ee05c4b418c76ee17db67cfbd",
       "version_major": 2,
       "version_minor": 0
      },
      "text/plain": [
       "Text(value='False', description='com_based', style=TextStyle(description_width='initial'))"
      ]
     },
     "metadata": {},
     "output_type": "display_data"
    },
    {
     "data": {
      "application/vnd.jupyter.widget-view+json": {
       "model_id": "aeedac279e654c57b8e1f35cc7496cf0",
       "version_major": 2,
       "version_minor": 0
      },
      "text/plain": [
       "Text(value='{}', description='param_specs', style=TextStyle(description_width='initial'))"
      ]
     },
     "metadata": {},
     "output_type": "display_data"
    },
    {
     "name": "stdout",
     "output_type": "stream",
     "text": [
      "Plugin: FocalPointPlasticityPlugin\n"
     ]
    },
    {
     "data": {
      "application/vnd.jupyter.widget-view+json": {
       "model_id": "fd1c33730e5c44ffad3c7b3951b400e4",
       "version_major": 2,
       "version_minor": 0
      },
      "text/plain": [
       "Text(value='1', description='neighbor_order', style=TextStyle(description_width='initial'))"
      ]
     },
     "metadata": {},
     "output_type": "display_data"
    },
    {
     "data": {
      "application/vnd.jupyter.widget-view+json": {
       "model_id": "b6cb086a5b4940d5b392127fddc929ea",
       "version_major": 2,
       "version_minor": 0
      },
      "text/plain": [
       "Text(value='{}', description='param_specs', style=TextStyle(description_width='initial'))"
      ]
     },
     "metadata": {},
     "output_type": "display_data"
    },
    {
     "name": "stdout",
     "output_type": "stream",
     "text": [
      "Plugin: LengthConstraintPlugin\n"
     ]
    },
    {
     "data": {
      "application/vnd.jupyter.widget-view+json": {
       "model_id": "29f30721b99443eca888342883c3e0e5",
       "version_major": 2,
       "version_minor": 0
      },
      "text/plain": [
       "Text(value='{}', description='param_specs', style=TextStyle(description_width='initial'))"
      ]
     },
     "metadata": {},
     "output_type": "display_data"
    },
    {
     "name": "stdout",
     "output_type": "stream",
     "text": [
      "Plugin: MomentOfInertiaPlugin\n",
      "Plugin: NeighborTrackerPlugin\n",
      "Plugin: PixelTrackerPlugin\n"
     ]
    },
    {
     "data": {
      "application/vnd.jupyter.widget-view+json": {
       "model_id": "36d5bba30adf4bc7a8bb0405ab7285de",
       "version_major": 2,
       "version_minor": 0
      },
      "text/plain": [
       "Text(value='False', description='track_medium', style=TextStyle(description_width='initial'))"
      ]
     },
     "metadata": {},
     "output_type": "display_data"
    },
    {
     "name": "stdout",
     "output_type": "stream",
     "text": [
      "Plugin: SecretionPlugin\n"
     ]
    },
    {
     "data": {
      "application/vnd.jupyter.widget-view+json": {
       "model_id": "4db4f9b9420e44418781681d30847784",
       "version_major": 2,
       "version_minor": 0
      },
      "text/plain": [
       "Text(value='True', description='pixel_tracker', style=TextStyle(description_width='initial'))"
      ]
     },
     "metadata": {},
     "output_type": "display_data"
    },
    {
     "data": {
      "application/vnd.jupyter.widget-view+json": {
       "model_id": "cf0ce51acd2e4f8b8de036b69ce8121b",
       "version_major": 2,
       "version_minor": 0
      },
      "text/plain": [
       "Text(value='True', description='boundary_pixel_tracker', style=TextStyle(description_width='initial'))"
      ]
     },
     "metadata": {},
     "output_type": "display_data"
    },
    {
     "data": {
      "application/vnd.jupyter.widget-view+json": {
       "model_id": "86ebf6df329b4ec0980446e967c9a22a",
       "version_major": 2,
       "version_minor": 0
      },
      "text/plain": [
       "Text(value='{}', description='field_specs', style=TextStyle(description_width='initial'))"
      ]
     },
     "metadata": {},
     "output_type": "display_data"
    },
    {
     "name": "stdout",
     "output_type": "stream",
     "text": [
      "Plugin: SurfacePlugin\n"
     ]
    },
    {
     "data": {
      "application/vnd.jupyter.widget-view+json": {
       "model_id": "212225662190420492a4973c4c1191c6",
       "version_major": 2,
       "version_minor": 0
      },
      "text/plain": [
       "Text(value='{}', description='params', style=TextStyle(description_width='initial'))"
      ]
     },
     "metadata": {},
     "output_type": "display_data"
    },
    {
     "name": "stdout",
     "output_type": "stream",
     "text": [
      "Plugin: VolumePlugin\n"
     ]
    },
    {
     "data": {
      "application/vnd.jupyter.widget-view+json": {
       "model_id": "ed1a8570f51742478548a19974d68ea5",
       "version_major": 2,
       "version_minor": 0
      },
      "text/plain": [
       "Text(value='{}', description='params', style=TextStyle(description_width='initial'))"
      ]
     },
     "metadata": {},
     "output_type": "display_data"
    }
   ],
   "source": [
    "import ipywidgets as widgets\n",
    "from IPython.display import display\n",
    "from cc3d.core.PyCoreSpecs import PLUGINS\n",
    "\n",
    "for plugin_cls in PLUGINS:\n",
    "    plugin = plugin_cls()\n",
    "    print(f\"Plugin: {plugin_cls.__name__}\")\n",
    "    for param_name in plugin.spec_dict.keys():\n",
    "        # For demonstration, create a text box for each parameter\n",
    "        value = plugin.spec_dict[param_name]\n",
    "        input_widget = widgets.Text(\n",
    "            value=str(value),\n",
    "            description=param_name,\n",
    "            style={'description_width': 'initial'},\n",
    "        )\n",
    "        display(input_widget)"
   ]
  },
  {
   "cell_type": "code",
   "execution_count": 1,
   "id": "a940371e",
   "metadata": {},
   "outputs": [
    {
     "name": "stdout",
     "output_type": "stream",
     "text": [
      "PottsCore parameters:\n"
     ]
    },
    {
     "data": {
      "application/vnd.jupyter.widget-view+json": {
       "model_id": "57adb081e9a844198273fc51baa8ff52",
       "version_major": 2,
       "version_minor": 0
      },
      "text/plain": [
       "Text(value='100', description='dim_x', style=TextStyle(description_width='initial'))"
      ]
     },
     "metadata": {},
     "output_type": "display_data"
    },
    {
     "data": {
      "application/vnd.jupyter.widget-view+json": {
       "model_id": "6629d3833c164aa09c07e3c9c976db07",
       "version_major": 2,
       "version_minor": 0
      },
      "text/plain": [
       "Text(value='100', description='dim_y', style=TextStyle(description_width='initial'))"
      ]
     },
     "metadata": {},
     "output_type": "display_data"
    },
    {
     "data": {
      "application/vnd.jupyter.widget-view+json": {
       "model_id": "8cfd90f8788c43ecaec52b0c15ffb76f",
       "version_major": 2,
       "version_minor": 0
      },
      "text/plain": [
       "Text(value='1', description='dim_z', style=TextStyle(description_width='initial'))"
      ]
     },
     "metadata": {},
     "output_type": "display_data"
    },
    {
     "data": {
      "application/vnd.jupyter.widget-view+json": {
       "model_id": "5a600d8ea91c4dc6b353a7a1b8c8ab6c",
       "version_major": 2,
       "version_minor": 0
      },
      "text/plain": [
       "Text(value='0', description='steps', style=TextStyle(description_width='initial'))"
      ]
     },
     "metadata": {},
     "output_type": "display_data"
    },
    {
     "data": {
      "application/vnd.jupyter.widget-view+json": {
       "model_id": "5cdeb720b69242b586e35bff434c4b06",
       "version_major": 2,
       "version_minor": 0
      },
      "text/plain": [
       "Text(value='0', description='anneal', style=TextStyle(description_width='initial'))"
      ]
     },
     "metadata": {},
     "output_type": "display_data"
    },
    {
     "data": {
      "application/vnd.jupyter.widget-view+json": {
       "model_id": "ce76ca6eaf344b18aead798d2762dd1e",
       "version_major": 2,
       "version_minor": 0
      },
      "text/plain": [
       "Text(value='10.0', description='fluctuation_amplitude', style=TextStyle(description_width='initial'))"
      ]
     },
     "metadata": {},
     "output_type": "display_data"
    },
    {
     "data": {
      "application/vnd.jupyter.widget-view+json": {
       "model_id": "38a540ac88cc49f2a9595fc9643360a9",
       "version_major": 2,
       "version_minor": 0
      },
      "text/plain": [
       "Text(value='Min', description='fluctuation_amplitude_function', style=TextStyle(description_width='initial'))"
      ]
     },
     "metadata": {},
     "output_type": "display_data"
    },
    {
     "data": {
      "application/vnd.jupyter.widget-view+json": {
       "model_id": "75ff692d6b4c422dbef57691a27ee1bb",
       "version_major": 2,
       "version_minor": 0
      },
      "text/plain": [
       "Text(value='NoFlux', description='boundary_x', style=TextStyle(description_width='initial'))"
      ]
     },
     "metadata": {},
     "output_type": "display_data"
    },
    {
     "data": {
      "application/vnd.jupyter.widget-view+json": {
       "model_id": "dd4cbc66ede24a77afcb12aca9a48ed7",
       "version_major": 2,
       "version_minor": 0
      },
      "text/plain": [
       "Text(value='NoFlux', description='boundary_y', style=TextStyle(description_width='initial'))"
      ]
     },
     "metadata": {},
     "output_type": "display_data"
    },
    {
     "data": {
      "application/vnd.jupyter.widget-view+json": {
       "model_id": "1e74c9c3a65f41e698d5dc4c36b0f827",
       "version_major": 2,
       "version_minor": 0
      },
      "text/plain": [
       "Text(value='NoFlux', description='boundary_z', style=TextStyle(description_width='initial'))"
      ]
     },
     "metadata": {},
     "output_type": "display_data"
    },
    {
     "data": {
      "application/vnd.jupyter.widget-view+json": {
       "model_id": "ea168247e9164db88f223b7c71266713",
       "version_major": 2,
       "version_minor": 0
      },
      "text/plain": [
       "Text(value='1', description='neighbor_order', style=TextStyle(description_width='initial'))"
      ]
     },
     "metadata": {},
     "output_type": "display_data"
    },
    {
     "data": {
      "application/vnd.jupyter.widget-view+json": {
       "model_id": "ecb897102cf7409ba149667f4ce5af0f",
       "version_major": 2,
       "version_minor": 0
      },
      "text/plain": [
       "Text(value='0', description='debug_output_frequency', style=TextStyle(description_width='initial'))"
      ]
     },
     "metadata": {},
     "output_type": "display_data"
    },
    {
     "data": {
      "application/vnd.jupyter.widget-view+json": {
       "model_id": "c8de440f24dc465393210c5cabfde60f",
       "version_major": 2,
       "version_minor": 0
      },
      "text/plain": [
       "Text(value='None', description='random_seed', style=TextStyle(description_width='initial'))"
      ]
     },
     "metadata": {},
     "output_type": "display_data"
    },
    {
     "data": {
      "application/vnd.jupyter.widget-view+json": {
       "model_id": "f6214a94ba3b443a923f45638f4f43a5",
       "version_major": 2,
       "version_minor": 0
      },
      "text/plain": [
       "Text(value='Cartesian', description='lattice_type', style=TextStyle(description_width='initial'))"
      ]
     },
     "metadata": {},
     "output_type": "display_data"
    },
    {
     "data": {
      "application/vnd.jupyter.widget-view+json": {
       "model_id": "fc807151770c4e30957c5b12b4aa3370",
       "version_major": 2,
       "version_minor": 0
      },
      "text/plain": [
       "Text(value='0', description='offset', style=TextStyle(description_width='initial'))"
      ]
     },
     "metadata": {},
     "output_type": "display_data"
    },
    {
     "data": {
      "application/vnd.jupyter.widget-view+json": {
       "model_id": "dd1175546fb342f68514319ebb92ceaf",
       "version_major": 2,
       "version_minor": 0
      },
      "text/plain": [
       "Text(value='None', description='energy_function_calculator', style=TextStyle(description_width='initial'))"
      ]
     },
     "metadata": {},
     "output_type": "display_data"
    },
    {
     "name": "stdout",
     "output_type": "stream",
     "text": [
      "Metadata parameters:\n"
     ]
    },
    {
     "data": {
      "application/vnd.jupyter.widget-view+json": {
       "model_id": "2b319c10a62c473e82c859c904ccb5cf",
       "version_major": 2,
       "version_minor": 0
      },
      "text/plain": [
       "Text(value='4', description='num_processors', style=TextStyle(description_width='initial'))"
      ]
     },
     "metadata": {},
     "output_type": "display_data"
    },
    {
     "data": {
      "application/vnd.jupyter.widget-view+json": {
       "model_id": "790557a2560e49f0a74cf29d5359f7ab",
       "version_major": 2,
       "version_minor": 0
      },
      "text/plain": [
       "Text(value='10', description='debug_output_frequency', style=TextStyle(description_width='initial'))"
      ]
     },
     "metadata": {},
     "output_type": "display_data"
    }
   ],
   "source": [
    "from cc3d.core.PyCoreSpecs import PottsCore, Metadata\n",
    "import ipywidgets as widgets\n",
    "from IPython.display import display\n",
    "\n",
    "# Create instances\n",
    "potts = PottsCore(dim_x=100, dim_y=100, dim_z=1)\n",
    "metadata = Metadata(num_processors=4, debug_output_frequency=10)\n",
    "\n",
    "# Display widgets for each parameter in PottsCore\n",
    "print(\"PottsCore parameters:\")\n",
    "for param_name, value in potts.spec_dict.items():\n",
    "    input_widget = widgets.Text(\n",
    "        value=str(value),\n",
    "        description=param_name,\n",
    "        style={'description_width': 'initial'}\n",
    "    )\n",
    "    display(input_widget)\n",
    "    # print(f\"{param_name}: {value}\")\n",
    "\n",
    "# Display widgets for each parameter in Metadata\n",
    "print(\"Metadata parameters:\")\n",
    "for param_name, value in metadata.spec_dict.items():\n",
    "    input_widget = widgets.Text(\n",
    "        value=str(value),\n",
    "        description=param_name,\n",
    "        style={'description_width': 'initial'}  # Adjust description width\n",
    "    )\n",
    "    display(input_widget)\n",
    "    # Why is debug output frequency shown on both PottsCore and Metadata?"
   ]
  }
 ],
 "metadata": {
  "kernelspec": {
   "display_name": "cc3d_460_310",
   "language": "python",
   "name": "python3"
  },
  "language_info": {
   "codemirror_mode": {
    "name": "ipython",
    "version": 3
   },
   "file_extension": ".py",
   "mimetype": "text/x-python",
   "name": "python",
   "nbconvert_exporter": "python",
   "pygments_lexer": "ipython3",
   "version": "3.10.13"
  }
 },
 "nbformat": 4,
 "nbformat_minor": 5
}
