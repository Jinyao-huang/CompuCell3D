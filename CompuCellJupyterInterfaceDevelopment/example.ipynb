{
 "cells": [
  {
   "cell_type": "code",
   "execution_count": 39,
   "id": "6581d5e7",
   "metadata": {},
   "outputs": [
    {
     "data": {
      "application/vnd.jupyter.widget-view+json": {
       "model_id": "cdfea2d0399c4893893f14bcde015fbf",
       "version_major": 2,
       "version_minor": 0
      },
      "text/plain": [
       "VBox(children=(Tab(children=(VBox(children=(IntText(value=4, description='Number of Processors:', style=Descri…"
      ]
     },
     "metadata": {},
     "output_type": "display_data"
    }
   ],
   "source": [
    "# Option 1\n",
    "%run ./Spec_UI.py\n"
   ]
  },
  {
   "cell_type": "code",
   "execution_count": null,
   "id": "a9f35f1e",
   "metadata": {},
   "outputs": [
    {
     "data": {
      "application/vnd.jupyter.widget-view+json": {
       "model_id": "f2757ae036764899a752de2cc2fddf04",
       "version_major": 2,
       "version_minor": 0
      },
      "text/plain": [
       "VBox(children=(Tab(children=(VBox(children=(IntText(value=4, description='Number of Processors:', style=Descri…"
      ]
     },
     "metadata": {},
     "output_type": "display_data"
    },
    {
     "data": {
      "text/plain": [
       "'specs = [\\n    Metadata(), \\n    PottsCore(dim_x=100, dim_y=100, neighbor_order=2)\\n]'"
      ]
     },
     "execution_count": 40,
     "metadata": {},
     "output_type": "execute_result"
    }
   ],
   "source": [
    "# Option 2\n",
    "from Spec_UI import SpecificationSetupUI\n",
    "ui = SpecificationSetupUI()\n",
    "# Don't currently have a spepare Metadata class. \n",
    "# User configuration still in JSON? (yes) or a list like \"spec\"\n",
    "# Lots of constraints - initliazer email okie extracting dependacy relationships from the API\n",
    "'''specs = [\n",
    "    Metadata(), \n",
    "    PottsCore(dim_x=100, dim_y=100, neighbor_order=2)\n",
    "]'''"
   ]
  },
  {
   "cell_type": "code",
   "execution_count": 41,
   "id": "0aed6d03",
   "metadata": {},
   "outputs": [
    {
     "data": {
      "application/vnd.jupyter.widget-view+json": {
       "model_id": "ec15f8d4fafe4d72a3e92cdfbb4e61f8",
       "version_major": 2,
       "version_minor": 0
      },
      "text/plain": [
       "VBox(children=(HTML(value='<b>Dimensions:</b>'), HBox(children=(IntSlider(value=100, continuous_update=False, …"
      ]
     },
     "metadata": {},
     "output_type": "display_data"
    }
   ],
   "source": [
    "from Spec_UI import PottsWidget, DEFAULTS\n",
    "from IPython.display import display\n",
    "\n",
    "potts_widget = PottsWidget(DEFAULTS[\"PottsCore\"])\n",
    "display(potts_widget.create_ui())"
   ]
  },
  {
   "cell_type": "code",
   "execution_count": 42,
   "id": "98d30699",
   "metadata": {},
   "outputs": [
    {
     "data": {
      "application/vnd.jupyter.widget-view+json": {
       "model_id": "4c3d2dc01b9e4407a2bd13ec1252d671",
       "version_major": 2,
       "version_minor": 0
      },
      "text/plain": [
       "VBox(children=(HBox(children=(VBox(children=(Label(value='Current Cell Types:', style=LabelStyle(font_weight='…"
      ]
     },
     "metadata": {},
     "output_type": "display_data"
    }
   ],
   "source": [
    "from Spec_UI import CellTypeWidget, DEFAULTS\n",
    "from IPython.display import display\n",
    "\n",
    "celltype_widget = CellTypeWidget(DEFAULTS[\"CellType\"])\n",
    "display(celltype_widget.create_ui())"
   ]
  },
  {
   "cell_type": "code",
   "execution_count": 44,
   "id": "0143abe3",
   "metadata": {},
   "outputs": [],
   "source": [
    "ui.save_to_json()  # Manual save\n",
    "ui.reset_all()     # Reset everything (pass None as required argument)\n",
    "config = ui.current_config()  # Get current state"
   ]
  }
 ],
 "metadata": {
  "kernelspec": {
   "display_name": "cc3d_460_310",
   "language": "python",
   "name": "python3"
  },
  "language_info": {
   "codemirror_mode": {
    "name": "ipython",
    "version": 3
   },
   "file_extension": ".py",
   "mimetype": "text/x-python",
   "name": "python",
   "nbconvert_exporter": "python",
   "pygments_lexer": "ipython3",
   "version": "3.10.13"
  }
 },
 "nbformat": 4,
 "nbformat_minor": 5
}
