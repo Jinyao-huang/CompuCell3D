{
 "cells": [
  {
   "cell_type": "code",
   "execution_count": 1,
   "id": "6581d5e7",
   "metadata": {},
   "outputs": [
    {
     "data": {
      "application/vnd.jupyter.widget-view+json": {
       "model_id": "77485aad750b45d7b2c63113b73cf8a3",
       "version_major": 2,
       "version_minor": 0
      },
      "text/plain": [
       "VBox(children=(Tab(children=(VBox(children=(IntText(value=4, description='Number of Processors:', style=Descri…"
      ]
     },
     "metadata": {},
     "output_type": "display_data"
    }
   ],
   "source": [
    "# Option 1\n",
    "# %run ./Spec_UI.py\n",
    "\n",
    "from Spec_UI import SpecificationSetupUI\n",
    "ui = SpecificationSetupUI()\n"
   ]
  },
  {
   "cell_type": "code",
   "execution_count": 2,
   "id": "0143abe3",
   "metadata": {},
   "outputs": [],
   "source": [
    "# ui.save_to_json()  # Manual save\n",
    "# ui.reset_all()     # Reset everything (pass None as required argument)\n",
    "config = ui.current_config()  # Get current state"
   ]
  },
  {
   "cell_type": "code",
   "execution_count": 3,
   "id": "793de29c",
   "metadata": {},
   "outputs": [
    {
     "name": "stdout",
     "output_type": "stream",
     "text": [
      "{'Metadata': {'num_processors': 4, 'debug_output_frequency': 10}, 'PottsCore': {'dim_x': 100, 'dim_y': 100, 'dim_z': 1, 'steps': 100000, 'anneal': 0, 'fluctuation_amplitude': 10.0, 'fluctuation_amplitude_function': 'Min', 'boundary_x': 'Periodic', 'boundary_y': 'Periodic', 'boundary_z': 'NoFlux', 'neighbor_order': 2, 'debug_output_frequency': 0, 'random_seed': None, 'lattice_type': 'Cartesian', 'offset': 0, 'energy_function_calculator': None}, 'CellType': [{'Cell type': 'T1', 'freeze': False}, {'Cell type': 'T2', 'freeze': False}, {'Cell type': 'T3', 'freeze': False}], 'Constraints': {'Volume': [{'CellType': 'Medium', 'enabled': False, 'target_volume': 25.0, 'lambda_volume': 2.0}], 'Surface': []}}\n"
     ]
    }
   ],
   "source": [
    "print(ui.current_config())"
   ]
  },
  {
   "cell_type": "markdown",
   "id": "1a41b4ee",
   "metadata": {},
   "source": [
    "## Adhesion Demo"
   ]
  },
  {
   "cell_type": "code",
   "execution_count": 4,
   "id": "09e3713e",
   "metadata": {},
   "outputs": [],
   "source": [
    "from cc3d.core.PyCoreSpecs import Metadata, PottsCore\n",
    "\n",
    "# dim_x = dim_y = 100\n",
    "specs = [\n",
    "    # Metadata(num_processors=4),\n",
    "    Metadata(num_processors=config['Metadata']['num_processors']),             \n",
    "    PottsCore(dim_x=config['PottsCore']['dim_x'],\n",
    "              dim_y=config['PottsCore']['dim_y'],\n",
    "              neighbor_order=config['PottsCore']['neighbor_order'],\n",
    "              boundary_x=config['PottsCore']['boundary_x'],\n",
    "              boundary_y=config['PottsCore']['boundary_y'])\n",
    "            #   neighbor_order=2,\n",
    "            #   boundary_x=\"Periodic\",\n",
    "            #   boundary_y=\"Periodic\")\n",
    "]"
   ]
  },
  {
   "cell_type": "code",
   "execution_count": 5,
   "id": "cbe4570c",
   "metadata": {},
   "outputs": [
    {
     "name": "stdout",
     "output_type": "stream",
     "text": [
      "['T1', 'T2', 'T3']\n"
     ]
    }
   ],
   "source": [
    "from cc3d.core.PyCoreSpecs import CellTypePlugin\n",
    "\n",
    "cell_types = [cell['Cell type'] for cell in config['CellType']]\n",
    "# cell_types = [\"T1\", \"T2\", \"T3\"]\n",
    "print(cell_types)\n",
    "# specs.append(CellTypePlugin(*cell_types))"
   ]
  },
  {
   "cell_type": "code",
   "execution_count": null,
   "id": "1b0efe7e",
   "metadata": {},
   "outputs": [],
   "source": [
    "from cc3d.core.PyCoreSpecs import VolumePlugin\n",
    "\n",
    "volume_specs = VolumePlugin()\n",
    "# for ct in cell_types:\n",
    "    # volume_specs.param_new(ct, target_volume=25, lambda_volume=2)\n",
    "for cell in config['Constraints']['Volume']]:\n",
    "    volume_specs.param_new(cell['CellType'], target_volume=cell['target_volume'], lambda_volume=cell['lambda_volume'])\n",
    "specs.append(volume_specs)"
   ]
  },
  {
   "cell_type": "code",
   "execution_count": null,
   "id": "9aba9c8f",
   "metadata": {},
   "outputs": [],
   "source": [
    "from cc3d.core.PyCoreSpecs import ContactPlugin, AdhesionFlexPlugin\n",
    "\n",
    "# contact_specs = ContactPlugin(neighbor_order=2)\n",
    "contact_specs = ContactPlugin(neighbor_order=config['PottsCore']['neighbor_order'])\n",
    "for idx1 in range(len(cell_types)):\n",
    "    contact_specs.param_new(type_1=\"Medium\", type_2=cell_types[idx1], energy=16)\n",
    "    for idx2 in range(idx1, len(cell_types)):\n",
    "        contact_specs.param_new(type_1=cell_types[idx1], type_2=cell_types[idx2], energy=16)\n",
    "specs.append(contact_specs)\n",
    "\n",
    "adhesion_specs = AdhesionFlexPlugin(neighbor_order=2)\n",
    "adhesion_specs.density_new(molecule=\"M1\", cell_type=\"T1\", density=1.0)\n",
    "adhesion_specs.density_new(molecule=\"M2\", cell_type=\"T2\", density=1.0)\n",
    "formula = adhesion_specs.formula_new(formula_name='Binary')\n",
    "formula.param_set(\"M1\", \"M1\", -10.0)\n",
    "formula.param_set(\"M1\", \"M2\", 0.0)\n",
    "formula.param_set(\"M2\", \"M2\", 10.0)\n",
    "specs.append(adhesion_specs)"
   ]
  },
  {
   "cell_type": "code",
   "execution_count": 10,
   "id": "646053a0",
   "metadata": {},
   "outputs": [],
   "source": [
    "from cc3d.core.PyCoreSpecs import UniformInitializer\n",
    "\n",
    "unif_init_specs = UniformInitializer()\n",
    "unif_init_specs.region_new(width=5, pt_min=(0, 0, 0), pt_max=(dim_x, dim_y, 1),\n",
    "                           cell_types=[\"T1\", \"T1\", \"T2\", \"T2\", \"T3\"])\n",
    "specs.append(unif_init_specs)"
   ]
  },
  {
   "cell_type": "code",
   "execution_count": 11,
   "id": "cdc6e603",
   "metadata": {},
   "outputs": [
    {
     "name": "stdout",
     "output_type": "stream",
     "text": [
      "WILL RUN SIMULATION FROM BEGINNING\n"
     ]
    },
    {
     "name": "stderr",
     "output_type": "stream",
     "text": [
      "/home/steve/miniconda3/envs/cc3d_env/lib/python3.10/site-packages/cc3d/core/Configuration/SettingUtils.py:248: UserWarning: Setting not set: PlayerSizes\n",
      "  warnings.warn(f'Setting not set: {_el.attrib[\"Name\"]}')\n",
      "/home/steve/miniconda3/envs/cc3d_env/lib/python3.10/site-packages/cc3d/core/Configuration/SettingUtils.py:248: UserWarning: Setting not set: PlayerSizesFloating\n",
      "  warnings.warn(f'Setting not set: {_el.attrib[\"Name\"]}')\n",
      "/home/steve/miniconda3/envs/cc3d_env/lib/python3.10/site-packages/cc3d/core/Configuration/SettingUtils.py:248: UserWarning: Setting not set: RecentSimulations\n",
      "  warnings.warn(f'Setting not set: {_el.attrib[\"Name\"]}')\n",
      "Random number generator: MersenneTwister\n"
     ]
    },
    {
     "data": {
      "text/plain": [
       "True"
      ]
     },
     "execution_count": 11,
     "metadata": {},
     "output_type": "execute_result"
    }
   ],
   "source": [
    "from cc3d.CompuCellSetup.CC3DCaller import CC3DSimService\n",
    "\n",
    "cc3d_sim = CC3DSimService()\n",
    "cc3d_sim.register_specs(specs)\n",
    "cc3d_sim.run()\n",
    "cc3d_sim.init()\n",
    "cc3d_sim.start()"
   ]
  },
  {
   "cell_type": "code",
   "execution_count": 12,
   "id": "995005b1",
   "metadata": {},
   "outputs": [],
   "source": [
    "import ipywidgets\n",
    "\n",
    "def _cb_m1_m1(change):\n",
    "    if change['name'] == 'value':\n",
    "        adhesion_specs.formula['Binary']['M1']['M1'] = change.new\n",
    "        adhesion_specs.steer()\n",
    "\n",
    "def _cb_m1_m2(change):\n",
    "    if change['name'] == 'value':\n",
    "        adhesion_specs.formula['Binary']['M1']['M1'] = change.new\n",
    "        adhesion_specs.steer()\n",
    "\n",
    "def _cb_m2_m2(change):\n",
    "    if change['name'] == 'value':\n",
    "        adhesion_specs.formula['Binary']['M2']['M2'] = change.new\n",
    "        adhesion_specs.steer()\n",
    "\n",
    "slider_m1_m1 = ipywidgets.FloatSlider(\n",
    "    value=adhesion_specs.formula['Binary']['M1']['M1'], \n",
    "    min=-10, \n",
    "    max=10, \n",
    "    step=0.1, \n",
    "    continuous_update=False, \n",
    "    description='M1-M1'\n",
    ")\n",
    "slider_m1_m2 = ipywidgets.FloatSlider(\n",
    "    value=adhesion_specs.formula['Binary']['M1']['M2'], \n",
    "    min=-10, \n",
    "    max=10, \n",
    "    step=0.1, \n",
    "    continuous_update=False, \n",
    "    description='M1-M2'\n",
    ")\n",
    "slider_m2_m2 = ipywidgets.FloatSlider(\n",
    "    value=adhesion_specs.formula['Binary']['M2']['M2'], \n",
    "    min=-10, \n",
    "    max=10, \n",
    "    step=0.1, \n",
    "    continuous_update=False, \n",
    "    description='M2-M2'\n",
    ")\n",
    "\n",
    "slider_m1_m1.observe(_cb_m1_m1, names='value')\n",
    "slider_m1_m2.observe(_cb_m1_m2, names='value')\n",
    "slider_m2_m2.observe(_cb_m2_m2, names='value')"
   ]
  },
  {
   "cell_type": "code",
   "execution_count": 13,
   "id": "e0172151",
   "metadata": {},
   "outputs": [
    {
     "data": {
      "application/vnd.jupyter.widget-view+json": {
       "model_id": "8ae25f972c164affaea814838f0d9906",
       "version_major": 2,
       "version_minor": 0
      },
      "text/plain": [
       "CC3DViewInteractiveWidget(height=600, layout=Layout(height='auto', width='100%'), width=600)"
      ]
     },
     "metadata": {},
     "output_type": "display_data"
    },
    {
     "data": {
      "application/vnd.jupyter.widget-view+json": {
       "model_id": "15fe589122b64f668ce63f9b821b76b0",
       "version_major": 2,
       "version_minor": 0
      },
      "text/plain": [
       "FloatSlider(value=-10.0, continuous_update=False, description='M1-M1', max=10.0, min=-10.0)"
      ]
     },
     "metadata": {},
     "output_type": "display_data"
    },
    {
     "data": {
      "application/vnd.jupyter.widget-view+json": {
       "model_id": "ede0daeff75d430abab0335ebbaebe83",
       "version_major": 2,
       "version_minor": 0
      },
      "text/plain": [
       "FloatSlider(value=0.0, continuous_update=False, description='M1-M2', max=10.0, min=-10.0)"
      ]
     },
     "metadata": {},
     "output_type": "display_data"
    },
    {
     "data": {
      "application/vnd.jupyter.widget-view+json": {
       "model_id": "e0a18efdfe0f4f40bb6878670f7b2dfa",
       "version_major": 2,
       "version_minor": 0
      },
      "text/plain": [
       "FloatSlider(value=10.0, continuous_update=False, description='M2-M2', max=10.0, min=-10.0)"
      ]
     },
     "metadata": {},
     "output_type": "display_data"
    },
    {
     "data": {
      "application/vnd.jupyter.widget-view+json": {
       "model_id": "b8b97ca1ee934f2784b9714d4926a93c",
       "version_major": 2,
       "version_minor": 0
      },
      "text/plain": [
       "ToggleButton(value=False, description='Run Simulation')"
      ]
     },
     "metadata": {},
     "output_type": "display_data"
    }
   ],
   "source": [
    "from IPython.display import display\n",
    "\n",
    "cc3d_sim.visualize(plot_freq=10).show()\n",
    "display(slider_m1_m1)\n",
    "display(slider_m1_m2)\n",
    "display(slider_m2_m2)\n",
    "display(cc3d_sim.jupyter_run_button())"
   ]
  },
  {
   "cell_type": "code",
   "execution_count": null,
   "id": "0992c989",
   "metadata": {},
   "outputs": [],
   "source": []
  }
 ],
 "metadata": {
  "kernelspec": {
   "display_name": "cc3d_env",
   "language": "python",
   "name": "python3"
  },
  "language_info": {
   "codemirror_mode": {
    "name": "ipython",
    "version": 3
   },
   "file_extension": ".py",
   "mimetype": "text/x-python",
   "name": "python",
   "nbconvert_exporter": "python",
   "pygments_lexer": "ipython3",
   "version": "3.10.14"
  }
 },
 "nbformat": 4,
 "nbformat_minor": 5
}
