{
 "cells": [
  {
   "cell_type": "markdown",
   "id": "2c2c11ac",
   "metadata": {},
   "source": [
    "Adhesion Demo\n",
    "==============\n",
    "\n",
    "This example demonstrates how to specify cell adhesion on the basis of molecular species.\n",
    "\n",
    "Adjust the sliders to change the binding energy of two molecules, each of which is only on the surface of a particular\n",
    "cell type. A third cell type has neither molecule."
   ]
  },
  {
   "cell_type": "markdown",
   "id": "13707900",
   "metadata": {},
   "source": [
    "Basic setup\n",
    "------------\n",
    "An interactive CC3D simulation can be initialized from a list of core specs.\n",
    "Start a list of core specs that define the simulation by specifying a two-dimensional simulation\n",
    "with a 100x100 lattice and second-order Potts neighborhood, and metadata to use multithreading"
   ]
  },
  {
   "cell_type": "code",
   "execution_count": 1,
   "id": "17c93be1",
   "metadata": {},
   "outputs": [],
   "source": [
    "from cc3d.core.PyCoreSpecs import Metadata, PottsCore\n",
    "\n",
    "dim_x = dim_y = 100\n",
    "specs = [\n",
    "    Metadata(num_processors=4),\n",
    "    PottsCore(dim_x=dim_x,\n",
    "              dim_y=dim_y,\n",
    "              neighbor_order=2,\n",
    "              boundary_x=\"Periodic\",\n",
    "              boundary_y=\"Periodic\")\n",
    "]"
   ]
  },
  {
   "cell_type": "markdown",
   "id": "41d405d8",
   "metadata": {},
   "source": [
    "Cell Types\n",
    "-----------\n",
    "\n",
    "Define three cell types called \"T1\" through \"T3\"."
   ]
  },
  {
   "cell_type": "code",
   "execution_count": 2,
   "id": "a3b04b8f",
   "metadata": {},
   "outputs": [],
   "source": [
    "from cc3d.core.PyCoreSpecs import CellTypePlugin\n",
    "\n",
    "cell_types = [\"T1\", \"T2\", \"T3\"]\n",
    "specs.append(CellTypePlugin(*cell_types))"
   ]
  },
  {
   "cell_type": "markdown",
   "id": "6d157b81",
   "metadata": {},
   "source": []
  },
  {
   "cell_type": "markdown",
   "id": "ee93c998",
   "metadata": {},
   "source": [
    "Volume Constraint\n",
    "------------------\n",
    "\n",
    "Assign a volume constraint to all cell types."
   ]
  },
  {
   "cell_type": "code",
   "execution_count": 3,
   "id": "3aaaa38c",
   "metadata": {},
   "outputs": [],
   "source": [
    "from cc3d.core.PyCoreSpecs import VolumePlugin\n",
    "\n",
    "volume_specs = VolumePlugin()\n",
    "for ct in cell_types:\n",
    "    volume_specs.param_new(ct, target_volume=25, lambda_volume=2)\n",
    "specs.append(volume_specs)"
   ]
  },
  {
   "cell_type": "markdown",
   "id": "4679d681",
   "metadata": {},
   "source": [
    "Adhesion\n",
    "---------\n",
    "\n",
    "Assign uniform adhesion to all cells, and additional adhesion by molecular species."
   ]
  },
  {
   "cell_type": "code",
   "execution_count": 4,
   "id": "d0a45d59",
   "metadata": {},
   "outputs": [],
   "source": [
    "from cc3d.core.PyCoreSpecs import ContactPlugin, AdhesionFlexPlugin\n",
    "\n",
    "contact_specs = ContactPlugin(neighbor_order=2)\n",
    "for idx1 in range(len(cell_types)):\n",
    "    contact_specs.param_new(type_1=\"Medium\", type_2=cell_types[idx1], energy=16)\n",
    "    for idx2 in range(idx1, len(cell_types)):\n",
    "        contact_specs.param_new(type_1=cell_types[idx1], type_2=cell_types[idx2], energy=16)\n",
    "specs.append(contact_specs)\n",
    "\n",
    "adhesion_specs = AdhesionFlexPlugin(neighbor_order=2)\n",
    "adhesion_specs.density_new(molecule=\"M1\", cell_type=\"T1\", density=1.0)\n",
    "adhesion_specs.density_new(molecule=\"M2\", cell_type=\"T2\", density=1.0)\n",
    "formula = adhesion_specs.formula_new(formula_name='Binary')\n",
    "formula.param_set(\"M1\", \"M1\", -10.0)\n",
    "formula.param_set(\"M1\", \"M2\", 0.0)\n",
    "formula.param_set(\"M2\", \"M2\", 10.0)\n",
    "specs.append(adhesion_specs)"
   ]
  },
  {
   "cell_type": "markdown",
   "id": "5289cec9",
   "metadata": {},
   "source": [
    "Cell Distribution Initialization\n",
    "---------------------------------\n",
    "\n",
    "Initialize cells over the entire domain."
   ]
  },
  {
   "cell_type": "code",
   "execution_count": 5,
   "id": "dcff7b2d",
   "metadata": {},
   "outputs": [],
   "source": [
    "from cc3d.core.PyCoreSpecs import UniformInitializer\n",
    "\n",
    "unif_init_specs = UniformInitializer()\n",
    "unif_init_specs.region_new(width=5, pt_min=(0, 0, 0), pt_max=(dim_x, dim_y, 1),\n",
    "                           cell_types=[\"T1\", \"T1\", \"T2\", \"T2\", \"T3\"])\n",
    "specs.append(unif_init_specs)"
   ]
  },
  {
   "cell_type": "code",
   "execution_count": 17,
   "id": "9f42b291",
   "metadata": {},
   "outputs": [
    {
     "name": "stdout",
     "output_type": "stream",
     "text": [
      "{'spec_dict': {'num_processors': 4, 'debug_output_frequency': 0}, '_el': <cc3d.core.XMLUtils.ElementCC3D object at 0x000001AA138687C0>}\n",
      "{'spec_dict': {'dim_x': 100, 'dim_y': 100, 'dim_z': 1, 'steps': 0, 'anneal': 0, 'fluctuation_amplitude': 10.0, 'fluctuation_amplitude_function': 'Min', 'boundary_x': 'Periodic', 'boundary_y': 'Periodic', 'boundary_z': 'NoFlux', 'neighbor_order': 2, 'debug_output_frequency': 0, 'random_seed': None, 'lattice_type': 'Cartesian', 'offset': 0, 'energy_function_calculator': None}, '_el': <cc3d.core.XMLUtils.ElementCC3D object at 0x000001AA13868B50>}\n",
      "{'spec_dict': {'cell_types': [('Medium', 0, False), ('T1', 1, False), ('T2', 2, False), ('T3', 3, False)]}, '_el': <cc3d.core.XMLUtils.ElementCC3D object at 0x000001AA138691E0>}\n",
      "{'spec_dict': {'params': {'T1': <cc3d.core.PyCoreSpecs.VolumeEnergyParameter object at 0x000001AA0F8B0FA0>, 'T2': <cc3d.core.PyCoreSpecs.VolumeEnergyParameter object at 0x000001AA0F8B1F60>, 'T3': <cc3d.core.PyCoreSpecs.VolumeEnergyParameter object at 0x000001AA1300A440>}}, '_el': <cc3d.core.XMLUtils.ElementCC3D object at 0x000001AA138692D0>}\n",
      "{'spec_dict': {'energies': {'Medium': {'T1': <cc3d.core.PyCoreSpecs.ContactEnergyParameter object at 0x000001AA1300B9D0>, 'T2': <cc3d.core.PyCoreSpecs.ContactEnergyParameter object at 0x000001AA1300A740>, 'T3': <cc3d.core.PyCoreSpecs.ContactEnergyParameter object at 0x000001AA13009ED0>}, 'T1': {'T1': <cc3d.core.PyCoreSpecs.ContactEnergyParameter object at 0x000001AA1300B6A0>, 'T2': <cc3d.core.PyCoreSpecs.ContactEnergyParameter object at 0x000001AA1300A560>, 'T3': <cc3d.core.PyCoreSpecs.ContactEnergyParameter object at 0x000001AA1300A590>}, 'T2': {'T2': <cc3d.core.PyCoreSpecs.ContactEnergyParameter object at 0x000001AA1300A6B0>, 'T3': <cc3d.core.PyCoreSpecs.ContactEnergyParameter object at 0x000001AA1300A3E0>}, 'T3': {'T3': <cc3d.core.PyCoreSpecs.ContactEnergyParameter object at 0x000001AA13009C90>}}, 'neighbor_order': 2}, '_el': <cc3d.core.XMLUtils.ElementCC3D object at 0x000001AA13869A50>}\n",
      "{'spec_dict': {'neighbor_order': 2, 'molecules': ['M1', 'M2'], 'densities': {'M1': {'T1': <cc3d.core.PyCoreSpecs.AdhesionFlexMoleculeDensity object at 0x000001AA1300BFD0>}, 'M2': {'T2': <cc3d.core.PyCoreSpecs.AdhesionFlexMoleculeDensity object at 0x000001AA1300BA90>}}, 'binding_formulas': {'Binary': <cc3d.core.PyCoreSpecs.AdhesionFlexBindingFormula object at 0x000001AA1300BA60>}}, '_el': <cc3d.core.XMLUtils.ElementCC3D object at 0x000001AA1386A470>}\n",
      "{'spec_dict': {'regions': [<cc3d.core.PyCoreSpecs.UniformInitializerRegion object at 0x000001AA1300B730>]}, '_el': <cc3d.core.XMLUtils.ElementCC3D object at 0x000001AA1386B100>}\n"
     ]
    }
   ],
   "source": [
    "# import json\n",
    "# with open('AdhesionDemoSpec.json', 'w') as f:\n",
    "#     json.dump(specs, f, indent=4)\n",
    "\n",
    "for spec in specs:\n",
    "    print(spec.__dict__)"
   ]
  },
  {
   "cell_type": "markdown",
   "id": "1bfc58e6",
   "metadata": {},
   "source": [
    "Simulation Launch\n",
    "------------------\n",
    "\n",
    "Initialize a CC3D simulation service instance and register all simulation specification."
   ]
  },
  {
   "cell_type": "code",
   "execution_count": 6,
   "id": "8f8df9ab",
   "metadata": {},
   "outputs": [
    {
     "name": "stderr",
     "output_type": "stream",
     "text": [
      "a:\\conda_envs\\cc3d_env\\lib\\site-packages\\cc3d\\core\\Configuration\\SettingUtils.py:248: UserWarning: Setting not set: PlayerSizes\n",
      "  warnings.warn(f'Setting not set: {_el.attrib[\"Name\"]}')\n",
      "a:\\conda_envs\\cc3d_env\\lib\\site-packages\\cc3d\\core\\Configuration\\SettingUtils.py:248: UserWarning: Setting not set: PlayerSizesFloating\n",
      "  warnings.warn(f'Setting not set: {_el.attrib[\"Name\"]}')\n",
      "a:\\conda_envs\\cc3d_env\\lib\\site-packages\\cc3d\\core\\Configuration\\SettingUtils.py:248: UserWarning: Setting not set: RecentSimulations\n",
      "  warnings.warn(f'Setting not set: {_el.attrib[\"Name\"]}')\n"
     ]
    },
    {
     "name": "stdout",
     "output_type": "stream",
     "text": [
      "WILL RUN SIMULATION FROM BEGINNING\n"
     ]
    },
    {
     "data": {
      "text/plain": [
       "True"
      ]
     },
     "execution_count": 6,
     "metadata": {},
     "output_type": "execute_result"
    }
   ],
   "source": [
    "from cc3d.CompuCellSetup.CC3DCaller import CC3DSimService\n",
    "\n",
    "cc3d_sim = CC3DSimService()\n",
    "cc3d_sim.register_specs(specs)\n",
    "cc3d_sim.run()\n",
    "cc3d_sim.init()\n",
    "cc3d_sim.start()"
   ]
  },
  {
   "cell_type": "markdown",
   "id": "1493a753",
   "metadata": {},
   "source": [
    "Steering\n",
    "---------\n",
    "\n",
    "Add sliders to adjust molecular adhesion model parameters during simulation execution."
   ]
  },
  {
   "cell_type": "code",
   "execution_count": null,
   "id": "6187ea5a",
   "metadata": {},
   "outputs": [],
   "source": [
    "import ipywidgets\n",
    "\n",
    "def _cb_m1_m1(change):\n",
    "    if change['name'] == 'value':\n",
    "        adhesion_specs.formula['Binary']['M1']['M1'] = change.new\n",
    "        adhesion_specs.steer()\n",
    "\n",
    "def _cb_m1_m2(change):\n",
    "    if change['name'] == 'value':\n",
    "        adhesion_specs.formula['Binary']['M1']['M1'] = change.new\n",
    "        adhesion_specs.steer()\n",
    "\n",
    "def _cb_m2_m2(change):\n",
    "    if change['name'] == 'value':\n",
    "        adhesion_specs.formula['Binary']['M2']['M2'] = change.new\n",
    "        adhesion_specs.steer()\n",
    "\n",
    "slider_m1_m1 = ipywidgets.FloatSlider(\n",
    "    value=adhesion_specs.formula['Binary']['M1']['M1'],\n",
    "    min=-10,\n",
    "    max=10,\n",
    "    step=0.1,\n",
    "    continuous_update=False,\n",
    "    description='M1-M1'\n",
    ")\n",
    "slider_m1_m2 = ipywidgets.FloatSlider(\n",
    "    value=adhesion_specs.formula['Binary']['M1']['M2'],\n",
    "    min=-10,\n",
    "    max=10,\n",
    "    step=0.1,\n",
    "    continuous_update=False,\n",
    "    description='M1-M2'\n",
    ")\n",
    "slider_m2_m2 = ipywidgets.FloatSlider(\n",
    "    value=adhesion_specs.formula['Binary']['M2']['M2'],\n",
    "    min=-10,\n",
    "    max=10,\n",
    "    step=0.1,\n",
    "    continuous_update=False,\n",
    "    description='M2-M2'\n",
    ")\n",
    "\n",
    "slider_m1_m1.observe(_cb_m1_m1, names='value')\n",
    "slider_m1_m2.observe(_cb_m1_m2, names='value')\n",
    "slider_m2_m2.observe(_cb_m2_m2, names='value')"
   ]
  },
  {
   "cell_type": "markdown",
   "id": "24f1c306",
   "metadata": {},
   "source": [
    "Visualization\n",
    "--------------\n",
    "\n",
    "Show a single frame to visualize simulation data as it is generated and all steering widgets."
   ]
  },
  {
   "cell_type": "code",
   "execution_count": 8,
   "id": "06145074",
   "metadata": {
    "scrolled": false
   },
   "outputs": [
    {
     "data": {
      "application/vnd.jupyter.widget-view+json": {
       "model_id": "6fc0b8f907284553b1a9f2197eb2a274",
       "version_major": 2,
       "version_minor": 0
      },
      "text/plain": [
       "CC3DViewInteractiveWidget(height=600, layout=Layout(height='auto', width='100%'), width=600)"
      ]
     },
     "metadata": {},
     "output_type": "display_data"
    },
    {
     "data": {
      "application/vnd.jupyter.widget-view+json": {
       "model_id": "494368d278de4ed5bc08ca48b7100176",
       "version_major": 2,
       "version_minor": 0
      },
      "text/plain": [
       "FloatSlider(value=-10.0, continuous_update=False, description='M1-M1', max=10.0, min=-10.0)"
      ]
     },
     "metadata": {},
     "output_type": "display_data"
    },
    {
     "data": {
      "application/vnd.jupyter.widget-view+json": {
       "model_id": "32d2846be4bb4421a71b81914bc8617a",
       "version_major": 2,
       "version_minor": 0
      },
      "text/plain": [
       "FloatSlider(value=0.0, continuous_update=False, description='M1-M2', max=10.0, min=-10.0)"
      ]
     },
     "metadata": {},
     "output_type": "display_data"
    },
    {
     "data": {
      "application/vnd.jupyter.widget-view+json": {
       "model_id": "656e5ce716454e12acd521a513711662",
       "version_major": 2,
       "version_minor": 0
      },
      "text/plain": [
       "FloatSlider(value=10.0, continuous_update=False, description='M2-M2', max=10.0, min=-10.0)"
      ]
     },
     "metadata": {},
     "output_type": "display_data"
    },
    {
     "data": {
      "application/vnd.jupyter.widget-view+json": {
       "model_id": "f3d03e1df49b4d70ab9a4a83eea4d352",
       "version_major": 2,
       "version_minor": 0
      },
      "text/plain": [
       "ToggleButton(value=False, description='Run Simulation')"
      ]
     },
     "metadata": {},
     "output_type": "display_data"
    }
   ],
   "source": [
    "from IPython.display import display\n",
    "\n",
    "cc3d_sim.visualize(plot_freq=10).show()\n",
    "display(slider_m1_m1)\n",
    "display(slider_m1_m2)\n",
    "display(slider_m2_m2)\n",
    "display(cc3d_sim.jupyter_run_button())"
   ]
  }
 ],
 "metadata": {
  "kernelspec": {
   "display_name": "cc3d_env",
   "language": "python",
   "name": "python3"
  },
  "language_info": {
   "codemirror_mode": {
    "name": "ipython",
    "version": 3
   },
   "file_extension": ".py",
   "mimetype": "text/x-python",
   "name": "python",
   "nbconvert_exporter": "python",
   "pygments_lexer": "ipython3",
   "version": "3.10.17"
  }
 },
 "nbformat": 4,
 "nbformat_minor": 5
}
