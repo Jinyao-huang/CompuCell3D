{
 "cells": [
  {
   "cell_type": "markdown",
   "id": "b4c9d312",
   "metadata": {},
   "source": [
    "Chemotaxis Demo\n",
    "================\n",
    "\n",
    "This example demonstrates how to specify, execute and visualize an interactive\n",
    "CC3D simulation of 2D chemotaxis in pure Python."
   ]
  },
  {
   "cell_type": "markdown",
   "id": "971b0f81",
   "metadata": {},
   "source": [
    "Basic Setup\n",
    "------------\n",
    "\n",
    "An interactive CC3D simulation can be initialized from a list of core specs. \n",
    "Start a list of core specs that define the simulation by specifying a \n",
    "two-dimensional simulation with a 100x100 lattice and second-order Potts neighborhood."
   ]
  },
  {
   "cell_type": "code",
   "execution_count": 2,
   "id": "d72b4a5b",
   "metadata": {},
   "outputs": [],
   "source": [
    "from cc3d.core.PyCoreSpecs import PottsCore\n",
    "\n",
    "specs = [PottsCore(dim_x=100, dim_y=100, neighbor_order=2)]"
   ]
  },
  {
   "cell_type": "markdown",
   "id": "c58fbf34",
   "metadata": {},
   "source": [
    "Cell Types\n",
    "-----------\n",
    "\n",
    "Define four cell types called \"T1\" through \"T4\"."
   ]
  },
  {
   "cell_type": "code",
   "execution_count": 3,
   "id": "b5c14b81",
   "metadata": {},
   "outputs": [],
   "source": [
    "from cc3d.core.PyCoreSpecs import CellTypePlugin\n",
    "\n",
    "cell_types = [\"T1\", \"T2\", \"T3\", \"T4\"]\n",
    "cell_type_specs = CellTypePlugin(*cell_types)\n",
    "specs.append(cell_type_specs)"
   ]
  },
  {
   "cell_type": "markdown",
   "id": "2a5d87b4",
   "metadata": {},
   "source": [
    "Volume Constraint\n",
    "------------------\n",
    "\n",
    "Assign a volume constraint to all cell types.."
   ]
  },
  {
   "cell_type": "code",
   "execution_count": 4,
   "id": "897edbdf",
   "metadata": {},
   "outputs": [],
   "source": [
    "from cc3d.core.PyCoreSpecs import VolumePlugin\n",
    "\n",
    "target_volume = 25\n",
    "lambda_volume = 2\n",
    "volume_specs = VolumePlugin()\n",
    "[volume_specs.param_new(ct, target_volume=target_volume, lambda_volume=lambda_volume) for ct in cell_types]\n",
    "specs.append(volume_specs)"
   ]
  },
  {
   "cell_type": "markdown",
   "id": "09dfa27d",
   "metadata": {},
   "source": [
    "Adhesion\n",
    "---------\n",
    "\n",
    "Assign uniform adhesion to all cells."
   ]
  },
  {
   "cell_type": "code",
   "execution_count": 5,
   "id": "fc5d0bb5",
   "metadata": {},
   "outputs": [],
   "source": [
    "from cc3d.core.PyCoreSpecs import ContactPlugin\n",
    "\n",
    "contact_specs = ContactPlugin(neighbor_order=2)\n",
    "for x1 in range(len(cell_types)):\n",
    "    contact_specs.param_new(type_1=\"Medium\", type_2=cell_types[x1], energy=16)\n",
    "    for x2 in range(x1, len(cell_types)):\n",
    "        contact_specs.param_new(type_1=cell_types[x1], type_2=cell_types[x2], energy=16)\n",
    "specs.append(contact_specs)"
   ]
  },
  {
   "cell_type": "markdown",
   "id": "f69d7c01",
   "metadata": {},
   "source": [
    "Cell Distribution Initialization\n",
    "---------------------------------\n",
    "\n",
    "Initialize cells as a blob with a random distribution by type."
   ]
  },
  {
   "cell_type": "code",
   "execution_count": 6,
   "id": "cb3af513",
   "metadata": {},
   "outputs": [],
   "source": [
    "from cc3d.core.PyCoreSpecs import BlobInitializer\n",
    "\n",
    "blob_init_specs = BlobInitializer()\n",
    "blob_init_specs.region_new(width=5, radius=20, center=(50, 50, 0), cell_types=cell_types)\n",
    "specs.append(blob_init_specs)"
   ]
  },
  {
   "cell_type": "markdown",
   "id": "3c11effb",
   "metadata": {},
   "source": [
    "Diffusion\n",
    "----------\n",
    "\n",
    "Set up a diffusion field \"F1\" using DiffusionSolverFE.\n",
    "Make the field have no flux conditions along the y-direction, value 0 along -x and value 1 along +x\n",
    "Initialize the field with a steady state solution.\n",
    "Use fluctuation compensator. \n",
    "\n",
    "Then, set up another diffusion field \"F2\" using ReactionDiffusionSolverFE.\n",
    "Make the field have no flux conditions along the x-direction, value 0 along -y and value 1 along +y\n",
    "Use fluctuation compensator."
   ]
  },
  {
   "cell_type": "code",
   "execution_count": 7,
   "id": "2f4b2dc4",
   "metadata": {},
   "outputs": [],
   "source": [
    "from cc3d.core.PyCoreSpecs import PDEBOUNDARYFLUX, DiffusionSolverFE, ReactionDiffusionSolverFE\n",
    "\n",
    "f1_solver_specs = DiffusionSolverFE()  # Instantiate solver\n",
    "f1 = f1_solver_specs.field_new(\"F1\")  # Declare a field for this solver\n",
    "f1.diff_data.decay_global = 1E-4  # Set global decay coefficient\n",
    "# Set type-specific diffusion and decay coefficients\n",
    "f1.diff_data.diff_types[\"Medium\"] = 0.1\n",
    "for ct in cell_types:\n",
    "    f1.diff_data.decay_types[ct] = 0.01\n",
    "# Set boundary conditions: Neumann on top and bottom, 0 on left, 1 on right\n",
    "f1.bcs.y_min_type = f1.bcs.y_max_type = PDEBOUNDARYFLUX\n",
    "f1.bcs.x_max_val = 1.0\n",
    "f1.diff_data.init_expression = \"x / 100\"  # Initialize with steady-state solution\n",
    "f1_solver_specs.fluc_comp = True  # Enable fluctuation compensator\n",
    "specs.append(f1_solver_specs)\n",
    "\n",
    "f2_solver_specs = ReactionDiffusionSolverFE()  # Instantiate solver\n",
    "f2 = f2_solver_specs.field_new(\"F2\")  # Declare a field for this solver\n",
    "f2.diff_data.decay_global = 1E-4  # Set global decay coefficient\n",
    "# Set type-specific diffusion and decay coefficients\n",
    "f2.diff_data.diff_types[\"Medium\"] = 0.2\n",
    "# Set boundary conditions: Neumann on left and right, 0 on bottom, 1 on top\n",
    "f2.bcs.x_min_type = f2.bcs.x_max_type = PDEBOUNDARYFLUX\n",
    "f2.bcs.y_max_val = 1.0\n",
    "f2_solver_specs.fluc_comp = True  # Enable fluctuation compensator\n",
    "specs.append(f2_solver_specs)"
   ]
  },
  {
   "cell_type": "markdown",
   "id": "00416f71",
   "metadata": {},
   "source": [
    "Chemotaxis\n",
    "-----------\n",
    "\n",
    "Make two cell types chemotax along \"F1\", and the other two chemotax along \"F2\".\n",
    "For both fields, make each cell type chemotax in the opposite direction."
   ]
  },
  {
   "cell_type": "code",
   "execution_count": 8,
   "id": "fd860505",
   "metadata": {},
   "outputs": [],
   "source": [
    "from cc3d.core.PyCoreSpecs import ChemotaxisPlugin\n",
    "\n",
    "lambda_chemotaxis = 5E1\n",
    "chemotaxis_specs = ChemotaxisPlugin()\n",
    "cs = chemotaxis_specs.param_new(\"F1\", \"DiffusionSolverFE\")\n",
    "cs.params_new(cell_types[0], lambda_chemotaxis)\n",
    "cs.params_new(cell_types[1], -lambda_chemotaxis)\n",
    "cs = chemotaxis_specs.param_new(\"F2\", \"ReactionDiffusionSolverFE\")\n",
    "cs.params_new(cell_types[2], lambda_chemotaxis)\n",
    "cs.params_new(cell_types[3], -lambda_chemotaxis)\n",
    "specs.append(chemotaxis_specs)"
   ]
  },
  {
   "cell_type": "markdown",
   "id": "cd834a1f",
   "metadata": {},
   "source": [
    "Simulation Launch\n",
    "------------------\n",
    "\n",
    "Initialize a CC3D simulation service instance and register all simulation specification."
   ]
  },
  {
   "cell_type": "code",
   "execution_count": 9,
   "id": "ce87882b",
   "metadata": {},
   "outputs": [
    {
     "name": "stdout",
     "output_type": "stream",
     "text": [
      "WILL RUN SIMULATION FROM BEGINNING\n"
     ]
    },
    {
     "name": "stderr",
     "output_type": "stream",
     "text": [
      "Random number generator: MersenneTwister\n"
     ]
    },
    {
     "data": {
      "text/plain": [
       "True"
      ]
     },
     "execution_count": 9,
     "metadata": {},
     "output_type": "execute_result"
    }
   ],
   "source": [
    "from cc3d.core.simservice.CC3DSimService import CC3DSimService\n",
    "\n",
    "cc3d_sim = CC3DSimService()\n",
    "cc3d_sim.register_specs(specs)\n",
    "cc3d_sim.run()\n",
    "cc3d_sim.init()\n",
    "cc3d_sim.start()"
   ]
  },
  {
   "cell_type": "markdown",
   "id": "c42b068b",
   "metadata": {},
   "source": [
    "Visualization\n",
    "--------------\n",
    "\n",
    "Show a frame for the cell field and each diffusion field to visualize simulation data as it is generated.\n",
    "Place all frames in a grid to review all simulation results simultaneously. "
   ]
  },
  {
   "cell_type": "code",
   "execution_count": 11,
   "id": "78021626",
   "metadata": {},
   "outputs": [
    {
     "name": "stderr",
     "output_type": "stream",
     "text": [
      "\u001b[0m\u001b[31m2025-06-24 16:34:23.756 (  31.257s) [            340B]     vtkLookupTable.cxx:173    ERR| vtkLookupTable (0x329afdc00): Bad table range: [1, 0.99]\u001b[0m\n",
      "\u001b[0m\u001b[31m2025-06-24 16:34:23.789 (  31.290s) [            340B]     vtkLookupTable.cxx:173    ERR| vtkLookupTable (0x329afdc00): Bad table range: [1, 0.99]\u001b[0m\n",
      "\u001b[0m\u001b[31m2025-06-24 16:34:23.827 (  31.327s) [            340B]     vtkLookupTable.cxx:173    ERR| vtkLookupTable (0x32a244dd0): Bad table range: [1, 0]\u001b[0m\n",
      "\u001b[0m\u001b[31m2025-06-24 16:34:23.858 (  31.359s) [            340B]     vtkLookupTable.cxx:173    ERR| vtkLookupTable (0x32a244dd0): Bad table range: [1, 0]\u001b[0m\n"
     ]
    },
    {
     "data": {
      "application/vnd.jupyter.widget-view+json": {
       "model_id": "3a065a98797d498da816c34ad9cad291",
       "version_major": 2,
       "version_minor": 0
      },
      "text/plain": [
       "HBox(children=(VBox(children=(Label(value='selected frames'), HBox(children=(ToggleButton(value=True, descript…"
      ]
     },
     "metadata": {},
     "output_type": "display_data"
    },
    {
     "data": {
      "application/vnd.jupyter.widget-view+json": {
       "model_id": "8fd40ef5744b4ad291f95a45bf4b00b2",
       "version_major": 2,
       "version_minor": 0
      },
      "text/plain": [
       "VBox(children=(HBox(children=(CC3DViewInteractiveWidget(height=600, layout=Layout(height='auto', width='100%')…"
      ]
     },
     "metadata": {},
     "output_type": "display_data"
    },
    {
     "data": {
      "application/vnd.jupyter.widget-view+json": {
       "model_id": "d815880fc8f74bbdaacf0d2339e3b127",
       "version_major": 2,
       "version_minor": 0
      },
      "text/plain": [
       "ToggleButton(value=False, description='Run Simulation')"
      ]
     },
     "metadata": {},
     "output_type": "display_data"
    }
   ],
   "source": [
    "from IPython.display import display\n",
    "from cc3d.core.GraphicsUtils.JupyterGraphicsFrameWidget import CC3DJupyterGraphicsFrameGrid\n",
    "\n",
    "frame_cells = cc3d_sim.visualize(plot_freq=10)\n",
    "frame_f1 = cc3d_sim.visualize(plot_freq=10)\n",
    "frame_f2 = cc3d_sim.visualize(plot_freq=10)\n",
    "\n",
    "# Set the field to display\n",
    "frame_f1.field_name = \"F1\"\n",
    "frame_f2.field_name = \"F2\"\n",
    "\n",
    "# Set min and max values on fields\n",
    "frame_f1.min_range_fixed = frame_f1.max_range_fixed = True\n",
    "frame_f2.min_range_fixed = frame_f2.max_range_fixed = True\n",
    "frame_f1.min_range = frame_f2.min_range = 0.0\n",
    "frame_f1.max_range = frame_f2.max_range = 1.0\n",
    "\n",
    "frame_grid = CC3DJupyterGraphicsFrameGrid(cols=3)\n",
    "frame_grid.set_frame(frame_cells, row=0, col=0)\n",
    "frame_grid.set_frame(frame_f1, row=0, col=1)\n",
    "frame_grid.set_frame(frame_f2, row=0, col=2)\n",
    "\n",
    "frame_grid.control_panel()\n",
    "frame_grid.show()\n",
    "display(cc3d_sim.jupyter_run_button())"
   ]
  }
 ],
 "metadata": {
  "kernelspec": {
   "display_name": "Python (cc3d_460_310)",
   "language": "python",
   "name": "cc3d_460_310"
  },
  "language_info": {
   "codemirror_mode": {
    "name": "ipython",
    "version": 3
   },
   "file_extension": ".py",
   "mimetype": "text/x-python",
   "name": "python",
   "nbconvert_exporter": "python",
   "pygments_lexer": "ipython3",
   "version": "3.10.13"
  }
 },
 "nbformat": 4,
 "nbformat_minor": 5
}
